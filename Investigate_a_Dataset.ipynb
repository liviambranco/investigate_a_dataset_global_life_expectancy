{
 "cells": [
  {
   "cell_type": "markdown",
   "metadata": {},
   "source": [
    "# Project: Investigate the Global Life Expectancy in the Last 50 years\n",
    "\n",
    "## Table of Contents\n",
    "<ul>\n",
    "<li><a href=\"#intro\">Introduction</a></li>\n",
    "<li><a href=\"#wrangling\">Data Wrangling</a></li>\n",
    "<li><a href=\"#cleaning\">Data Cleaning</a></li>\n",
    "<li><a href=\"#eda\">Exploratory Data Analysis</a></li>\n",
    "<li><a href=\"#conclusions\">Conclusions</a></li>\n",
    "</ul>"
   ]
  },
  {
   "cell_type": "markdown",
   "metadata": {},
   "source": [
    "<a id='intro'></a>\n",
    "## Introduction\n",
    "\n",
    "> The purpose of this research is to look at the global population life expectancy in the last 50 years. The datasets used in the analysis were downloaded from gapminder, an organization data collects and translates data about the world into statistics. These databases may be found at Gapminder's website https://www.gapminder.org/data/ . They are:\n",
    "\n",
    "- **Life Expectancy**: It is the average number of years a newborn will live should the present mortality patterns remain the same.\n",
    "\n",
    "- **Life Expectancy Female**: It is the average number of years a newborn female will live should the present mortality patterns remain the same.\n",
    "\n",
    "- **Life Expectancy Male**: It is the average number of years a newborn male will live should the present mortality patterns remain the same.\n",
    "\n",
    "- **Government Share of Health Spending**: Is the average of health expenditure per citizen that has been subsidized by the government in US Dollars.\n",
    "\n",
    "- **Gini Coefficient**: It represents the inequality in the society measured by the differences in income. The higher coefficient is, the grater the inequality. It represents how large are the income differences within a society.\n",
    "\n",
    "- **GDP Per Capita/Yearly Grow (PPP)**: It represents the yearly percentage growth rate of Gross Domestic Product (PPP) per capita in terms of purchasing power. This theory compares and measures different currencies among countries in terms of purchasing power. Where, PPP stands for the purchasing power parity (PPP). The GDP per capita is calculated by dividing value of all final goods and services produced by midyear population of the country.\n",
    "\n",
    ">This report intends to see if there is a relation between life expectancy and economic variables. To evaluate if economic or health economic variable, such as, the Government Share of Health Spending, may impact the increase or decrease a population's life expectancy.\n",
    "\n",
    "The questions this report is looking to answer are:\n",
    "\n",
    "**Female and Male Life Expectancies**\n",
    "- In the last 50, which group had the higher average life expectancy, female or male?\n",
    "- What country has the lowest average life expectancy for women?\n",
    "- What country has the highest average life expectancy for women?\n",
    "- What country has the lowest average life expectancy for men?\n",
    "- What country has the highest average life expectancy for men?\n",
    "\n",
    "**General Life Expectancy**\n",
    "- What are the bottom 10 countries in average general life expectancy?\n",
    "- What are the top 10 countries in average general life expectancy?\n",
    "\n",
    "**Government Health Spending and General Life Expectancy**\n",
    "- Is there a relationship between government health spending and life expectancy? Can government health spending contribute to a higher or lower life expectancy?\n",
    "- What are the top 10 countries in average government health spending?\n",
    "- Are the top 10 countries in average government health spending among the top 10 countries in average life expectancy?\n",
    "- What are the bottom 10 countries in average government health spending? \n",
    "- Are the bottom 10 countries in average government health spending among the bottom 10 countries in average life expectancy? \n",
    "\n",
    "**Gini Coefficient and General Life Expectancy**\n",
    "- Is there a relationship between the development index (Gini) and life expectancy? Can a low Gini Index contribute to a higher or lower life expectancy?\n",
    "- What are the top 10 countries in average Gini Coefficient?\n",
    "- Are the top 10 countries in average Gini Coefficient among the top 10 countries in average life expectancy?\n",
    "- What are the bottom 10 countries in average Gini Coefficient? \n",
    "- Are the bottom 10 countries in average Gini Coefficient among the bottom 10 countries in average life expectancy?\n",
    "\n",
    "**GDP Per Capita and General Life Expectancy**\n",
    "- Is there a relationship between the GDP per capita and life expectancy? Can a higher GDP per capita contribute to a higher or lower life expectancy?\n",
    "- What are the top 10 countries in average GDP per capita?\n",
    "- Are the top 10 countries GDP within the top 10 countries with the highest life expectancy?\n",
    "- What are the bottom 10 countries in average GDP per capita? \n",
    "- Are the bottom 10 countries GDP within the bottom 10 countries with the lowest life expectancy?\n"
   ]
  },
  {
   "cell_type": "markdown",
   "metadata": {},
   "source": [
    "<a id='wrangling'></a>\n",
    "## Data Wrangling\n",
    "\n",
    ">In this section of the report, the data will be loaded and inspected. By the end of it it will be clear all data that must be trimmed, cleaned and modified in order to enhance the analysis.\n",
    "\n",
    "### General Properties\n",
    "#### Import packages"
   ]
  },
  {
   "cell_type": "code",
   "execution_count": 446,
   "metadata": {},
   "outputs": [],
   "source": [
    "import pandas as pd\n",
    "import numpy as np\n",
    "import matplotlib.pyplot as plt\n",
    "import seaborn as sns\n",
    "sns.set_style ('darkgrid')\n",
    "sns.set(style=\"ticks\", color_codes=True)\n",
    "\n",
    "%matplotlib inline"
   ]
  },
  {
   "cell_type": "markdown",
   "metadata": {},
   "source": [
    "#### Load data"
   ]
  },
  {
   "cell_type": "code",
   "execution_count": 447,
   "metadata": {},
   "outputs": [],
   "source": [
    "life_exp = pd.read_csv('life_expectancy.csv', index_col='country')\n",
    "life_exp_f = pd.read_csv('life_expectancy_f.csv', index_col='country')\n",
    "life_exp_m = pd.read_csv('life_expectancy_m.csv', index_col='country')\n",
    "gdp = pd.read_csv('gdp.csv', index_col='country')\n",
    "gini = pd.read_csv('gini.csv', index_col='country')\n",
    "health_exp = pd.read_csv('health.csv', index_col='country')"
   ]
  },
  {
   "cell_type": "markdown",
   "metadata": {},
   "source": [
    "#### Inspect data\n",
    "\n",
    " - We will look at the first few rows (df.head()) to have an idea of how each DataFrame looks like.\n",
    " - We will use df.info()to see a concise summary of a DataFrame.\n",
    " - We will look for NaN data (df.isna().sum().any())."
   ]
  },
  {
   "cell_type": "code",
   "execution_count": 448,
   "metadata": {},
   "outputs": [
    {
     "data": {
      "text/html": [
       "<div>\n",
       "<style scoped>\n",
       "    .dataframe tbody tr th:only-of-type {\n",
       "        vertical-align: middle;\n",
       "    }\n",
       "\n",
       "    .dataframe tbody tr th {\n",
       "        vertical-align: top;\n",
       "    }\n",
       "\n",
       "    .dataframe thead th {\n",
       "        text-align: right;\n",
       "    }\n",
       "</style>\n",
       "<table border=\"1\" class=\"dataframe\">\n",
       "  <thead>\n",
       "    <tr style=\"text-align: right;\">\n",
       "      <th></th>\n",
       "      <th>1800</th>\n",
       "      <th>1801</th>\n",
       "      <th>1802</th>\n",
       "      <th>1803</th>\n",
       "      <th>1804</th>\n",
       "      <th>1805</th>\n",
       "      <th>1806</th>\n",
       "      <th>1807</th>\n",
       "      <th>1808</th>\n",
       "      <th>1809</th>\n",
       "      <th>...</th>\n",
       "      <th>2091</th>\n",
       "      <th>2092</th>\n",
       "      <th>2093</th>\n",
       "      <th>2094</th>\n",
       "      <th>2095</th>\n",
       "      <th>2096</th>\n",
       "      <th>2097</th>\n",
       "      <th>2098</th>\n",
       "      <th>2099</th>\n",
       "      <th>2100</th>\n",
       "    </tr>\n",
       "    <tr>\n",
       "      <th>country</th>\n",
       "      <th></th>\n",
       "      <th></th>\n",
       "      <th></th>\n",
       "      <th></th>\n",
       "      <th></th>\n",
       "      <th></th>\n",
       "      <th></th>\n",
       "      <th></th>\n",
       "      <th></th>\n",
       "      <th></th>\n",
       "      <th></th>\n",
       "      <th></th>\n",
       "      <th></th>\n",
       "      <th></th>\n",
       "      <th></th>\n",
       "      <th></th>\n",
       "      <th></th>\n",
       "      <th></th>\n",
       "      <th></th>\n",
       "      <th></th>\n",
       "      <th></th>\n",
       "    </tr>\n",
       "  </thead>\n",
       "  <tbody>\n",
       "    <tr>\n",
       "      <th>Afghanistan</th>\n",
       "      <td>28.2</td>\n",
       "      <td>28.2</td>\n",
       "      <td>28.2</td>\n",
       "      <td>28.2</td>\n",
       "      <td>28.2</td>\n",
       "      <td>28.2</td>\n",
       "      <td>28.1</td>\n",
       "      <td>28.1</td>\n",
       "      <td>28.1</td>\n",
       "      <td>28.1</td>\n",
       "      <td>...</td>\n",
       "      <td>76.5</td>\n",
       "      <td>76.6</td>\n",
       "      <td>76.7</td>\n",
       "      <td>76.9</td>\n",
       "      <td>77.0</td>\n",
       "      <td>77.1</td>\n",
       "      <td>77.3</td>\n",
       "      <td>77.4</td>\n",
       "      <td>77.5</td>\n",
       "      <td>77.7</td>\n",
       "    </tr>\n",
       "    <tr>\n",
       "      <th>Albania</th>\n",
       "      <td>35.4</td>\n",
       "      <td>35.4</td>\n",
       "      <td>35.4</td>\n",
       "      <td>35.4</td>\n",
       "      <td>35.4</td>\n",
       "      <td>35.4</td>\n",
       "      <td>35.4</td>\n",
       "      <td>35.4</td>\n",
       "      <td>35.4</td>\n",
       "      <td>35.4</td>\n",
       "      <td>...</td>\n",
       "      <td>87.4</td>\n",
       "      <td>87.5</td>\n",
       "      <td>87.6</td>\n",
       "      <td>87.7</td>\n",
       "      <td>87.8</td>\n",
       "      <td>87.9</td>\n",
       "      <td>88.0</td>\n",
       "      <td>88.1</td>\n",
       "      <td>88.2</td>\n",
       "      <td>88.3</td>\n",
       "    </tr>\n",
       "    <tr>\n",
       "      <th>Algeria</th>\n",
       "      <td>28.8</td>\n",
       "      <td>28.8</td>\n",
       "      <td>28.8</td>\n",
       "      <td>28.8</td>\n",
       "      <td>28.8</td>\n",
       "      <td>28.8</td>\n",
       "      <td>28.8</td>\n",
       "      <td>28.8</td>\n",
       "      <td>28.8</td>\n",
       "      <td>28.8</td>\n",
       "      <td>...</td>\n",
       "      <td>88.3</td>\n",
       "      <td>88.4</td>\n",
       "      <td>88.5</td>\n",
       "      <td>88.6</td>\n",
       "      <td>88.7</td>\n",
       "      <td>88.8</td>\n",
       "      <td>88.9</td>\n",
       "      <td>89.0</td>\n",
       "      <td>89.1</td>\n",
       "      <td>89.2</td>\n",
       "    </tr>\n",
       "    <tr>\n",
       "      <th>Andorra</th>\n",
       "      <td>NaN</td>\n",
       "      <td>NaN</td>\n",
       "      <td>NaN</td>\n",
       "      <td>NaN</td>\n",
       "      <td>NaN</td>\n",
       "      <td>NaN</td>\n",
       "      <td>NaN</td>\n",
       "      <td>NaN</td>\n",
       "      <td>NaN</td>\n",
       "      <td>NaN</td>\n",
       "      <td>...</td>\n",
       "      <td>NaN</td>\n",
       "      <td>NaN</td>\n",
       "      <td>NaN</td>\n",
       "      <td>NaN</td>\n",
       "      <td>NaN</td>\n",
       "      <td>NaN</td>\n",
       "      <td>NaN</td>\n",
       "      <td>NaN</td>\n",
       "      <td>NaN</td>\n",
       "      <td>NaN</td>\n",
       "    </tr>\n",
       "    <tr>\n",
       "      <th>Angola</th>\n",
       "      <td>27.0</td>\n",
       "      <td>27.0</td>\n",
       "      <td>27.0</td>\n",
       "      <td>27.0</td>\n",
       "      <td>27.0</td>\n",
       "      <td>27.0</td>\n",
       "      <td>27.0</td>\n",
       "      <td>27.0</td>\n",
       "      <td>27.0</td>\n",
       "      <td>27.0</td>\n",
       "      <td>...</td>\n",
       "      <td>78.7</td>\n",
       "      <td>78.9</td>\n",
       "      <td>79.0</td>\n",
       "      <td>79.1</td>\n",
       "      <td>79.3</td>\n",
       "      <td>79.4</td>\n",
       "      <td>79.5</td>\n",
       "      <td>79.7</td>\n",
       "      <td>79.8</td>\n",
       "      <td>79.9</td>\n",
       "    </tr>\n",
       "  </tbody>\n",
       "</table>\n",
       "<p>5 rows × 301 columns</p>\n",
       "</div>"
      ],
      "text/plain": [
       "             1800  1801  1802  1803  1804  1805  1806  1807  1808  1809  ...   \\\n",
       "country                                                                  ...    \n",
       "Afghanistan  28.2  28.2  28.2  28.2  28.2  28.2  28.1  28.1  28.1  28.1  ...    \n",
       "Albania      35.4  35.4  35.4  35.4  35.4  35.4  35.4  35.4  35.4  35.4  ...    \n",
       "Algeria      28.8  28.8  28.8  28.8  28.8  28.8  28.8  28.8  28.8  28.8  ...    \n",
       "Andorra       NaN   NaN   NaN   NaN   NaN   NaN   NaN   NaN   NaN   NaN  ...    \n",
       "Angola       27.0  27.0  27.0  27.0  27.0  27.0  27.0  27.0  27.0  27.0  ...    \n",
       "\n",
       "             2091  2092  2093  2094  2095  2096  2097  2098  2099  2100  \n",
       "country                                                                  \n",
       "Afghanistan  76.5  76.6  76.7  76.9  77.0  77.1  77.3  77.4  77.5  77.7  \n",
       "Albania      87.4  87.5  87.6  87.7  87.8  87.9  88.0  88.1  88.2  88.3  \n",
       "Algeria      88.3  88.4  88.5  88.6  88.7  88.8  88.9  89.0  89.1  89.2  \n",
       "Andorra       NaN   NaN   NaN   NaN   NaN   NaN   NaN   NaN   NaN   NaN  \n",
       "Angola       78.7  78.9  79.0  79.1  79.3  79.4  79.5  79.7  79.8  79.9  \n",
       "\n",
       "[5 rows x 301 columns]"
      ]
     },
     "execution_count": 448,
     "metadata": {},
     "output_type": "execute_result"
    }
   ],
   "source": [
    "life_exp.head()"
   ]
  },
  {
   "cell_type": "code",
   "execution_count": 449,
   "metadata": {},
   "outputs": [
    {
     "name": "stdout",
     "output_type": "stream",
     "text": [
      "<class 'pandas.core.frame.DataFrame'>\n",
      "Index: 187 entries, Afghanistan to Zimbabwe\n",
      "Columns: 301 entries, 1800 to 2100\n",
      "dtypes: float64(301)\n",
      "memory usage: 441.2+ KB\n"
     ]
    }
   ],
   "source": [
    "life_exp.info()"
   ]
  },
  {
   "cell_type": "code",
   "execution_count": 450,
   "metadata": {},
   "outputs": [
    {
     "data": {
      "text/plain": [
       "True"
      ]
     },
     "execution_count": 450,
     "metadata": {},
     "output_type": "execute_result"
    }
   ],
   "source": [
    "life_exp.isna().sum().any()"
   ]
  },
  {
   "cell_type": "code",
   "execution_count": 451,
   "metadata": {},
   "outputs": [
    {
     "data": {
      "text/html": [
       "<div>\n",
       "<style scoped>\n",
       "    .dataframe tbody tr th:only-of-type {\n",
       "        vertical-align: middle;\n",
       "    }\n",
       "\n",
       "    .dataframe tbody tr th {\n",
       "        vertical-align: top;\n",
       "    }\n",
       "\n",
       "    .dataframe thead th {\n",
       "        text-align: right;\n",
       "    }\n",
       "</style>\n",
       "<table border=\"1\" class=\"dataframe\">\n",
       "  <thead>\n",
       "    <tr style=\"text-align: right;\">\n",
       "      <th></th>\n",
       "      <th>1950</th>\n",
       "      <th>1951</th>\n",
       "      <th>1952</th>\n",
       "      <th>1953</th>\n",
       "      <th>1954</th>\n",
       "      <th>1955</th>\n",
       "      <th>1956</th>\n",
       "      <th>1957</th>\n",
       "      <th>1958</th>\n",
       "      <th>1959</th>\n",
       "      <th>...</th>\n",
       "      <th>2090</th>\n",
       "      <th>2091</th>\n",
       "      <th>2092</th>\n",
       "      <th>2093</th>\n",
       "      <th>2094</th>\n",
       "      <th>2095</th>\n",
       "      <th>2096</th>\n",
       "      <th>2097</th>\n",
       "      <th>2098</th>\n",
       "      <th>2099</th>\n",
       "    </tr>\n",
       "    <tr>\n",
       "      <th>country</th>\n",
       "      <th></th>\n",
       "      <th></th>\n",
       "      <th></th>\n",
       "      <th></th>\n",
       "      <th></th>\n",
       "      <th></th>\n",
       "      <th></th>\n",
       "      <th></th>\n",
       "      <th></th>\n",
       "      <th></th>\n",
       "      <th></th>\n",
       "      <th></th>\n",
       "      <th></th>\n",
       "      <th></th>\n",
       "      <th></th>\n",
       "      <th></th>\n",
       "      <th></th>\n",
       "      <th></th>\n",
       "      <th></th>\n",
       "      <th></th>\n",
       "      <th></th>\n",
       "    </tr>\n",
       "  </thead>\n",
       "  <tbody>\n",
       "    <tr>\n",
       "      <th>Afghanistan</th>\n",
       "      <td>28.4</td>\n",
       "      <td>28.6</td>\n",
       "      <td>29.2</td>\n",
       "      <td>29.7</td>\n",
       "      <td>30.2</td>\n",
       "      <td>30.7</td>\n",
       "      <td>31.2</td>\n",
       "      <td>31.7</td>\n",
       "      <td>32.2</td>\n",
       "      <td>32.7</td>\n",
       "      <td>...</td>\n",
       "      <td>79.1</td>\n",
       "      <td>79.2</td>\n",
       "      <td>79.4</td>\n",
       "      <td>79.5</td>\n",
       "      <td>79.6</td>\n",
       "      <td>79.7</td>\n",
       "      <td>79.9</td>\n",
       "      <td>80.0</td>\n",
       "      <td>80.1</td>\n",
       "      <td>80.2</td>\n",
       "    </tr>\n",
       "    <tr>\n",
       "      <th>Albania</th>\n",
       "      <td>55.2</td>\n",
       "      <td>55.3</td>\n",
       "      <td>55.7</td>\n",
       "      <td>56.3</td>\n",
       "      <td>56.9</td>\n",
       "      <td>57.7</td>\n",
       "      <td>58.7</td>\n",
       "      <td>59.8</td>\n",
       "      <td>60.9</td>\n",
       "      <td>62.1</td>\n",
       "      <td>...</td>\n",
       "      <td>89.9</td>\n",
       "      <td>90.0</td>\n",
       "      <td>90.1</td>\n",
       "      <td>90.2</td>\n",
       "      <td>90.3</td>\n",
       "      <td>90.5</td>\n",
       "      <td>90.6</td>\n",
       "      <td>90.7</td>\n",
       "      <td>90.8</td>\n",
       "      <td>90.9</td>\n",
       "    </tr>\n",
       "    <tr>\n",
       "      <th>Algeria</th>\n",
       "      <td>42.7</td>\n",
       "      <td>42.9</td>\n",
       "      <td>43.3</td>\n",
       "      <td>43.7</td>\n",
       "      <td>44.2</td>\n",
       "      <td>44.6</td>\n",
       "      <td>45.0</td>\n",
       "      <td>45.5</td>\n",
       "      <td>45.9</td>\n",
       "      <td>46.4</td>\n",
       "      <td>...</td>\n",
       "      <td>88.4</td>\n",
       "      <td>88.5</td>\n",
       "      <td>88.6</td>\n",
       "      <td>88.7</td>\n",
       "      <td>88.8</td>\n",
       "      <td>89.0</td>\n",
       "      <td>89.1</td>\n",
       "      <td>89.2</td>\n",
       "      <td>89.3</td>\n",
       "      <td>89.4</td>\n",
       "    </tr>\n",
       "    <tr>\n",
       "      <th>Angola</th>\n",
       "      <td>32.4</td>\n",
       "      <td>32.5</td>\n",
       "      <td>32.7</td>\n",
       "      <td>32.9</td>\n",
       "      <td>33.1</td>\n",
       "      <td>33.3</td>\n",
       "      <td>33.6</td>\n",
       "      <td>33.8</td>\n",
       "      <td>34.1</td>\n",
       "      <td>34.4</td>\n",
       "      <td>...</td>\n",
       "      <td>78.0</td>\n",
       "      <td>78.1</td>\n",
       "      <td>78.2</td>\n",
       "      <td>78.3</td>\n",
       "      <td>78.5</td>\n",
       "      <td>78.6</td>\n",
       "      <td>78.7</td>\n",
       "      <td>78.8</td>\n",
       "      <td>78.9</td>\n",
       "      <td>79.0</td>\n",
       "    </tr>\n",
       "    <tr>\n",
       "      <th>Antigua and Barbuda</th>\n",
       "      <td>59.8</td>\n",
       "      <td>60.0</td>\n",
       "      <td>60.5</td>\n",
       "      <td>61.0</td>\n",
       "      <td>61.5</td>\n",
       "      <td>61.9</td>\n",
       "      <td>62.4</td>\n",
       "      <td>62.9</td>\n",
       "      <td>63.3</td>\n",
       "      <td>63.7</td>\n",
       "      <td>...</td>\n",
       "      <td>87.9</td>\n",
       "      <td>88.0</td>\n",
       "      <td>88.2</td>\n",
       "      <td>88.3</td>\n",
       "      <td>88.4</td>\n",
       "      <td>88.5</td>\n",
       "      <td>88.6</td>\n",
       "      <td>88.7</td>\n",
       "      <td>88.8</td>\n",
       "      <td>88.9</td>\n",
       "    </tr>\n",
       "  </tbody>\n",
       "</table>\n",
       "<p>5 rows × 150 columns</p>\n",
       "</div>"
      ],
      "text/plain": [
       "                     1950  1951  1952  1953  1954  1955  1956  1957  1958  \\\n",
       "country                                                                     \n",
       "Afghanistan          28.4  28.6  29.2  29.7  30.2  30.7  31.2  31.7  32.2   \n",
       "Albania              55.2  55.3  55.7  56.3  56.9  57.7  58.7  59.8  60.9   \n",
       "Algeria              42.7  42.9  43.3  43.7  44.2  44.6  45.0  45.5  45.9   \n",
       "Angola               32.4  32.5  32.7  32.9  33.1  33.3  33.6  33.8  34.1   \n",
       "Antigua and Barbuda  59.8  60.0  60.5  61.0  61.5  61.9  62.4  62.9  63.3   \n",
       "\n",
       "                     1959  ...   2090  2091  2092  2093  2094  2095  2096  \\\n",
       "country                    ...                                              \n",
       "Afghanistan          32.7  ...   79.1  79.2  79.4  79.5  79.6  79.7  79.9   \n",
       "Albania              62.1  ...   89.9  90.0  90.1  90.2  90.3  90.5  90.6   \n",
       "Algeria              46.4  ...   88.4  88.5  88.6  88.7  88.8  89.0  89.1   \n",
       "Angola               34.4  ...   78.0  78.1  78.2  78.3  78.5  78.6  78.7   \n",
       "Antigua and Barbuda  63.7  ...   87.9  88.0  88.2  88.3  88.4  88.5  88.6   \n",
       "\n",
       "                     2097  2098  2099  \n",
       "country                                \n",
       "Afghanistan          80.0  80.1  80.2  \n",
       "Albania              90.7  90.8  90.9  \n",
       "Algeria              89.2  89.3  89.4  \n",
       "Angola               78.8  78.9  79.0  \n",
       "Antigua and Barbuda  88.7  88.8  88.9  \n",
       "\n",
       "[5 rows x 150 columns]"
      ]
     },
     "execution_count": 451,
     "metadata": {},
     "output_type": "execute_result"
    }
   ],
   "source": [
    "life_exp_f.head()"
   ]
  },
  {
   "cell_type": "code",
   "execution_count": 452,
   "metadata": {},
   "outputs": [
    {
     "name": "stdout",
     "output_type": "stream",
     "text": [
      "<class 'pandas.core.frame.DataFrame'>\n",
      "Index: 184 entries, Afghanistan to Zimbabwe\n",
      "Columns: 150 entries, 1950 to 2099\n",
      "dtypes: float64(150)\n",
      "memory usage: 217.1+ KB\n"
     ]
    }
   ],
   "source": [
    "life_exp_f.info()"
   ]
  },
  {
   "cell_type": "code",
   "execution_count": 453,
   "metadata": {},
   "outputs": [
    {
     "data": {
      "text/plain": [
       "False"
      ]
     },
     "execution_count": 453,
     "metadata": {},
     "output_type": "execute_result"
    }
   ],
   "source": [
    "life_exp_f.isna().sum().any()"
   ]
  },
  {
   "cell_type": "code",
   "execution_count": 454,
   "metadata": {},
   "outputs": [
    {
     "data": {
      "text/html": [
       "<div>\n",
       "<style scoped>\n",
       "    .dataframe tbody tr th:only-of-type {\n",
       "        vertical-align: middle;\n",
       "    }\n",
       "\n",
       "    .dataframe tbody tr th {\n",
       "        vertical-align: top;\n",
       "    }\n",
       "\n",
       "    .dataframe thead th {\n",
       "        text-align: right;\n",
       "    }\n",
       "</style>\n",
       "<table border=\"1\" class=\"dataframe\">\n",
       "  <thead>\n",
       "    <tr style=\"text-align: right;\">\n",
       "      <th></th>\n",
       "      <th>1950</th>\n",
       "      <th>1951</th>\n",
       "      <th>1952</th>\n",
       "      <th>1953</th>\n",
       "      <th>1954</th>\n",
       "      <th>1955</th>\n",
       "      <th>1956</th>\n",
       "      <th>1957</th>\n",
       "      <th>1958</th>\n",
       "      <th>1959</th>\n",
       "      <th>...</th>\n",
       "      <th>2090</th>\n",
       "      <th>2091</th>\n",
       "      <th>2092</th>\n",
       "      <th>2093</th>\n",
       "      <th>2094</th>\n",
       "      <th>2095</th>\n",
       "      <th>2096</th>\n",
       "      <th>2097</th>\n",
       "      <th>2098</th>\n",
       "      <th>2099</th>\n",
       "    </tr>\n",
       "    <tr>\n",
       "      <th>country</th>\n",
       "      <th></th>\n",
       "      <th></th>\n",
       "      <th></th>\n",
       "      <th></th>\n",
       "      <th></th>\n",
       "      <th></th>\n",
       "      <th></th>\n",
       "      <th></th>\n",
       "      <th></th>\n",
       "      <th></th>\n",
       "      <th></th>\n",
       "      <th></th>\n",
       "      <th></th>\n",
       "      <th></th>\n",
       "      <th></th>\n",
       "      <th></th>\n",
       "      <th></th>\n",
       "      <th></th>\n",
       "      <th></th>\n",
       "      <th></th>\n",
       "      <th></th>\n",
       "    </tr>\n",
       "  </thead>\n",
       "  <tbody>\n",
       "    <tr>\n",
       "      <th>Afghanistan</th>\n",
       "      <td>26.9</td>\n",
       "      <td>27.1</td>\n",
       "      <td>27.7</td>\n",
       "      <td>28.2</td>\n",
       "      <td>28.7</td>\n",
       "      <td>29.2</td>\n",
       "      <td>29.7</td>\n",
       "      <td>30.2</td>\n",
       "      <td>30.7</td>\n",
       "      <td>31.1</td>\n",
       "      <td>...</td>\n",
       "      <td>74.2</td>\n",
       "      <td>74.4</td>\n",
       "      <td>74.5</td>\n",
       "      <td>74.7</td>\n",
       "      <td>74.8</td>\n",
       "      <td>75.0</td>\n",
       "      <td>75.1</td>\n",
       "      <td>75.3</td>\n",
       "      <td>75.4</td>\n",
       "      <td>75.6</td>\n",
       "    </tr>\n",
       "    <tr>\n",
       "      <th>Albania</th>\n",
       "      <td>53.2</td>\n",
       "      <td>53.4</td>\n",
       "      <td>54.0</td>\n",
       "      <td>54.7</td>\n",
       "      <td>55.4</td>\n",
       "      <td>56.2</td>\n",
       "      <td>57.2</td>\n",
       "      <td>58.2</td>\n",
       "      <td>59.2</td>\n",
       "      <td>60.3</td>\n",
       "      <td>...</td>\n",
       "      <td>87.9</td>\n",
       "      <td>88.0</td>\n",
       "      <td>88.1</td>\n",
       "      <td>88.2</td>\n",
       "      <td>88.3</td>\n",
       "      <td>88.4</td>\n",
       "      <td>88.5</td>\n",
       "      <td>88.6</td>\n",
       "      <td>88.7</td>\n",
       "      <td>88.8</td>\n",
       "    </tr>\n",
       "    <tr>\n",
       "      <th>Algeria</th>\n",
       "      <td>41.5</td>\n",
       "      <td>41.7</td>\n",
       "      <td>42.1</td>\n",
       "      <td>42.5</td>\n",
       "      <td>42.9</td>\n",
       "      <td>43.3</td>\n",
       "      <td>43.7</td>\n",
       "      <td>44.1</td>\n",
       "      <td>44.6</td>\n",
       "      <td>45.0</td>\n",
       "      <td>...</td>\n",
       "      <td>87.0</td>\n",
       "      <td>87.2</td>\n",
       "      <td>87.3</td>\n",
       "      <td>87.4</td>\n",
       "      <td>87.5</td>\n",
       "      <td>87.6</td>\n",
       "      <td>87.7</td>\n",
       "      <td>87.8</td>\n",
       "      <td>87.9</td>\n",
       "      <td>88.0</td>\n",
       "    </tr>\n",
       "    <tr>\n",
       "      <th>Angola</th>\n",
       "      <td>29.7</td>\n",
       "      <td>29.7</td>\n",
       "      <td>29.9</td>\n",
       "      <td>30.1</td>\n",
       "      <td>30.3</td>\n",
       "      <td>30.5</td>\n",
       "      <td>30.7</td>\n",
       "      <td>31.0</td>\n",
       "      <td>31.2</td>\n",
       "      <td>31.5</td>\n",
       "      <td>...</td>\n",
       "      <td>70.9</td>\n",
       "      <td>71.0</td>\n",
       "      <td>71.2</td>\n",
       "      <td>71.3</td>\n",
       "      <td>71.5</td>\n",
       "      <td>71.6</td>\n",
       "      <td>71.7</td>\n",
       "      <td>71.9</td>\n",
       "      <td>72.0</td>\n",
       "      <td>72.2</td>\n",
       "    </tr>\n",
       "    <tr>\n",
       "      <th>Antigua and Barbuda</th>\n",
       "      <td>55.0</td>\n",
       "      <td>55.2</td>\n",
       "      <td>55.8</td>\n",
       "      <td>56.3</td>\n",
       "      <td>56.8</td>\n",
       "      <td>57.3</td>\n",
       "      <td>57.8</td>\n",
       "      <td>58.2</td>\n",
       "      <td>58.7</td>\n",
       "      <td>59.1</td>\n",
       "      <td>...</td>\n",
       "      <td>85.7</td>\n",
       "      <td>85.8</td>\n",
       "      <td>85.9</td>\n",
       "      <td>86.0</td>\n",
       "      <td>86.1</td>\n",
       "      <td>86.2</td>\n",
       "      <td>86.4</td>\n",
       "      <td>86.5</td>\n",
       "      <td>86.6</td>\n",
       "      <td>86.7</td>\n",
       "    </tr>\n",
       "  </tbody>\n",
       "</table>\n",
       "<p>5 rows × 150 columns</p>\n",
       "</div>"
      ],
      "text/plain": [
       "                     1950  1951  1952  1953  1954  1955  1956  1957  1958  \\\n",
       "country                                                                     \n",
       "Afghanistan          26.9  27.1  27.7  28.2  28.7  29.2  29.7  30.2  30.7   \n",
       "Albania              53.2  53.4  54.0  54.7  55.4  56.2  57.2  58.2  59.2   \n",
       "Algeria              41.5  41.7  42.1  42.5  42.9  43.3  43.7  44.1  44.6   \n",
       "Angola               29.7  29.7  29.9  30.1  30.3  30.5  30.7  31.0  31.2   \n",
       "Antigua and Barbuda  55.0  55.2  55.8  56.3  56.8  57.3  57.8  58.2  58.7   \n",
       "\n",
       "                     1959  ...   2090  2091  2092  2093  2094  2095  2096  \\\n",
       "country                    ...                                              \n",
       "Afghanistan          31.1  ...   74.2  74.4  74.5  74.7  74.8  75.0  75.1   \n",
       "Albania              60.3  ...   87.9  88.0  88.1  88.2  88.3  88.4  88.5   \n",
       "Algeria              45.0  ...   87.0  87.2  87.3  87.4  87.5  87.6  87.7   \n",
       "Angola               31.5  ...   70.9  71.0  71.2  71.3  71.5  71.6  71.7   \n",
       "Antigua and Barbuda  59.1  ...   85.7  85.8  85.9  86.0  86.1  86.2  86.4   \n",
       "\n",
       "                     2097  2098  2099  \n",
       "country                                \n",
       "Afghanistan          75.3  75.4  75.6  \n",
       "Albania              88.6  88.7  88.8  \n",
       "Algeria              87.8  87.9  88.0  \n",
       "Angola               71.9  72.0  72.2  \n",
       "Antigua and Barbuda  86.5  86.6  86.7  \n",
       "\n",
       "[5 rows x 150 columns]"
      ]
     },
     "execution_count": 454,
     "metadata": {},
     "output_type": "execute_result"
    }
   ],
   "source": [
    "life_exp_m.head()"
   ]
  },
  {
   "cell_type": "code",
   "execution_count": 455,
   "metadata": {},
   "outputs": [
    {
     "name": "stdout",
     "output_type": "stream",
     "text": [
      "<class 'pandas.core.frame.DataFrame'>\n",
      "Index: 184 entries, Afghanistan to Zimbabwe\n",
      "Columns: 150 entries, 1950 to 2099\n",
      "dtypes: float64(150)\n",
      "memory usage: 217.1+ KB\n"
     ]
    }
   ],
   "source": [
    "life_exp_m.info()"
   ]
  },
  {
   "cell_type": "code",
   "execution_count": 456,
   "metadata": {},
   "outputs": [
    {
     "data": {
      "text/plain": [
       "False"
      ]
     },
     "execution_count": 456,
     "metadata": {},
     "output_type": "execute_result"
    }
   ],
   "source": [
    "life_exp_m.isna().sum().any()"
   ]
  },
  {
   "cell_type": "code",
   "execution_count": 457,
   "metadata": {},
   "outputs": [
    {
     "data": {
      "text/html": [
       "<div>\n",
       "<style scoped>\n",
       "    .dataframe tbody tr th:only-of-type {\n",
       "        vertical-align: middle;\n",
       "    }\n",
       "\n",
       "    .dataframe tbody tr th {\n",
       "        vertical-align: top;\n",
       "    }\n",
       "\n",
       "    .dataframe thead th {\n",
       "        text-align: right;\n",
       "    }\n",
       "</style>\n",
       "<table border=\"1\" class=\"dataframe\">\n",
       "  <thead>\n",
       "    <tr style=\"text-align: right;\">\n",
       "      <th></th>\n",
       "      <th>1801</th>\n",
       "      <th>1802</th>\n",
       "      <th>1803</th>\n",
       "      <th>1804</th>\n",
       "      <th>1805</th>\n",
       "      <th>1806</th>\n",
       "      <th>1807</th>\n",
       "      <th>1808</th>\n",
       "      <th>1809</th>\n",
       "      <th>1810</th>\n",
       "      <th>...</th>\n",
       "      <th>2010</th>\n",
       "      <th>2011</th>\n",
       "      <th>2012</th>\n",
       "      <th>2013</th>\n",
       "      <th>2014</th>\n",
       "      <th>2015</th>\n",
       "      <th>2016</th>\n",
       "      <th>2017</th>\n",
       "      <th>2018</th>\n",
       "      <th>2019</th>\n",
       "    </tr>\n",
       "    <tr>\n",
       "      <th>country</th>\n",
       "      <th></th>\n",
       "      <th></th>\n",
       "      <th></th>\n",
       "      <th></th>\n",
       "      <th></th>\n",
       "      <th></th>\n",
       "      <th></th>\n",
       "      <th></th>\n",
       "      <th></th>\n",
       "      <th></th>\n",
       "      <th></th>\n",
       "      <th></th>\n",
       "      <th></th>\n",
       "      <th></th>\n",
       "      <th></th>\n",
       "      <th></th>\n",
       "      <th></th>\n",
       "      <th></th>\n",
       "      <th></th>\n",
       "      <th></th>\n",
       "      <th></th>\n",
       "    </tr>\n",
       "  </thead>\n",
       "  <tbody>\n",
       "    <tr>\n",
       "      <th>Afghanistan</th>\n",
       "      <td>0.00000</td>\n",
       "      <td>0.00000</td>\n",
       "      <td>0.00000</td>\n",
       "      <td>0.00000</td>\n",
       "      <td>0.00000</td>\n",
       "      <td>0.00000</td>\n",
       "      <td>0.00000</td>\n",
       "      <td>0.00000</td>\n",
       "      <td>0.00000</td>\n",
       "      <td>0.00000</td>\n",
       "      <td>...</td>\n",
       "      <td>5.170</td>\n",
       "      <td>3.850</td>\n",
       "      <td>11.20</td>\n",
       "      <td>1.13</td>\n",
       "      <td>0.837</td>\n",
       "      <td>2.11</td>\n",
       "      <td>2.68</td>\n",
       "      <td>2.760</td>\n",
       "      <td>3.02</td>\n",
       "      <td>3.38</td>\n",
       "    </tr>\n",
       "    <tr>\n",
       "      <th>Albania</th>\n",
       "      <td>0.10400</td>\n",
       "      <td>0.10400</td>\n",
       "      <td>0.10400</td>\n",
       "      <td>0.10400</td>\n",
       "      <td>0.10400</td>\n",
       "      <td>0.10400</td>\n",
       "      <td>0.10400</td>\n",
       "      <td>0.10400</td>\n",
       "      <td>0.10400</td>\n",
       "      <td>0.10400</td>\n",
       "      <td>...</td>\n",
       "      <td>2.980</td>\n",
       "      <td>2.490</td>\n",
       "      <td>2.28</td>\n",
       "      <td>1.72</td>\n",
       "      <td>2.610</td>\n",
       "      <td>3.82</td>\n",
       "      <td>4.72</td>\n",
       "      <td>5.030</td>\n",
       "      <td>5.03</td>\n",
       "      <td>5.23</td>\n",
       "    </tr>\n",
       "    <tr>\n",
       "      <th>Algeria</th>\n",
       "      <td>-0.00247</td>\n",
       "      <td>-0.00247</td>\n",
       "      <td>-0.00247</td>\n",
       "      <td>-0.00247</td>\n",
       "      <td>-0.00247</td>\n",
       "      <td>-0.00247</td>\n",
       "      <td>-0.00247</td>\n",
       "      <td>-0.00247</td>\n",
       "      <td>-0.00247</td>\n",
       "      <td>-0.00247</td>\n",
       "      <td>...</td>\n",
       "      <td>2.060</td>\n",
       "      <td>0.857</td>\n",
       "      <td>1.16</td>\n",
       "      <td>1.61</td>\n",
       "      <td>2.180</td>\n",
       "      <td>2.10</td>\n",
       "      <td>2.36</td>\n",
       "      <td>2.500</td>\n",
       "      <td>2.63</td>\n",
       "      <td>2.68</td>\n",
       "    </tr>\n",
       "    <tr>\n",
       "      <th>Andorra</th>\n",
       "      <td>0.16600</td>\n",
       "      <td>0.16600</td>\n",
       "      <td>0.16600</td>\n",
       "      <td>0.16600</td>\n",
       "      <td>0.16600</td>\n",
       "      <td>0.16600</td>\n",
       "      <td>0.16600</td>\n",
       "      <td>0.16600</td>\n",
       "      <td>0.16600</td>\n",
       "      <td>0.16600</td>\n",
       "      <td>...</td>\n",
       "      <td>-4.780</td>\n",
       "      <td>-4.300</td>\n",
       "      <td>NaN</td>\n",
       "      <td>NaN</td>\n",
       "      <td>NaN</td>\n",
       "      <td>NaN</td>\n",
       "      <td>NaN</td>\n",
       "      <td>NaN</td>\n",
       "      <td>NaN</td>\n",
       "      <td>NaN</td>\n",
       "    </tr>\n",
       "    <tr>\n",
       "      <th>Angola</th>\n",
       "      <td>0.42500</td>\n",
       "      <td>0.42500</td>\n",
       "      <td>0.42500</td>\n",
       "      <td>0.42500</td>\n",
       "      <td>0.42500</td>\n",
       "      <td>0.42500</td>\n",
       "      <td>0.42500</td>\n",
       "      <td>0.42500</td>\n",
       "      <td>0.42500</td>\n",
       "      <td>0.42500</td>\n",
       "      <td>...</td>\n",
       "      <td>0.594</td>\n",
       "      <td>1.030</td>\n",
       "      <td>2.13</td>\n",
       "      <td>1.03</td>\n",
       "      <td>2.240</td>\n",
       "      <td>2.46</td>\n",
       "      <td>2.77</td>\n",
       "      <td>0.262</td>\n",
       "      <td>3.46</td>\n",
       "      <td>3.55</td>\n",
       "    </tr>\n",
       "  </tbody>\n",
       "</table>\n",
       "<p>5 rows × 219 columns</p>\n",
       "</div>"
      ],
      "text/plain": [
       "                1801     1802     1803     1804     1805     1806     1807  \\\n",
       "country                                                                      \n",
       "Afghanistan  0.00000  0.00000  0.00000  0.00000  0.00000  0.00000  0.00000   \n",
       "Albania      0.10400  0.10400  0.10400  0.10400  0.10400  0.10400  0.10400   \n",
       "Algeria     -0.00247 -0.00247 -0.00247 -0.00247 -0.00247 -0.00247 -0.00247   \n",
       "Andorra      0.16600  0.16600  0.16600  0.16600  0.16600  0.16600  0.16600   \n",
       "Angola       0.42500  0.42500  0.42500  0.42500  0.42500  0.42500  0.42500   \n",
       "\n",
       "                1808     1809     1810  ...    2010   2011   2012  2013  \\\n",
       "country                                 ...                               \n",
       "Afghanistan  0.00000  0.00000  0.00000  ...   5.170  3.850  11.20  1.13   \n",
       "Albania      0.10400  0.10400  0.10400  ...   2.980  2.490   2.28  1.72   \n",
       "Algeria     -0.00247 -0.00247 -0.00247  ...   2.060  0.857   1.16  1.61   \n",
       "Andorra      0.16600  0.16600  0.16600  ...  -4.780 -4.300    NaN   NaN   \n",
       "Angola       0.42500  0.42500  0.42500  ...   0.594  1.030   2.13  1.03   \n",
       "\n",
       "              2014  2015  2016   2017  2018  2019  \n",
       "country                                            \n",
       "Afghanistan  0.837  2.11  2.68  2.760  3.02  3.38  \n",
       "Albania      2.610  3.82  4.72  5.030  5.03  5.23  \n",
       "Algeria      2.180  2.10  2.36  2.500  2.63  2.68  \n",
       "Andorra        NaN   NaN   NaN    NaN   NaN   NaN  \n",
       "Angola       2.240  2.46  2.77  0.262  3.46  3.55  \n",
       "\n",
       "[5 rows x 219 columns]"
      ]
     },
     "execution_count": 457,
     "metadata": {},
     "output_type": "execute_result"
    }
   ],
   "source": [
    "gdp.head()"
   ]
  },
  {
   "cell_type": "code",
   "execution_count": 458,
   "metadata": {},
   "outputs": [
    {
     "name": "stdout",
     "output_type": "stream",
     "text": [
      "<class 'pandas.core.frame.DataFrame'>\n",
      "Index: 194 entries, Afghanistan to Zimbabwe\n",
      "Columns: 219 entries, 1801 to 2019\n",
      "dtypes: float64(219)\n",
      "memory usage: 333.4+ KB\n"
     ]
    }
   ],
   "source": [
    "gdp.info()"
   ]
  },
  {
   "cell_type": "code",
   "execution_count": 459,
   "metadata": {},
   "outputs": [
    {
     "data": {
      "text/plain": [
       "True"
      ]
     },
     "execution_count": 459,
     "metadata": {},
     "output_type": "execute_result"
    }
   ],
   "source": [
    "gdp.isna().sum().any()"
   ]
  },
  {
   "cell_type": "code",
   "execution_count": 460,
   "metadata": {},
   "outputs": [
    {
     "data": {
      "text/html": [
       "<div>\n",
       "<style scoped>\n",
       "    .dataframe tbody tr th:only-of-type {\n",
       "        vertical-align: middle;\n",
       "    }\n",
       "\n",
       "    .dataframe tbody tr th {\n",
       "        vertical-align: top;\n",
       "    }\n",
       "\n",
       "    .dataframe thead th {\n",
       "        text-align: right;\n",
       "    }\n",
       "</style>\n",
       "<table border=\"1\" class=\"dataframe\">\n",
       "  <thead>\n",
       "    <tr style=\"text-align: right;\">\n",
       "      <th></th>\n",
       "      <th>1800</th>\n",
       "      <th>1801</th>\n",
       "      <th>1802</th>\n",
       "      <th>1803</th>\n",
       "      <th>1804</th>\n",
       "      <th>1805</th>\n",
       "      <th>1806</th>\n",
       "      <th>1807</th>\n",
       "      <th>1808</th>\n",
       "      <th>1809</th>\n",
       "      <th>...</th>\n",
       "      <th>2031</th>\n",
       "      <th>2032</th>\n",
       "      <th>2033</th>\n",
       "      <th>2034</th>\n",
       "      <th>2035</th>\n",
       "      <th>2036</th>\n",
       "      <th>2037</th>\n",
       "      <th>2038</th>\n",
       "      <th>2039</th>\n",
       "      <th>2040</th>\n",
       "    </tr>\n",
       "    <tr>\n",
       "      <th>country</th>\n",
       "      <th></th>\n",
       "      <th></th>\n",
       "      <th></th>\n",
       "      <th></th>\n",
       "      <th></th>\n",
       "      <th></th>\n",
       "      <th></th>\n",
       "      <th></th>\n",
       "      <th></th>\n",
       "      <th></th>\n",
       "      <th></th>\n",
       "      <th></th>\n",
       "      <th></th>\n",
       "      <th></th>\n",
       "      <th></th>\n",
       "      <th></th>\n",
       "      <th></th>\n",
       "      <th></th>\n",
       "      <th></th>\n",
       "      <th></th>\n",
       "      <th></th>\n",
       "    </tr>\n",
       "  </thead>\n",
       "  <tbody>\n",
       "    <tr>\n",
       "      <th>Afghanistan</th>\n",
       "      <td>30.5</td>\n",
       "      <td>30.5</td>\n",
       "      <td>30.5</td>\n",
       "      <td>30.5</td>\n",
       "      <td>30.5</td>\n",
       "      <td>30.5</td>\n",
       "      <td>30.5</td>\n",
       "      <td>30.5</td>\n",
       "      <td>30.5</td>\n",
       "      <td>30.5</td>\n",
       "      <td>...</td>\n",
       "      <td>36.8</td>\n",
       "      <td>36.8</td>\n",
       "      <td>36.8</td>\n",
       "      <td>36.8</td>\n",
       "      <td>36.8</td>\n",
       "      <td>36.8</td>\n",
       "      <td>36.8</td>\n",
       "      <td>36.8</td>\n",
       "      <td>36.8</td>\n",
       "      <td>36.8</td>\n",
       "    </tr>\n",
       "    <tr>\n",
       "      <th>Albania</th>\n",
       "      <td>38.9</td>\n",
       "      <td>38.9</td>\n",
       "      <td>38.9</td>\n",
       "      <td>38.9</td>\n",
       "      <td>38.9</td>\n",
       "      <td>38.9</td>\n",
       "      <td>38.9</td>\n",
       "      <td>38.9</td>\n",
       "      <td>38.9</td>\n",
       "      <td>38.9</td>\n",
       "      <td>...</td>\n",
       "      <td>29.0</td>\n",
       "      <td>29.0</td>\n",
       "      <td>29.0</td>\n",
       "      <td>29.0</td>\n",
       "      <td>29.0</td>\n",
       "      <td>29.0</td>\n",
       "      <td>29.0</td>\n",
       "      <td>29.0</td>\n",
       "      <td>29.0</td>\n",
       "      <td>29.0</td>\n",
       "    </tr>\n",
       "    <tr>\n",
       "      <th>Algeria</th>\n",
       "      <td>56.2</td>\n",
       "      <td>56.2</td>\n",
       "      <td>56.2</td>\n",
       "      <td>56.2</td>\n",
       "      <td>56.2</td>\n",
       "      <td>56.2</td>\n",
       "      <td>56.2</td>\n",
       "      <td>56.2</td>\n",
       "      <td>56.2</td>\n",
       "      <td>56.2</td>\n",
       "      <td>...</td>\n",
       "      <td>27.6</td>\n",
       "      <td>27.6</td>\n",
       "      <td>27.6</td>\n",
       "      <td>27.6</td>\n",
       "      <td>27.6</td>\n",
       "      <td>27.6</td>\n",
       "      <td>27.6</td>\n",
       "      <td>27.6</td>\n",
       "      <td>27.6</td>\n",
       "      <td>27.6</td>\n",
       "    </tr>\n",
       "    <tr>\n",
       "      <th>Andorra</th>\n",
       "      <td>40.0</td>\n",
       "      <td>40.0</td>\n",
       "      <td>40.0</td>\n",
       "      <td>40.0</td>\n",
       "      <td>40.0</td>\n",
       "      <td>40.0</td>\n",
       "      <td>40.0</td>\n",
       "      <td>40.0</td>\n",
       "      <td>40.0</td>\n",
       "      <td>40.0</td>\n",
       "      <td>...</td>\n",
       "      <td>40.0</td>\n",
       "      <td>40.0</td>\n",
       "      <td>40.0</td>\n",
       "      <td>40.0</td>\n",
       "      <td>40.0</td>\n",
       "      <td>40.0</td>\n",
       "      <td>40.0</td>\n",
       "      <td>40.0</td>\n",
       "      <td>40.0</td>\n",
       "      <td>40.0</td>\n",
       "    </tr>\n",
       "    <tr>\n",
       "      <th>Angola</th>\n",
       "      <td>57.2</td>\n",
       "      <td>57.2</td>\n",
       "      <td>57.2</td>\n",
       "      <td>57.2</td>\n",
       "      <td>57.2</td>\n",
       "      <td>57.2</td>\n",
       "      <td>57.2</td>\n",
       "      <td>57.2</td>\n",
       "      <td>57.2</td>\n",
       "      <td>57.2</td>\n",
       "      <td>...</td>\n",
       "      <td>42.6</td>\n",
       "      <td>42.6</td>\n",
       "      <td>42.6</td>\n",
       "      <td>42.6</td>\n",
       "      <td>42.6</td>\n",
       "      <td>42.6</td>\n",
       "      <td>42.6</td>\n",
       "      <td>42.6</td>\n",
       "      <td>42.6</td>\n",
       "      <td>42.6</td>\n",
       "    </tr>\n",
       "  </tbody>\n",
       "</table>\n",
       "<p>5 rows × 241 columns</p>\n",
       "</div>"
      ],
      "text/plain": [
       "             1800  1801  1802  1803  1804  1805  1806  1807  1808  1809  ...   \\\n",
       "country                                                                  ...    \n",
       "Afghanistan  30.5  30.5  30.5  30.5  30.5  30.5  30.5  30.5  30.5  30.5  ...    \n",
       "Albania      38.9  38.9  38.9  38.9  38.9  38.9  38.9  38.9  38.9  38.9  ...    \n",
       "Algeria      56.2  56.2  56.2  56.2  56.2  56.2  56.2  56.2  56.2  56.2  ...    \n",
       "Andorra      40.0  40.0  40.0  40.0  40.0  40.0  40.0  40.0  40.0  40.0  ...    \n",
       "Angola       57.2  57.2  57.2  57.2  57.2  57.2  57.2  57.2  57.2  57.2  ...    \n",
       "\n",
       "             2031  2032  2033  2034  2035  2036  2037  2038  2039  2040  \n",
       "country                                                                  \n",
       "Afghanistan  36.8  36.8  36.8  36.8  36.8  36.8  36.8  36.8  36.8  36.8  \n",
       "Albania      29.0  29.0  29.0  29.0  29.0  29.0  29.0  29.0  29.0  29.0  \n",
       "Algeria      27.6  27.6  27.6  27.6  27.6  27.6  27.6  27.6  27.6  27.6  \n",
       "Andorra      40.0  40.0  40.0  40.0  40.0  40.0  40.0  40.0  40.0  40.0  \n",
       "Angola       42.6  42.6  42.6  42.6  42.6  42.6  42.6  42.6  42.6  42.6  \n",
       "\n",
       "[5 rows x 241 columns]"
      ]
     },
     "execution_count": 460,
     "metadata": {},
     "output_type": "execute_result"
    }
   ],
   "source": [
    "gini.head()"
   ]
  },
  {
   "cell_type": "code",
   "execution_count": 461,
   "metadata": {},
   "outputs": [
    {
     "name": "stdout",
     "output_type": "stream",
     "text": [
      "<class 'pandas.core.frame.DataFrame'>\n",
      "Index: 195 entries, Afghanistan to Zimbabwe\n",
      "Columns: 241 entries, 1800 to 2040\n",
      "dtypes: float64(241)\n",
      "memory usage: 368.7+ KB\n"
     ]
    }
   ],
   "source": [
    "gini.info()"
   ]
  },
  {
   "cell_type": "code",
   "execution_count": 462,
   "metadata": {},
   "outputs": [
    {
     "data": {
      "text/plain": [
       "False"
      ]
     },
     "execution_count": 462,
     "metadata": {},
     "output_type": "execute_result"
    }
   ],
   "source": [
    "gini.isna().sum().any()"
   ]
  },
  {
   "cell_type": "code",
   "execution_count": 463,
   "metadata": {},
   "outputs": [
    {
     "data": {
      "text/html": [
       "<div>\n",
       "<style scoped>\n",
       "    .dataframe tbody tr th:only-of-type {\n",
       "        vertical-align: middle;\n",
       "    }\n",
       "\n",
       "    .dataframe tbody tr th {\n",
       "        vertical-align: top;\n",
       "    }\n",
       "\n",
       "    .dataframe thead th {\n",
       "        text-align: right;\n",
       "    }\n",
       "</style>\n",
       "<table border=\"1\" class=\"dataframe\">\n",
       "  <thead>\n",
       "    <tr style=\"text-align: right;\">\n",
       "      <th></th>\n",
       "      <th>1995</th>\n",
       "      <th>1996</th>\n",
       "      <th>1997</th>\n",
       "      <th>1998</th>\n",
       "      <th>1999</th>\n",
       "      <th>2000</th>\n",
       "      <th>2001</th>\n",
       "      <th>2002</th>\n",
       "      <th>2003</th>\n",
       "      <th>2004</th>\n",
       "      <th>2005</th>\n",
       "      <th>2006</th>\n",
       "      <th>2007</th>\n",
       "      <th>2008</th>\n",
       "      <th>2009</th>\n",
       "      <th>2010</th>\n",
       "    </tr>\n",
       "    <tr>\n",
       "      <th>country</th>\n",
       "      <th></th>\n",
       "      <th></th>\n",
       "      <th></th>\n",
       "      <th></th>\n",
       "      <th></th>\n",
       "      <th></th>\n",
       "      <th></th>\n",
       "      <th></th>\n",
       "      <th></th>\n",
       "      <th></th>\n",
       "      <th></th>\n",
       "      <th></th>\n",
       "      <th></th>\n",
       "      <th></th>\n",
       "      <th></th>\n",
       "      <th></th>\n",
       "    </tr>\n",
       "  </thead>\n",
       "  <tbody>\n",
       "    <tr>\n",
       "      <th>Afghanistan</th>\n",
       "      <td>NaN</td>\n",
       "      <td>NaN</td>\n",
       "      <td>NaN</td>\n",
       "      <td>NaN</td>\n",
       "      <td>NaN</td>\n",
       "      <td>NaN</td>\n",
       "      <td>NaN</td>\n",
       "      <td>0.833</td>\n",
       "      <td>1.25</td>\n",
       "      <td>1.61</td>\n",
       "      <td>2.52</td>\n",
       "      <td>2.81</td>\n",
       "      <td>3.5</td>\n",
       "      <td>3.75</td>\n",
       "      <td>3.91</td>\n",
       "      <td>4.39</td>\n",
       "    </tr>\n",
       "    <tr>\n",
       "      <th>Albania</th>\n",
       "      <td>13.9</td>\n",
       "      <td>17.10</td>\n",
       "      <td>14.2</td>\n",
       "      <td>18.60</td>\n",
       "      <td>28.10</td>\n",
       "      <td>27.2</td>\n",
       "      <td>30.5</td>\n",
       "      <td>32.500</td>\n",
       "      <td>40.60</td>\n",
       "      <td>63.90</td>\n",
       "      <td>71.40</td>\n",
       "      <td>75.50</td>\n",
       "      <td>88.8</td>\n",
       "      <td>109.00</td>\n",
       "      <td>107.00</td>\n",
       "      <td>94.00</td>\n",
       "    </tr>\n",
       "    <tr>\n",
       "      <th>Algeria</th>\n",
       "      <td>46.8</td>\n",
       "      <td>48.00</td>\n",
       "      <td>49.7</td>\n",
       "      <td>48.70</td>\n",
       "      <td>45.50</td>\n",
       "      <td>45.9</td>\n",
       "      <td>52.5</td>\n",
       "      <td>54.100</td>\n",
       "      <td>62.60</td>\n",
       "      <td>63.20</td>\n",
       "      <td>69.30</td>\n",
       "      <td>81.70</td>\n",
       "      <td>109.0</td>\n",
       "      <td>148.00</td>\n",
       "      <td>143.00</td>\n",
       "      <td>139.00</td>\n",
       "    </tr>\n",
       "    <tr>\n",
       "      <th>Andorra</th>\n",
       "      <td>897.0</td>\n",
       "      <td>983.00</td>\n",
       "      <td>967.0</td>\n",
       "      <td>1340.00</td>\n",
       "      <td>942.00</td>\n",
       "      <td>862.0</td>\n",
       "      <td>890.0</td>\n",
       "      <td>1020.000</td>\n",
       "      <td>1300.00</td>\n",
       "      <td>1520.00</td>\n",
       "      <td>1630.00</td>\n",
       "      <td>1850.00</td>\n",
       "      <td>2100.0</td>\n",
       "      <td>2370.00</td>\n",
       "      <td>2360.00</td>\n",
       "      <td>2170.00</td>\n",
       "    </tr>\n",
       "    <tr>\n",
       "      <th>Angola</th>\n",
       "      <td>13.5</td>\n",
       "      <td>8.72</td>\n",
       "      <td>10.5</td>\n",
       "      <td>6.65</td>\n",
       "      <td>6.55</td>\n",
       "      <td>12.5</td>\n",
       "      <td>18.3</td>\n",
       "      <td>14.300</td>\n",
       "      <td>19.40</td>\n",
       "      <td>19.70</td>\n",
       "      <td>27.10</td>\n",
       "      <td>50.90</td>\n",
       "      <td>68.4</td>\n",
       "      <td>126.00</td>\n",
       "      <td>181.00</td>\n",
       "      <td>102.00</td>\n",
       "    </tr>\n",
       "  </tbody>\n",
       "</table>\n",
       "</div>"
      ],
      "text/plain": [
       "              1995    1996   1997     1998    1999   2000   2001      2002  \\\n",
       "country                                                                      \n",
       "Afghanistan    NaN     NaN    NaN      NaN     NaN    NaN    NaN     0.833   \n",
       "Albania       13.9   17.10   14.2    18.60   28.10   27.2   30.5    32.500   \n",
       "Algeria       46.8   48.00   49.7    48.70   45.50   45.9   52.5    54.100   \n",
       "Andorra      897.0  983.00  967.0  1340.00  942.00  862.0  890.0  1020.000   \n",
       "Angola        13.5    8.72   10.5     6.65    6.55   12.5   18.3    14.300   \n",
       "\n",
       "                2003     2004     2005     2006    2007     2008     2009  \\\n",
       "country                                                                     \n",
       "Afghanistan     1.25     1.61     2.52     2.81     3.5     3.75     3.91   \n",
       "Albania        40.60    63.90    71.40    75.50    88.8   109.00   107.00   \n",
       "Algeria        62.60    63.20    69.30    81.70   109.0   148.00   143.00   \n",
       "Andorra      1300.00  1520.00  1630.00  1850.00  2100.0  2370.00  2360.00   \n",
       "Angola         19.40    19.70    27.10    50.90    68.4   126.00   181.00   \n",
       "\n",
       "                2010  \n",
       "country               \n",
       "Afghanistan     4.39  \n",
       "Albania        94.00  \n",
       "Algeria       139.00  \n",
       "Andorra      2170.00  \n",
       "Angola        102.00  "
      ]
     },
     "execution_count": 463,
     "metadata": {},
     "output_type": "execute_result"
    }
   ],
   "source": [
    "health_exp.head()"
   ]
  },
  {
   "cell_type": "code",
   "execution_count": 464,
   "metadata": {},
   "outputs": [
    {
     "name": "stdout",
     "output_type": "stream",
     "text": [
      "<class 'pandas.core.frame.DataFrame'>\n",
      "Index: 190 entries, Afghanistan to Zimbabwe\n",
      "Data columns (total 16 columns):\n",
      "1995    187 non-null float64\n",
      "1996    188 non-null float64\n",
      "1997    188 non-null float64\n",
      "1998    189 non-null float64\n",
      "1999    189 non-null float64\n",
      "2000    188 non-null float64\n",
      "2001    189 non-null float64\n",
      "2002    188 non-null float64\n",
      "2003    188 non-null float64\n",
      "2004    188 non-null float64\n",
      "2005    188 non-null float64\n",
      "2006    188 non-null float64\n",
      "2007    188 non-null float64\n",
      "2008    188 non-null float64\n",
      "2009    188 non-null float64\n",
      "2010    185 non-null float64\n",
      "dtypes: float64(16)\n",
      "memory usage: 25.2+ KB\n"
     ]
    }
   ],
   "source": [
    "health_exp.info()"
   ]
  },
  {
   "cell_type": "code",
   "execution_count": 465,
   "metadata": {},
   "outputs": [
    {
     "data": {
      "text/plain": [
       "True"
      ]
     },
     "execution_count": 465,
     "metadata": {},
     "output_type": "execute_result"
    }
   ],
   "source": [
    "health_exp.isna().sum().any()"
   ]
  },
  {
   "cell_type": "markdown",
   "metadata": {},
   "source": [
    "<a id='cleaning'></a>\n",
    "## Data Cleaning\n",
    "\n",
    "> In this section of the report, we will execute all the trimming, cleaning and modifying necessary to prepare the data to be analyzed.\n",
    "\n",
    "#### Replace Null/NaN values\n",
    "All NaN values we found in the previous section will be replaced by the row mean of values of each variable for each country from 1969 to 2019. \n",
    "We will check if NaN values were indeed replaced with isna().\n",
    "\n",
    "#### Drop columns\n",
    "For this analisys we will consider only the last 50 year of data from 1969 to 2019. Therefore, all columns pertaining to years previous from 1969 or estimates after 2019 will be dropped."
   ]
  },
  {
   "cell_type": "markdown",
   "metadata": {},
   "source": [
    "##### General Life Expectancy"
   ]
  },
  {
   "cell_type": "code",
   "execution_count": 466,
   "metadata": {},
   "outputs": [],
   "source": [
    "life_exp = life_exp.apply(lambda row: row.fillna(row.mean()), axis=1)"
   ]
  },
  {
   "cell_type": "code",
   "execution_count": 467,
   "metadata": {},
   "outputs": [
    {
     "data": {
      "text/plain": [
       "False"
      ]
     },
     "execution_count": 467,
     "metadata": {},
     "output_type": "execute_result"
    }
   ],
   "source": [
    "life_exp.isna().sum().any()"
   ]
  },
  {
   "cell_type": "code",
   "execution_count": 468,
   "metadata": {},
   "outputs": [],
   "source": [
    "life_exp.drop(life_exp.loc[:,'1800':'1968'].columns, axis = 1, inplace=True) "
   ]
  },
  {
   "cell_type": "code",
   "execution_count": 469,
   "metadata": {},
   "outputs": [],
   "source": [
    "life_exp.drop(life_exp.loc[:,'2020':'2100'].columns, axis = 1, inplace=True)"
   ]
  },
  {
   "cell_type": "code",
   "execution_count": 470,
   "metadata": {},
   "outputs": [
    {
     "data": {
      "text/html": [
       "<div>\n",
       "<style scoped>\n",
       "    .dataframe tbody tr th:only-of-type {\n",
       "        vertical-align: middle;\n",
       "    }\n",
       "\n",
       "    .dataframe tbody tr th {\n",
       "        vertical-align: top;\n",
       "    }\n",
       "\n",
       "    .dataframe thead th {\n",
       "        text-align: right;\n",
       "    }\n",
       "</style>\n",
       "<table border=\"1\" class=\"dataframe\">\n",
       "  <thead>\n",
       "    <tr style=\"text-align: right;\">\n",
       "      <th></th>\n",
       "      <th>1969</th>\n",
       "      <th>1970</th>\n",
       "      <th>1971</th>\n",
       "      <th>1972</th>\n",
       "      <th>1973</th>\n",
       "      <th>1974</th>\n",
       "      <th>1975</th>\n",
       "      <th>1976</th>\n",
       "      <th>1977</th>\n",
       "      <th>1978</th>\n",
       "      <th>...</th>\n",
       "      <th>2010</th>\n",
       "      <th>2011</th>\n",
       "      <th>2012</th>\n",
       "      <th>2013</th>\n",
       "      <th>2014</th>\n",
       "      <th>2015</th>\n",
       "      <th>2016</th>\n",
       "      <th>2017</th>\n",
       "      <th>2018</th>\n",
       "      <th>2019</th>\n",
       "    </tr>\n",
       "    <tr>\n",
       "      <th>country</th>\n",
       "      <th></th>\n",
       "      <th></th>\n",
       "      <th></th>\n",
       "      <th></th>\n",
       "      <th></th>\n",
       "      <th></th>\n",
       "      <th></th>\n",
       "      <th></th>\n",
       "      <th></th>\n",
       "      <th></th>\n",
       "      <th></th>\n",
       "      <th></th>\n",
       "      <th></th>\n",
       "      <th></th>\n",
       "      <th></th>\n",
       "      <th></th>\n",
       "      <th></th>\n",
       "      <th></th>\n",
       "      <th></th>\n",
       "      <th></th>\n",
       "      <th></th>\n",
       "    </tr>\n",
       "  </thead>\n",
       "  <tbody>\n",
       "    <tr>\n",
       "      <th>Afghanistan</th>\n",
       "      <td>45.900000</td>\n",
       "      <td>46.6</td>\n",
       "      <td>46.8</td>\n",
       "      <td>46.8</td>\n",
       "      <td>46.9</td>\n",
       "      <td>47.0</td>\n",
       "      <td>47.1</td>\n",
       "      <td>47.3</td>\n",
       "      <td>47.5</td>\n",
       "      <td>45.9</td>\n",
       "      <td>...</td>\n",
       "      <td>59.9</td>\n",
       "      <td>60.4</td>\n",
       "      <td>60.8</td>\n",
       "      <td>61.3</td>\n",
       "      <td>61.2</td>\n",
       "      <td>61.2</td>\n",
       "      <td>61.2</td>\n",
       "      <td>63.4</td>\n",
       "      <td>63.700000</td>\n",
       "      <td>64.100000</td>\n",
       "    </tr>\n",
       "    <tr>\n",
       "      <th>Albania</th>\n",
       "      <td>66.600000</td>\n",
       "      <td>66.9</td>\n",
       "      <td>67.5</td>\n",
       "      <td>68.1</td>\n",
       "      <td>68.7</td>\n",
       "      <td>69.3</td>\n",
       "      <td>69.8</td>\n",
       "      <td>70.3</td>\n",
       "      <td>70.8</td>\n",
       "      <td>71.2</td>\n",
       "      <td>...</td>\n",
       "      <td>77.6</td>\n",
       "      <td>77.7</td>\n",
       "      <td>77.8</td>\n",
       "      <td>77.9</td>\n",
       "      <td>77.9</td>\n",
       "      <td>78.0</td>\n",
       "      <td>78.1</td>\n",
       "      <td>78.2</td>\n",
       "      <td>78.300000</td>\n",
       "      <td>78.500000</td>\n",
       "    </tr>\n",
       "    <tr>\n",
       "      <th>Algeria</th>\n",
       "      <td>57.600000</td>\n",
       "      <td>58.1</td>\n",
       "      <td>58.4</td>\n",
       "      <td>58.8</td>\n",
       "      <td>59.2</td>\n",
       "      <td>59.7</td>\n",
       "      <td>60.1</td>\n",
       "      <td>60.6</td>\n",
       "      <td>61.2</td>\n",
       "      <td>61.8</td>\n",
       "      <td>...</td>\n",
       "      <td>76.3</td>\n",
       "      <td>76.5</td>\n",
       "      <td>76.8</td>\n",
       "      <td>76.9</td>\n",
       "      <td>77.0</td>\n",
       "      <td>77.1</td>\n",
       "      <td>77.4</td>\n",
       "      <td>77.7</td>\n",
       "      <td>77.900000</td>\n",
       "      <td>78.100000</td>\n",
       "    </tr>\n",
       "    <tr>\n",
       "      <th>Andorra</th>\n",
       "      <td>79.770833</td>\n",
       "      <td>75.5</td>\n",
       "      <td>75.8</td>\n",
       "      <td>76.1</td>\n",
       "      <td>76.4</td>\n",
       "      <td>76.7</td>\n",
       "      <td>77.0</td>\n",
       "      <td>77.2</td>\n",
       "      <td>77.5</td>\n",
       "      <td>77.8</td>\n",
       "      <td>...</td>\n",
       "      <td>82.3</td>\n",
       "      <td>82.4</td>\n",
       "      <td>82.4</td>\n",
       "      <td>82.5</td>\n",
       "      <td>82.5</td>\n",
       "      <td>82.6</td>\n",
       "      <td>82.7</td>\n",
       "      <td>82.7</td>\n",
       "      <td>79.770833</td>\n",
       "      <td>79.770833</td>\n",
       "    </tr>\n",
       "    <tr>\n",
       "      <th>Angola</th>\n",
       "      <td>45.900000</td>\n",
       "      <td>46.5</td>\n",
       "      <td>46.7</td>\n",
       "      <td>46.9</td>\n",
       "      <td>47.1</td>\n",
       "      <td>47.3</td>\n",
       "      <td>47.2</td>\n",
       "      <td>47.2</td>\n",
       "      <td>47.3</td>\n",
       "      <td>47.4</td>\n",
       "      <td>...</td>\n",
       "      <td>59.9</td>\n",
       "      <td>60.6</td>\n",
       "      <td>61.3</td>\n",
       "      <td>61.9</td>\n",
       "      <td>62.8</td>\n",
       "      <td>63.3</td>\n",
       "      <td>63.8</td>\n",
       "      <td>64.2</td>\n",
       "      <td>64.600000</td>\n",
       "      <td>65.000000</td>\n",
       "    </tr>\n",
       "  </tbody>\n",
       "</table>\n",
       "<p>5 rows × 51 columns</p>\n",
       "</div>"
      ],
      "text/plain": [
       "                  1969  1970  1971  1972  1973  1974  1975  1976  1977  1978  \\\n",
       "country                                                                        \n",
       "Afghanistan  45.900000  46.6  46.8  46.8  46.9  47.0  47.1  47.3  47.5  45.9   \n",
       "Albania      66.600000  66.9  67.5  68.1  68.7  69.3  69.8  70.3  70.8  71.2   \n",
       "Algeria      57.600000  58.1  58.4  58.8  59.2  59.7  60.1  60.6  61.2  61.8   \n",
       "Andorra      79.770833  75.5  75.8  76.1  76.4  76.7  77.0  77.2  77.5  77.8   \n",
       "Angola       45.900000  46.5  46.7  46.9  47.1  47.3  47.2  47.2  47.3  47.4   \n",
       "\n",
       "               ...      2010  2011  2012  2013  2014  2015  2016  2017  \\\n",
       "country        ...                                                       \n",
       "Afghanistan    ...      59.9  60.4  60.8  61.3  61.2  61.2  61.2  63.4   \n",
       "Albania        ...      77.6  77.7  77.8  77.9  77.9  78.0  78.1  78.2   \n",
       "Algeria        ...      76.3  76.5  76.8  76.9  77.0  77.1  77.4  77.7   \n",
       "Andorra        ...      82.3  82.4  82.4  82.5  82.5  82.6  82.7  82.7   \n",
       "Angola         ...      59.9  60.6  61.3  61.9  62.8  63.3  63.8  64.2   \n",
       "\n",
       "                  2018       2019  \n",
       "country                            \n",
       "Afghanistan  63.700000  64.100000  \n",
       "Albania      78.300000  78.500000  \n",
       "Algeria      77.900000  78.100000  \n",
       "Andorra      79.770833  79.770833  \n",
       "Angola       64.600000  65.000000  \n",
       "\n",
       "[5 rows x 51 columns]"
      ]
     },
     "execution_count": 470,
     "metadata": {},
     "output_type": "execute_result"
    }
   ],
   "source": [
    "life_exp.head()"
   ]
  },
  {
   "cell_type": "markdown",
   "metadata": {},
   "source": [
    "##### Female Life Expectancy"
   ]
  },
  {
   "cell_type": "code",
   "execution_count": 471,
   "metadata": {},
   "outputs": [],
   "source": [
    "life_exp_f = life_exp_f.apply(lambda row: row.fillna(row.mean()), axis=1)"
   ]
  },
  {
   "cell_type": "code",
   "execution_count": 472,
   "metadata": {},
   "outputs": [
    {
     "data": {
      "text/plain": [
       "False"
      ]
     },
     "execution_count": 472,
     "metadata": {},
     "output_type": "execute_result"
    }
   ],
   "source": [
    "life_exp_f.isna().sum().any()"
   ]
  },
  {
   "cell_type": "code",
   "execution_count": 473,
   "metadata": {},
   "outputs": [],
   "source": [
    "life_exp_f.drop(life_exp_f.loc[:,'1950':'1968'].columns, axis = 1, inplace=True) "
   ]
  },
  {
   "cell_type": "code",
   "execution_count": 474,
   "metadata": {},
   "outputs": [],
   "source": [
    "life_exp_f.drop(life_exp_f.loc[:,'2020':'2099'].columns, axis = 1, inplace=True)"
   ]
  },
  {
   "cell_type": "code",
   "execution_count": 475,
   "metadata": {},
   "outputs": [
    {
     "data": {
      "text/html": [
       "<div>\n",
       "<style scoped>\n",
       "    .dataframe tbody tr th:only-of-type {\n",
       "        vertical-align: middle;\n",
       "    }\n",
       "\n",
       "    .dataframe tbody tr th {\n",
       "        vertical-align: top;\n",
       "    }\n",
       "\n",
       "    .dataframe thead th {\n",
       "        text-align: right;\n",
       "    }\n",
       "</style>\n",
       "<table border=\"1\" class=\"dataframe\">\n",
       "  <thead>\n",
       "    <tr style=\"text-align: right;\">\n",
       "      <th></th>\n",
       "      <th>1969</th>\n",
       "      <th>1970</th>\n",
       "      <th>1971</th>\n",
       "      <th>1972</th>\n",
       "      <th>1973</th>\n",
       "      <th>1974</th>\n",
       "      <th>1975</th>\n",
       "      <th>1976</th>\n",
       "      <th>1977</th>\n",
       "      <th>1978</th>\n",
       "      <th>...</th>\n",
       "      <th>2010</th>\n",
       "      <th>2011</th>\n",
       "      <th>2012</th>\n",
       "      <th>2013</th>\n",
       "      <th>2014</th>\n",
       "      <th>2015</th>\n",
       "      <th>2016</th>\n",
       "      <th>2017</th>\n",
       "      <th>2018</th>\n",
       "      <th>2019</th>\n",
       "    </tr>\n",
       "    <tr>\n",
       "      <th>country</th>\n",
       "      <th></th>\n",
       "      <th></th>\n",
       "      <th></th>\n",
       "      <th></th>\n",
       "      <th></th>\n",
       "      <th></th>\n",
       "      <th></th>\n",
       "      <th></th>\n",
       "      <th></th>\n",
       "      <th></th>\n",
       "      <th></th>\n",
       "      <th></th>\n",
       "      <th></th>\n",
       "      <th></th>\n",
       "      <th></th>\n",
       "      <th></th>\n",
       "      <th></th>\n",
       "      <th></th>\n",
       "      <th></th>\n",
       "      <th></th>\n",
       "      <th></th>\n",
       "    </tr>\n",
       "  </thead>\n",
       "  <tbody>\n",
       "    <tr>\n",
       "      <th>Afghanistan</th>\n",
       "      <td>37.1</td>\n",
       "      <td>37.5</td>\n",
       "      <td>38.0</td>\n",
       "      <td>38.4</td>\n",
       "      <td>38.9</td>\n",
       "      <td>39.4</td>\n",
       "      <td>39.9</td>\n",
       "      <td>40.4</td>\n",
       "      <td>40.9</td>\n",
       "      <td>41.5</td>\n",
       "      <td>...</td>\n",
       "      <td>62.5</td>\n",
       "      <td>62.9</td>\n",
       "      <td>63.4</td>\n",
       "      <td>63.8</td>\n",
       "      <td>64.2</td>\n",
       "      <td>64.6</td>\n",
       "      <td>65.0</td>\n",
       "      <td>65.4</td>\n",
       "      <td>65.8</td>\n",
       "      <td>66.2</td>\n",
       "    </tr>\n",
       "    <tr>\n",
       "      <th>Albania</th>\n",
       "      <td>68.1</td>\n",
       "      <td>68.4</td>\n",
       "      <td>68.8</td>\n",
       "      <td>69.2</td>\n",
       "      <td>69.6</td>\n",
       "      <td>70.0</td>\n",
       "      <td>70.4</td>\n",
       "      <td>70.7</td>\n",
       "      <td>71.0</td>\n",
       "      <td>71.4</td>\n",
       "      <td>...</td>\n",
       "      <td>79.2</td>\n",
       "      <td>79.5</td>\n",
       "      <td>79.7</td>\n",
       "      <td>79.9</td>\n",
       "      <td>80.1</td>\n",
       "      <td>80.3</td>\n",
       "      <td>80.5</td>\n",
       "      <td>80.6</td>\n",
       "      <td>80.7</td>\n",
       "      <td>80.9</td>\n",
       "    </tr>\n",
       "    <tr>\n",
       "      <th>Algeria</th>\n",
       "      <td>50.8</td>\n",
       "      <td>51.2</td>\n",
       "      <td>51.6</td>\n",
       "      <td>52.0</td>\n",
       "      <td>52.5</td>\n",
       "      <td>53.1</td>\n",
       "      <td>53.7</td>\n",
       "      <td>54.6</td>\n",
       "      <td>55.6</td>\n",
       "      <td>56.7</td>\n",
       "      <td>...</td>\n",
       "      <td>75.9</td>\n",
       "      <td>76.2</td>\n",
       "      <td>76.4</td>\n",
       "      <td>76.6</td>\n",
       "      <td>76.9</td>\n",
       "      <td>77.1</td>\n",
       "      <td>77.3</td>\n",
       "      <td>77.6</td>\n",
       "      <td>77.8</td>\n",
       "      <td>78.0</td>\n",
       "    </tr>\n",
       "    <tr>\n",
       "      <th>Angola</th>\n",
       "      <td>38.2</td>\n",
       "      <td>38.6</td>\n",
       "      <td>39.0</td>\n",
       "      <td>39.4</td>\n",
       "      <td>39.8</td>\n",
       "      <td>40.3</td>\n",
       "      <td>40.7</td>\n",
       "      <td>41.0</td>\n",
       "      <td>41.4</td>\n",
       "      <td>41.7</td>\n",
       "      <td>...</td>\n",
       "      <td>60.9</td>\n",
       "      <td>61.8</td>\n",
       "      <td>62.6</td>\n",
       "      <td>63.2</td>\n",
       "      <td>63.7</td>\n",
       "      <td>64.1</td>\n",
       "      <td>64.4</td>\n",
       "      <td>64.7</td>\n",
       "      <td>64.9</td>\n",
       "      <td>65.2</td>\n",
       "    </tr>\n",
       "    <tr>\n",
       "      <th>Antigua and Barbuda</th>\n",
       "      <td>67.7</td>\n",
       "      <td>68.1</td>\n",
       "      <td>68.4</td>\n",
       "      <td>68.8</td>\n",
       "      <td>69.1</td>\n",
       "      <td>69.4</td>\n",
       "      <td>69.8</td>\n",
       "      <td>70.1</td>\n",
       "      <td>70.4</td>\n",
       "      <td>70.7</td>\n",
       "      <td>...</td>\n",
       "      <td>77.8</td>\n",
       "      <td>78.0</td>\n",
       "      <td>78.1</td>\n",
       "      <td>78.3</td>\n",
       "      <td>78.4</td>\n",
       "      <td>78.6</td>\n",
       "      <td>78.7</td>\n",
       "      <td>78.9</td>\n",
       "      <td>79.0</td>\n",
       "      <td>79.2</td>\n",
       "    </tr>\n",
       "  </tbody>\n",
       "</table>\n",
       "<p>5 rows × 51 columns</p>\n",
       "</div>"
      ],
      "text/plain": [
       "                     1969  1970  1971  1972  1973  1974  1975  1976  1977  \\\n",
       "country                                                                     \n",
       "Afghanistan          37.1  37.5  38.0  38.4  38.9  39.4  39.9  40.4  40.9   \n",
       "Albania              68.1  68.4  68.8  69.2  69.6  70.0  70.4  70.7  71.0   \n",
       "Algeria              50.8  51.2  51.6  52.0  52.5  53.1  53.7  54.6  55.6   \n",
       "Angola               38.2  38.6  39.0  39.4  39.8  40.3  40.7  41.0  41.4   \n",
       "Antigua and Barbuda  67.7  68.1  68.4  68.8  69.1  69.4  69.8  70.1  70.4   \n",
       "\n",
       "                     1978  ...   2010  2011  2012  2013  2014  2015  2016  \\\n",
       "country                    ...                                              \n",
       "Afghanistan          41.5  ...   62.5  62.9  63.4  63.8  64.2  64.6  65.0   \n",
       "Albania              71.4  ...   79.2  79.5  79.7  79.9  80.1  80.3  80.5   \n",
       "Algeria              56.7  ...   75.9  76.2  76.4  76.6  76.9  77.1  77.3   \n",
       "Angola               41.7  ...   60.9  61.8  62.6  63.2  63.7  64.1  64.4   \n",
       "Antigua and Barbuda  70.7  ...   77.8  78.0  78.1  78.3  78.4  78.6  78.7   \n",
       "\n",
       "                     2017  2018  2019  \n",
       "country                                \n",
       "Afghanistan          65.4  65.8  66.2  \n",
       "Albania              80.6  80.7  80.9  \n",
       "Algeria              77.6  77.8  78.0  \n",
       "Angola               64.7  64.9  65.2  \n",
       "Antigua and Barbuda  78.9  79.0  79.2  \n",
       "\n",
       "[5 rows x 51 columns]"
      ]
     },
     "execution_count": 475,
     "metadata": {},
     "output_type": "execute_result"
    }
   ],
   "source": [
    "life_exp_f.head()"
   ]
  },
  {
   "cell_type": "markdown",
   "metadata": {},
   "source": [
    "##### Male Life Expectancy"
   ]
  },
  {
   "cell_type": "code",
   "execution_count": 476,
   "metadata": {},
   "outputs": [],
   "source": [
    "life_exp_m = life_exp_m.apply(lambda row: row.fillna(row.mean()), axis=1)"
   ]
  },
  {
   "cell_type": "code",
   "execution_count": 477,
   "metadata": {},
   "outputs": [
    {
     "data": {
      "text/plain": [
       "False"
      ]
     },
     "execution_count": 477,
     "metadata": {},
     "output_type": "execute_result"
    }
   ],
   "source": [
    "life_exp_m.isna().sum().any()"
   ]
  },
  {
   "cell_type": "code",
   "execution_count": 478,
   "metadata": {},
   "outputs": [],
   "source": [
    "life_exp_m.drop(life_exp_m.loc[:,'1950':'1968'].columns, axis = 1, inplace=True) "
   ]
  },
  {
   "cell_type": "code",
   "execution_count": 479,
   "metadata": {},
   "outputs": [],
   "source": [
    "life_exp_m.drop(life_exp_m.loc[:,'2020':'2099'].columns, axis = 1, inplace=True)"
   ]
  },
  {
   "cell_type": "code",
   "execution_count": 480,
   "metadata": {},
   "outputs": [
    {
     "data": {
      "text/html": [
       "<div>\n",
       "<style scoped>\n",
       "    .dataframe tbody tr th:only-of-type {\n",
       "        vertical-align: middle;\n",
       "    }\n",
       "\n",
       "    .dataframe tbody tr th {\n",
       "        vertical-align: top;\n",
       "    }\n",
       "\n",
       "    .dataframe thead th {\n",
       "        text-align: right;\n",
       "    }\n",
       "</style>\n",
       "<table border=\"1\" class=\"dataframe\">\n",
       "  <thead>\n",
       "    <tr style=\"text-align: right;\">\n",
       "      <th></th>\n",
       "      <th>1969</th>\n",
       "      <th>1970</th>\n",
       "      <th>1971</th>\n",
       "      <th>1972</th>\n",
       "      <th>1973</th>\n",
       "      <th>1974</th>\n",
       "      <th>1975</th>\n",
       "      <th>1976</th>\n",
       "      <th>1977</th>\n",
       "      <th>1978</th>\n",
       "      <th>...</th>\n",
       "      <th>2010</th>\n",
       "      <th>2011</th>\n",
       "      <th>2012</th>\n",
       "      <th>2013</th>\n",
       "      <th>2014</th>\n",
       "      <th>2015</th>\n",
       "      <th>2016</th>\n",
       "      <th>2017</th>\n",
       "      <th>2018</th>\n",
       "      <th>2019</th>\n",
       "    </tr>\n",
       "    <tr>\n",
       "      <th>country</th>\n",
       "      <th></th>\n",
       "      <th></th>\n",
       "      <th></th>\n",
       "      <th></th>\n",
       "      <th></th>\n",
       "      <th></th>\n",
       "      <th></th>\n",
       "      <th></th>\n",
       "      <th></th>\n",
       "      <th></th>\n",
       "      <th></th>\n",
       "      <th></th>\n",
       "      <th></th>\n",
       "      <th></th>\n",
       "      <th></th>\n",
       "      <th></th>\n",
       "      <th></th>\n",
       "      <th></th>\n",
       "      <th></th>\n",
       "      <th></th>\n",
       "      <th></th>\n",
       "    </tr>\n",
       "  </thead>\n",
       "  <tbody>\n",
       "    <tr>\n",
       "      <th>Afghanistan</th>\n",
       "      <td>35.5</td>\n",
       "      <td>35.9</td>\n",
       "      <td>36.4</td>\n",
       "      <td>36.8</td>\n",
       "      <td>37.3</td>\n",
       "      <td>37.8</td>\n",
       "      <td>38.3</td>\n",
       "      <td>38.8</td>\n",
       "      <td>39.3</td>\n",
       "      <td>39.9</td>\n",
       "      <td>...</td>\n",
       "      <td>60.1</td>\n",
       "      <td>60.5</td>\n",
       "      <td>60.9</td>\n",
       "      <td>61.3</td>\n",
       "      <td>61.7</td>\n",
       "      <td>62.0</td>\n",
       "      <td>62.4</td>\n",
       "      <td>62.8</td>\n",
       "      <td>63.1</td>\n",
       "      <td>63.4</td>\n",
       "    </tr>\n",
       "    <tr>\n",
       "      <th>Albania</th>\n",
       "      <td>65.3</td>\n",
       "      <td>65.5</td>\n",
       "      <td>65.7</td>\n",
       "      <td>66.0</td>\n",
       "      <td>66.4</td>\n",
       "      <td>66.8</td>\n",
       "      <td>67.2</td>\n",
       "      <td>67.6</td>\n",
       "      <td>67.9</td>\n",
       "      <td>68.2</td>\n",
       "      <td>...</td>\n",
       "      <td>74.4</td>\n",
       "      <td>74.9</td>\n",
       "      <td>75.3</td>\n",
       "      <td>75.7</td>\n",
       "      <td>76.0</td>\n",
       "      <td>76.2</td>\n",
       "      <td>76.4</td>\n",
       "      <td>76.5</td>\n",
       "      <td>76.7</td>\n",
       "      <td>76.8</td>\n",
       "    </tr>\n",
       "    <tr>\n",
       "      <th>Algeria</th>\n",
       "      <td>49.2</td>\n",
       "      <td>49.5</td>\n",
       "      <td>49.9</td>\n",
       "      <td>50.3</td>\n",
       "      <td>50.8</td>\n",
       "      <td>51.4</td>\n",
       "      <td>52.0</td>\n",
       "      <td>52.8</td>\n",
       "      <td>53.6</td>\n",
       "      <td>54.7</td>\n",
       "      <td>...</td>\n",
       "      <td>73.5</td>\n",
       "      <td>73.8</td>\n",
       "      <td>74.0</td>\n",
       "      <td>74.2</td>\n",
       "      <td>74.5</td>\n",
       "      <td>74.7</td>\n",
       "      <td>74.9</td>\n",
       "      <td>75.1</td>\n",
       "      <td>75.3</td>\n",
       "      <td>75.5</td>\n",
       "    </tr>\n",
       "    <tr>\n",
       "      <th>Angola</th>\n",
       "      <td>35.1</td>\n",
       "      <td>35.5</td>\n",
       "      <td>35.9</td>\n",
       "      <td>36.3</td>\n",
       "      <td>36.8</td>\n",
       "      <td>37.2</td>\n",
       "      <td>37.6</td>\n",
       "      <td>37.9</td>\n",
       "      <td>38.2</td>\n",
       "      <td>38.5</td>\n",
       "      <td>...</td>\n",
       "      <td>55.5</td>\n",
       "      <td>56.3</td>\n",
       "      <td>57.0</td>\n",
       "      <td>57.6</td>\n",
       "      <td>58.1</td>\n",
       "      <td>58.4</td>\n",
       "      <td>58.7</td>\n",
       "      <td>59.0</td>\n",
       "      <td>59.2</td>\n",
       "      <td>59.5</td>\n",
       "    </tr>\n",
       "    <tr>\n",
       "      <th>Antigua and Barbuda</th>\n",
       "      <td>62.8</td>\n",
       "      <td>63.1</td>\n",
       "      <td>63.4</td>\n",
       "      <td>63.7</td>\n",
       "      <td>64.0</td>\n",
       "      <td>64.3</td>\n",
       "      <td>64.6</td>\n",
       "      <td>64.9</td>\n",
       "      <td>65.2</td>\n",
       "      <td>65.5</td>\n",
       "      <td>...</td>\n",
       "      <td>72.9</td>\n",
       "      <td>73.1</td>\n",
       "      <td>73.2</td>\n",
       "      <td>73.4</td>\n",
       "      <td>73.5</td>\n",
       "      <td>73.7</td>\n",
       "      <td>73.8</td>\n",
       "      <td>74.0</td>\n",
       "      <td>74.2</td>\n",
       "      <td>74.3</td>\n",
       "    </tr>\n",
       "  </tbody>\n",
       "</table>\n",
       "<p>5 rows × 51 columns</p>\n",
       "</div>"
      ],
      "text/plain": [
       "                     1969  1970  1971  1972  1973  1974  1975  1976  1977  \\\n",
       "country                                                                     \n",
       "Afghanistan          35.5  35.9  36.4  36.8  37.3  37.8  38.3  38.8  39.3   \n",
       "Albania              65.3  65.5  65.7  66.0  66.4  66.8  67.2  67.6  67.9   \n",
       "Algeria              49.2  49.5  49.9  50.3  50.8  51.4  52.0  52.8  53.6   \n",
       "Angola               35.1  35.5  35.9  36.3  36.8  37.2  37.6  37.9  38.2   \n",
       "Antigua and Barbuda  62.8  63.1  63.4  63.7  64.0  64.3  64.6  64.9  65.2   \n",
       "\n",
       "                     1978  ...   2010  2011  2012  2013  2014  2015  2016  \\\n",
       "country                    ...                                              \n",
       "Afghanistan          39.9  ...   60.1  60.5  60.9  61.3  61.7  62.0  62.4   \n",
       "Albania              68.2  ...   74.4  74.9  75.3  75.7  76.0  76.2  76.4   \n",
       "Algeria              54.7  ...   73.5  73.8  74.0  74.2  74.5  74.7  74.9   \n",
       "Angola               38.5  ...   55.5  56.3  57.0  57.6  58.1  58.4  58.7   \n",
       "Antigua and Barbuda  65.5  ...   72.9  73.1  73.2  73.4  73.5  73.7  73.8   \n",
       "\n",
       "                     2017  2018  2019  \n",
       "country                                \n",
       "Afghanistan          62.8  63.1  63.4  \n",
       "Albania              76.5  76.7  76.8  \n",
       "Algeria              75.1  75.3  75.5  \n",
       "Angola               59.0  59.2  59.5  \n",
       "Antigua and Barbuda  74.0  74.2  74.3  \n",
       "\n",
       "[5 rows x 51 columns]"
      ]
     },
     "execution_count": 480,
     "metadata": {},
     "output_type": "execute_result"
    }
   ],
   "source": [
    "life_exp_m.head()"
   ]
  },
  {
   "cell_type": "markdown",
   "metadata": {},
   "source": [
    "##### Government Health Spending"
   ]
  },
  {
   "cell_type": "code",
   "execution_count": 481,
   "metadata": {},
   "outputs": [],
   "source": [
    "health_exp = health_exp.apply(lambda row: row.fillna(row.mean()), axis=1)"
   ]
  },
  {
   "cell_type": "code",
   "execution_count": 482,
   "metadata": {},
   "outputs": [
    {
     "data": {
      "text/plain": [
       "False"
      ]
     },
     "execution_count": 482,
     "metadata": {},
     "output_type": "execute_result"
    }
   ],
   "source": [
    "health_exp.isna().sum().any()"
   ]
  },
  {
   "cell_type": "code",
   "execution_count": 483,
   "metadata": {},
   "outputs": [
    {
     "data": {
      "text/html": [
       "<div>\n",
       "<style scoped>\n",
       "    .dataframe tbody tr th:only-of-type {\n",
       "        vertical-align: middle;\n",
       "    }\n",
       "\n",
       "    .dataframe tbody tr th {\n",
       "        vertical-align: top;\n",
       "    }\n",
       "\n",
       "    .dataframe thead th {\n",
       "        text-align: right;\n",
       "    }\n",
       "</style>\n",
       "<table border=\"1\" class=\"dataframe\">\n",
       "  <thead>\n",
       "    <tr style=\"text-align: right;\">\n",
       "      <th></th>\n",
       "      <th>1995</th>\n",
       "      <th>1996</th>\n",
       "      <th>1997</th>\n",
       "      <th>1998</th>\n",
       "      <th>1999</th>\n",
       "      <th>2000</th>\n",
       "      <th>2001</th>\n",
       "      <th>2002</th>\n",
       "      <th>2003</th>\n",
       "      <th>2004</th>\n",
       "      <th>2005</th>\n",
       "      <th>2006</th>\n",
       "      <th>2007</th>\n",
       "      <th>2008</th>\n",
       "      <th>2009</th>\n",
       "      <th>2010</th>\n",
       "    </tr>\n",
       "    <tr>\n",
       "      <th>country</th>\n",
       "      <th></th>\n",
       "      <th></th>\n",
       "      <th></th>\n",
       "      <th></th>\n",
       "      <th></th>\n",
       "      <th></th>\n",
       "      <th></th>\n",
       "      <th></th>\n",
       "      <th></th>\n",
       "      <th></th>\n",
       "      <th></th>\n",
       "      <th></th>\n",
       "      <th></th>\n",
       "      <th></th>\n",
       "      <th></th>\n",
       "      <th></th>\n",
       "    </tr>\n",
       "  </thead>\n",
       "  <tbody>\n",
       "    <tr>\n",
       "      <th>Afghanistan</th>\n",
       "      <td>2.730333</td>\n",
       "      <td>2.730333</td>\n",
       "      <td>2.730333</td>\n",
       "      <td>2.730333</td>\n",
       "      <td>2.730333</td>\n",
       "      <td>2.730333</td>\n",
       "      <td>2.730333</td>\n",
       "      <td>0.833</td>\n",
       "      <td>1.25</td>\n",
       "      <td>1.61</td>\n",
       "      <td>2.52</td>\n",
       "      <td>2.81</td>\n",
       "      <td>3.5</td>\n",
       "      <td>3.75</td>\n",
       "      <td>3.91</td>\n",
       "      <td>4.39</td>\n",
       "    </tr>\n",
       "    <tr>\n",
       "      <th>Albania</th>\n",
       "      <td>13.900000</td>\n",
       "      <td>17.100000</td>\n",
       "      <td>14.200000</td>\n",
       "      <td>18.600000</td>\n",
       "      <td>28.100000</td>\n",
       "      <td>27.200000</td>\n",
       "      <td>30.500000</td>\n",
       "      <td>32.500</td>\n",
       "      <td>40.60</td>\n",
       "      <td>63.90</td>\n",
       "      <td>71.40</td>\n",
       "      <td>75.50</td>\n",
       "      <td>88.8</td>\n",
       "      <td>109.00</td>\n",
       "      <td>107.00</td>\n",
       "      <td>94.00</td>\n",
       "    </tr>\n",
       "    <tr>\n",
       "      <th>Algeria</th>\n",
       "      <td>46.800000</td>\n",
       "      <td>48.000000</td>\n",
       "      <td>49.700000</td>\n",
       "      <td>48.700000</td>\n",
       "      <td>45.500000</td>\n",
       "      <td>45.900000</td>\n",
       "      <td>52.500000</td>\n",
       "      <td>54.100</td>\n",
       "      <td>62.60</td>\n",
       "      <td>63.20</td>\n",
       "      <td>69.30</td>\n",
       "      <td>81.70</td>\n",
       "      <td>109.0</td>\n",
       "      <td>148.00</td>\n",
       "      <td>143.00</td>\n",
       "      <td>139.00</td>\n",
       "    </tr>\n",
       "    <tr>\n",
       "      <th>Andorra</th>\n",
       "      <td>897.000000</td>\n",
       "      <td>983.000000</td>\n",
       "      <td>967.000000</td>\n",
       "      <td>1340.000000</td>\n",
       "      <td>942.000000</td>\n",
       "      <td>862.000000</td>\n",
       "      <td>890.000000</td>\n",
       "      <td>1020.000</td>\n",
       "      <td>1300.00</td>\n",
       "      <td>1520.00</td>\n",
       "      <td>1630.00</td>\n",
       "      <td>1850.00</td>\n",
       "      <td>2100.0</td>\n",
       "      <td>2370.00</td>\n",
       "      <td>2360.00</td>\n",
       "      <td>2170.00</td>\n",
       "    </tr>\n",
       "    <tr>\n",
       "      <th>Angola</th>\n",
       "      <td>13.500000</td>\n",
       "      <td>8.720000</td>\n",
       "      <td>10.500000</td>\n",
       "      <td>6.650000</td>\n",
       "      <td>6.550000</td>\n",
       "      <td>12.500000</td>\n",
       "      <td>18.300000</td>\n",
       "      <td>14.300</td>\n",
       "      <td>19.40</td>\n",
       "      <td>19.70</td>\n",
       "      <td>27.10</td>\n",
       "      <td>50.90</td>\n",
       "      <td>68.4</td>\n",
       "      <td>126.00</td>\n",
       "      <td>181.00</td>\n",
       "      <td>102.00</td>\n",
       "    </tr>\n",
       "  </tbody>\n",
       "</table>\n",
       "</div>"
      ],
      "text/plain": [
       "                   1995        1996        1997         1998        1999  \\\n",
       "country                                                                    \n",
       "Afghanistan    2.730333    2.730333    2.730333     2.730333    2.730333   \n",
       "Albania       13.900000   17.100000   14.200000    18.600000   28.100000   \n",
       "Algeria       46.800000   48.000000   49.700000    48.700000   45.500000   \n",
       "Andorra      897.000000  983.000000  967.000000  1340.000000  942.000000   \n",
       "Angola        13.500000    8.720000   10.500000     6.650000    6.550000   \n",
       "\n",
       "                   2000        2001      2002     2003     2004     2005  \\\n",
       "country                                                                    \n",
       "Afghanistan    2.730333    2.730333     0.833     1.25     1.61     2.52   \n",
       "Albania       27.200000   30.500000    32.500    40.60    63.90    71.40   \n",
       "Algeria       45.900000   52.500000    54.100    62.60    63.20    69.30   \n",
       "Andorra      862.000000  890.000000  1020.000  1300.00  1520.00  1630.00   \n",
       "Angola        12.500000   18.300000    14.300    19.40    19.70    27.10   \n",
       "\n",
       "                2006    2007     2008     2009     2010  \n",
       "country                                                  \n",
       "Afghanistan     2.81     3.5     3.75     3.91     4.39  \n",
       "Albania        75.50    88.8   109.00   107.00    94.00  \n",
       "Algeria        81.70   109.0   148.00   143.00   139.00  \n",
       "Andorra      1850.00  2100.0  2370.00  2360.00  2170.00  \n",
       "Angola         50.90    68.4   126.00   181.00   102.00  "
      ]
     },
     "execution_count": 483,
     "metadata": {},
     "output_type": "execute_result"
    }
   ],
   "source": [
    "health_exp.head()"
   ]
  },
  {
   "cell_type": "markdown",
   "metadata": {},
   "source": [
    "##### Gini Coefficient"
   ]
  },
  {
   "cell_type": "code",
   "execution_count": 484,
   "metadata": {},
   "outputs": [],
   "source": [
    "gini = gini.apply(lambda row: row.fillna(row.mean()), axis=1)"
   ]
  },
  {
   "cell_type": "code",
   "execution_count": 485,
   "metadata": {},
   "outputs": [
    {
     "data": {
      "text/plain": [
       "False"
      ]
     },
     "execution_count": 485,
     "metadata": {},
     "output_type": "execute_result"
    }
   ],
   "source": [
    "gini.isna().sum().any()"
   ]
  },
  {
   "cell_type": "code",
   "execution_count": 486,
   "metadata": {},
   "outputs": [],
   "source": [
    "gini.drop(gini.loc[:,'1800':'1968'].columns, axis = 1, inplace=True) "
   ]
  },
  {
   "cell_type": "code",
   "execution_count": 487,
   "metadata": {},
   "outputs": [],
   "source": [
    "gini.drop(gini.loc[:,'2020':'2040'].columns, axis = 1, inplace=True) "
   ]
  },
  {
   "cell_type": "code",
   "execution_count": 488,
   "metadata": {},
   "outputs": [
    {
     "data": {
      "text/html": [
       "<div>\n",
       "<style scoped>\n",
       "    .dataframe tbody tr th:only-of-type {\n",
       "        vertical-align: middle;\n",
       "    }\n",
       "\n",
       "    .dataframe tbody tr th {\n",
       "        vertical-align: top;\n",
       "    }\n",
       "\n",
       "    .dataframe thead th {\n",
       "        text-align: right;\n",
       "    }\n",
       "</style>\n",
       "<table border=\"1\" class=\"dataframe\">\n",
       "  <thead>\n",
       "    <tr style=\"text-align: right;\">\n",
       "      <th></th>\n",
       "      <th>1969</th>\n",
       "      <th>1970</th>\n",
       "      <th>1971</th>\n",
       "      <th>1972</th>\n",
       "      <th>1973</th>\n",
       "      <th>1974</th>\n",
       "      <th>1975</th>\n",
       "      <th>1976</th>\n",
       "      <th>1977</th>\n",
       "      <th>1978</th>\n",
       "      <th>...</th>\n",
       "      <th>2010</th>\n",
       "      <th>2011</th>\n",
       "      <th>2012</th>\n",
       "      <th>2013</th>\n",
       "      <th>2014</th>\n",
       "      <th>2015</th>\n",
       "      <th>2016</th>\n",
       "      <th>2017</th>\n",
       "      <th>2018</th>\n",
       "      <th>2019</th>\n",
       "    </tr>\n",
       "    <tr>\n",
       "      <th>country</th>\n",
       "      <th></th>\n",
       "      <th></th>\n",
       "      <th></th>\n",
       "      <th></th>\n",
       "      <th></th>\n",
       "      <th></th>\n",
       "      <th></th>\n",
       "      <th></th>\n",
       "      <th></th>\n",
       "      <th></th>\n",
       "      <th></th>\n",
       "      <th></th>\n",
       "      <th></th>\n",
       "      <th></th>\n",
       "      <th></th>\n",
       "      <th></th>\n",
       "      <th></th>\n",
       "      <th></th>\n",
       "      <th></th>\n",
       "      <th></th>\n",
       "      <th></th>\n",
       "    </tr>\n",
       "  </thead>\n",
       "  <tbody>\n",
       "    <tr>\n",
       "      <th>Afghanistan</th>\n",
       "      <td>30.5</td>\n",
       "      <td>30.5</td>\n",
       "      <td>30.8</td>\n",
       "      <td>31.2</td>\n",
       "      <td>31.6</td>\n",
       "      <td>31.9</td>\n",
       "      <td>32.1</td>\n",
       "      <td>32.2</td>\n",
       "      <td>32.2</td>\n",
       "      <td>32.2</td>\n",
       "      <td>...</td>\n",
       "      <td>36.8</td>\n",
       "      <td>36.8</td>\n",
       "      <td>36.8</td>\n",
       "      <td>36.8</td>\n",
       "      <td>36.8</td>\n",
       "      <td>36.8</td>\n",
       "      <td>36.8</td>\n",
       "      <td>36.8</td>\n",
       "      <td>36.8</td>\n",
       "      <td>36.8</td>\n",
       "    </tr>\n",
       "    <tr>\n",
       "      <th>Albania</th>\n",
       "      <td>26.7</td>\n",
       "      <td>26.8</td>\n",
       "      <td>26.8</td>\n",
       "      <td>26.8</td>\n",
       "      <td>26.8</td>\n",
       "      <td>26.8</td>\n",
       "      <td>26.8</td>\n",
       "      <td>26.8</td>\n",
       "      <td>26.8</td>\n",
       "      <td>26.8</td>\n",
       "      <td>...</td>\n",
       "      <td>29.5</td>\n",
       "      <td>29.3</td>\n",
       "      <td>29.1</td>\n",
       "      <td>29.0</td>\n",
       "      <td>29.0</td>\n",
       "      <td>29.0</td>\n",
       "      <td>29.0</td>\n",
       "      <td>29.0</td>\n",
       "      <td>29.0</td>\n",
       "      <td>29.0</td>\n",
       "    </tr>\n",
       "    <tr>\n",
       "      <th>Algeria</th>\n",
       "      <td>39.9</td>\n",
       "      <td>39.9</td>\n",
       "      <td>39.9</td>\n",
       "      <td>39.9</td>\n",
       "      <td>40.0</td>\n",
       "      <td>40.0</td>\n",
       "      <td>40.0</td>\n",
       "      <td>40.0</td>\n",
       "      <td>40.0</td>\n",
       "      <td>40.0</td>\n",
       "      <td>...</td>\n",
       "      <td>28.5</td>\n",
       "      <td>28.2</td>\n",
       "      <td>27.9</td>\n",
       "      <td>27.7</td>\n",
       "      <td>27.6</td>\n",
       "      <td>27.6</td>\n",
       "      <td>27.6</td>\n",
       "      <td>27.6</td>\n",
       "      <td>27.6</td>\n",
       "      <td>27.6</td>\n",
       "    </tr>\n",
       "    <tr>\n",
       "      <th>Andorra</th>\n",
       "      <td>40.0</td>\n",
       "      <td>40.0</td>\n",
       "      <td>40.0</td>\n",
       "      <td>40.0</td>\n",
       "      <td>40.0</td>\n",
       "      <td>40.0</td>\n",
       "      <td>40.0</td>\n",
       "      <td>40.0</td>\n",
       "      <td>40.0</td>\n",
       "      <td>40.0</td>\n",
       "      <td>...</td>\n",
       "      <td>40.0</td>\n",
       "      <td>40.0</td>\n",
       "      <td>40.0</td>\n",
       "      <td>40.0</td>\n",
       "      <td>40.0</td>\n",
       "      <td>40.0</td>\n",
       "      <td>40.0</td>\n",
       "      <td>40.0</td>\n",
       "      <td>40.0</td>\n",
       "      <td>40.0</td>\n",
       "    </tr>\n",
       "    <tr>\n",
       "      <th>Angola</th>\n",
       "      <td>54.9</td>\n",
       "      <td>54.8</td>\n",
       "      <td>54.7</td>\n",
       "      <td>54.6</td>\n",
       "      <td>54.5</td>\n",
       "      <td>54.4</td>\n",
       "      <td>54.4</td>\n",
       "      <td>54.3</td>\n",
       "      <td>54.2</td>\n",
       "      <td>54.1</td>\n",
       "      <td>...</td>\n",
       "      <td>42.9</td>\n",
       "      <td>42.7</td>\n",
       "      <td>42.6</td>\n",
       "      <td>42.6</td>\n",
       "      <td>42.6</td>\n",
       "      <td>42.6</td>\n",
       "      <td>42.6</td>\n",
       "      <td>42.6</td>\n",
       "      <td>42.6</td>\n",
       "      <td>42.6</td>\n",
       "    </tr>\n",
       "  </tbody>\n",
       "</table>\n",
       "<p>5 rows × 51 columns</p>\n",
       "</div>"
      ],
      "text/plain": [
       "             1969  1970  1971  1972  1973  1974  1975  1976  1977  1978  ...   \\\n",
       "country                                                                  ...    \n",
       "Afghanistan  30.5  30.5  30.8  31.2  31.6  31.9  32.1  32.2  32.2  32.2  ...    \n",
       "Albania      26.7  26.8  26.8  26.8  26.8  26.8  26.8  26.8  26.8  26.8  ...    \n",
       "Algeria      39.9  39.9  39.9  39.9  40.0  40.0  40.0  40.0  40.0  40.0  ...    \n",
       "Andorra      40.0  40.0  40.0  40.0  40.0  40.0  40.0  40.0  40.0  40.0  ...    \n",
       "Angola       54.9  54.8  54.7  54.6  54.5  54.4  54.4  54.3  54.2  54.1  ...    \n",
       "\n",
       "             2010  2011  2012  2013  2014  2015  2016  2017  2018  2019  \n",
       "country                                                                  \n",
       "Afghanistan  36.8  36.8  36.8  36.8  36.8  36.8  36.8  36.8  36.8  36.8  \n",
       "Albania      29.5  29.3  29.1  29.0  29.0  29.0  29.0  29.0  29.0  29.0  \n",
       "Algeria      28.5  28.2  27.9  27.7  27.6  27.6  27.6  27.6  27.6  27.6  \n",
       "Andorra      40.0  40.0  40.0  40.0  40.0  40.0  40.0  40.0  40.0  40.0  \n",
       "Angola       42.9  42.7  42.6  42.6  42.6  42.6  42.6  42.6  42.6  42.6  \n",
       "\n",
       "[5 rows x 51 columns]"
      ]
     },
     "execution_count": 488,
     "metadata": {},
     "output_type": "execute_result"
    }
   ],
   "source": [
    "gini.head()"
   ]
  },
  {
   "cell_type": "markdown",
   "metadata": {},
   "source": [
    "##### GDP PPP"
   ]
  },
  {
   "cell_type": "code",
   "execution_count": 489,
   "metadata": {},
   "outputs": [],
   "source": [
    "gdp = gdp.apply(lambda row: row.fillna(row.mean()), axis=1)"
   ]
  },
  {
   "cell_type": "code",
   "execution_count": 490,
   "metadata": {},
   "outputs": [
    {
     "data": {
      "text/plain": [
       "False"
      ]
     },
     "execution_count": 490,
     "metadata": {},
     "output_type": "execute_result"
    }
   ],
   "source": [
    "gdp.isna().sum().any()"
   ]
  },
  {
   "cell_type": "code",
   "execution_count": 491,
   "metadata": {},
   "outputs": [],
   "source": [
    "gdp.drop(gdp.loc[:,'1801':'1968'].columns, axis = 1, inplace=True)"
   ]
  },
  {
   "cell_type": "code",
   "execution_count": 492,
   "metadata": {},
   "outputs": [
    {
     "data": {
      "text/html": [
       "<div>\n",
       "<style scoped>\n",
       "    .dataframe tbody tr th:only-of-type {\n",
       "        vertical-align: middle;\n",
       "    }\n",
       "\n",
       "    .dataframe tbody tr th {\n",
       "        vertical-align: top;\n",
       "    }\n",
       "\n",
       "    .dataframe thead th {\n",
       "        text-align: right;\n",
       "    }\n",
       "</style>\n",
       "<table border=\"1\" class=\"dataframe\">\n",
       "  <thead>\n",
       "    <tr style=\"text-align: right;\">\n",
       "      <th></th>\n",
       "      <th>1969</th>\n",
       "      <th>1970</th>\n",
       "      <th>1971</th>\n",
       "      <th>1972</th>\n",
       "      <th>1973</th>\n",
       "      <th>1974</th>\n",
       "      <th>1975</th>\n",
       "      <th>1976</th>\n",
       "      <th>1977</th>\n",
       "      <th>1978</th>\n",
       "      <th>...</th>\n",
       "      <th>2010</th>\n",
       "      <th>2011</th>\n",
       "      <th>2012</th>\n",
       "      <th>2013</th>\n",
       "      <th>2014</th>\n",
       "      <th>2015</th>\n",
       "      <th>2016</th>\n",
       "      <th>2017</th>\n",
       "      <th>2018</th>\n",
       "      <th>2019</th>\n",
       "    </tr>\n",
       "    <tr>\n",
       "      <th>country</th>\n",
       "      <th></th>\n",
       "      <th></th>\n",
       "      <th></th>\n",
       "      <th></th>\n",
       "      <th></th>\n",
       "      <th></th>\n",
       "      <th></th>\n",
       "      <th></th>\n",
       "      <th></th>\n",
       "      <th></th>\n",
       "      <th></th>\n",
       "      <th></th>\n",
       "      <th></th>\n",
       "      <th></th>\n",
       "      <th></th>\n",
       "      <th></th>\n",
       "      <th></th>\n",
       "      <th></th>\n",
       "      <th></th>\n",
       "      <th></th>\n",
       "      <th></th>\n",
       "    </tr>\n",
       "  </thead>\n",
       "  <tbody>\n",
       "    <tr>\n",
       "      <th>Afghanistan</th>\n",
       "      <td>-0.883</td>\n",
       "      <td>-0.514</td>\n",
       "      <td>-7.160</td>\n",
       "      <td>-4.36</td>\n",
       "      <td>8.580</td>\n",
       "      <td>2.750</td>\n",
       "      <td>2.530</td>\n",
       "      <td>2.330</td>\n",
       "      <td>-9.240</td>\n",
       "      <td>5.21</td>\n",
       "      <td>...</td>\n",
       "      <td>5.170</td>\n",
       "      <td>3.850</td>\n",
       "      <td>11.200000</td>\n",
       "      <td>1.130000</td>\n",
       "      <td>0.837000</td>\n",
       "      <td>2.110000</td>\n",
       "      <td>2.680000</td>\n",
       "      <td>2.760000</td>\n",
       "      <td>3.020000</td>\n",
       "      <td>3.380000</td>\n",
       "    </tr>\n",
       "    <tr>\n",
       "      <th>Albania</th>\n",
       "      <td>3.400</td>\n",
       "      <td>3.690</td>\n",
       "      <td>4.000</td>\n",
       "      <td>3.92</td>\n",
       "      <td>4.980</td>\n",
       "      <td>0.373</td>\n",
       "      <td>0.348</td>\n",
       "      <td>0.400</td>\n",
       "      <td>0.438</td>\n",
       "      <td>0.46</td>\n",
       "      <td>...</td>\n",
       "      <td>2.980</td>\n",
       "      <td>2.490</td>\n",
       "      <td>2.280000</td>\n",
       "      <td>1.720000</td>\n",
       "      <td>2.610000</td>\n",
       "      <td>3.820000</td>\n",
       "      <td>4.720000</td>\n",
       "      <td>5.030000</td>\n",
       "      <td>5.030000</td>\n",
       "      <td>5.230000</td>\n",
       "    </tr>\n",
       "    <tr>\n",
       "      <th>Algeria</th>\n",
       "      <td>6.480</td>\n",
       "      <td>6.830</td>\n",
       "      <td>-11.100</td>\n",
       "      <td>17.50</td>\n",
       "      <td>0.285</td>\n",
       "      <td>3.010</td>\n",
       "      <td>3.890</td>\n",
       "      <td>3.420</td>\n",
       "      <td>5.770</td>\n",
       "      <td>9.42</td>\n",
       "      <td>...</td>\n",
       "      <td>2.060</td>\n",
       "      <td>0.857</td>\n",
       "      <td>1.160000</td>\n",
       "      <td>1.610000</td>\n",
       "      <td>2.180000</td>\n",
       "      <td>2.100000</td>\n",
       "      <td>2.360000</td>\n",
       "      <td>2.500000</td>\n",
       "      <td>2.630000</td>\n",
       "      <td>2.680000</td>\n",
       "    </tr>\n",
       "    <tr>\n",
       "      <th>Andorra</th>\n",
       "      <td>3.800</td>\n",
       "      <td>3.800</td>\n",
       "      <td>-0.603</td>\n",
       "      <td>2.76</td>\n",
       "      <td>2.630</td>\n",
       "      <td>0.870</td>\n",
       "      <td>-3.590</td>\n",
       "      <td>-0.531</td>\n",
       "      <td>-0.634</td>\n",
       "      <td>-1.92</td>\n",
       "      <td>...</td>\n",
       "      <td>-4.780</td>\n",
       "      <td>-4.300</td>\n",
       "      <td>1.560815</td>\n",
       "      <td>1.560815</td>\n",
       "      <td>1.560815</td>\n",
       "      <td>1.560815</td>\n",
       "      <td>1.560815</td>\n",
       "      <td>1.560815</td>\n",
       "      <td>1.560815</td>\n",
       "      <td>1.560815</td>\n",
       "    </tr>\n",
       "    <tr>\n",
       "      <th>Angola</th>\n",
       "      <td>1.150</td>\n",
       "      <td>4.510</td>\n",
       "      <td>3.880</td>\n",
       "      <td>-1.97</td>\n",
       "      <td>5.680</td>\n",
       "      <td>0.714</td>\n",
       "      <td>-7.370</td>\n",
       "      <td>-7.630</td>\n",
       "      <td>-1.870</td>\n",
       "      <td>-7.87</td>\n",
       "      <td>...</td>\n",
       "      <td>0.594</td>\n",
       "      <td>1.030</td>\n",
       "      <td>2.130000</td>\n",
       "      <td>1.030000</td>\n",
       "      <td>2.240000</td>\n",
       "      <td>2.460000</td>\n",
       "      <td>2.770000</td>\n",
       "      <td>0.262000</td>\n",
       "      <td>3.460000</td>\n",
       "      <td>3.550000</td>\n",
       "    </tr>\n",
       "  </tbody>\n",
       "</table>\n",
       "<p>5 rows × 51 columns</p>\n",
       "</div>"
      ],
      "text/plain": [
       "              1969   1970    1971   1972   1973   1974   1975   1976   1977  \\\n",
       "country                                                                       \n",
       "Afghanistan -0.883 -0.514  -7.160  -4.36  8.580  2.750  2.530  2.330 -9.240   \n",
       "Albania      3.400  3.690   4.000   3.92  4.980  0.373  0.348  0.400  0.438   \n",
       "Algeria      6.480  6.830 -11.100  17.50  0.285  3.010  3.890  3.420  5.770   \n",
       "Andorra      3.800  3.800  -0.603   2.76  2.630  0.870 -3.590 -0.531 -0.634   \n",
       "Angola       1.150  4.510   3.880  -1.97  5.680  0.714 -7.370 -7.630 -1.870   \n",
       "\n",
       "             1978    ...      2010   2011       2012      2013      2014  \\\n",
       "country              ...                                                   \n",
       "Afghanistan  5.21    ...     5.170  3.850  11.200000  1.130000  0.837000   \n",
       "Albania      0.46    ...     2.980  2.490   2.280000  1.720000  2.610000   \n",
       "Algeria      9.42    ...     2.060  0.857   1.160000  1.610000  2.180000   \n",
       "Andorra     -1.92    ...    -4.780 -4.300   1.560815  1.560815  1.560815   \n",
       "Angola      -7.87    ...     0.594  1.030   2.130000  1.030000  2.240000   \n",
       "\n",
       "                 2015      2016      2017      2018      2019  \n",
       "country                                                        \n",
       "Afghanistan  2.110000  2.680000  2.760000  3.020000  3.380000  \n",
       "Albania      3.820000  4.720000  5.030000  5.030000  5.230000  \n",
       "Algeria      2.100000  2.360000  2.500000  2.630000  2.680000  \n",
       "Andorra      1.560815  1.560815  1.560815  1.560815  1.560815  \n",
       "Angola       2.460000  2.770000  0.262000  3.460000  3.550000  \n",
       "\n",
       "[5 rows x 51 columns]"
      ]
     },
     "execution_count": 492,
     "metadata": {},
     "output_type": "execute_result"
    }
   ],
   "source": [
    "gdp.head()"
   ]
  },
  {
   "cell_type": "markdown",
   "metadata": {},
   "source": [
    "#### Create a new DataFrame\n",
    "We will join information to perform comparisons across indicators. For these comparisons we will use each indicator's mean during the last 50 years for each country.\n",
    "\n",
    "#### Get the overall average values for each indicator"
   ]
  },
  {
   "cell_type": "code",
   "execution_count": 493,
   "metadata": {},
   "outputs": [],
   "source": [
    "avg_life_exp = life_exp.mean(axis=1)\n",
    "avg_life_exp.index = life_exp.index\n",
    "avg_life_exp_f = life_exp_f.mean(axis=1)\n",
    "avg_life_exp_f.index = life_exp_f.index\n",
    "avg_life_exp_m = life_exp_m.mean(axis=1)\n",
    "avg_life_exp_m.index = life_exp_m.index\n",
    "avg_govt_health_spe = health_exp.mean(axis=1)\n",
    "avg_govt_health_spe .index = health_exp.index\n",
    "avg_gini = gini.mean(axis=1)\n",
    "avg_gini.index = gini.index\n",
    "avg_gdp = gdp.mean(axis=1)\n",
    "avg_gdp.index = gdp.index"
   ]
  },
  {
   "cell_type": "markdown",
   "metadata": {},
   "source": [
    "<a id='df_combined'></a>\n",
    "#### Concatenate all average values to the life expectancy DataFrame"
   ]
  },
  {
   "cell_type": "code",
   "execution_count": 494,
   "metadata": {},
   "outputs": [
    {
     "data": {
      "text/html": [
       "<div>\n",
       "<style scoped>\n",
       "    .dataframe tbody tr th:only-of-type {\n",
       "        vertical-align: middle;\n",
       "    }\n",
       "\n",
       "    .dataframe tbody tr th {\n",
       "        vertical-align: top;\n",
       "    }\n",
       "\n",
       "    .dataframe thead th {\n",
       "        text-align: right;\n",
       "    }\n",
       "</style>\n",
       "<table border=\"1\" class=\"dataframe\">\n",
       "  <thead>\n",
       "    <tr style=\"text-align: right;\">\n",
       "      <th></th>\n",
       "      <th>avg_life_exp</th>\n",
       "      <th>avg_life_exp_f</th>\n",
       "      <th>avg_life_exp_m</th>\n",
       "      <th>avg_gdp</th>\n",
       "      <th>avg_gini</th>\n",
       "      <th>avg_govt_health_spe</th>\n",
       "    </tr>\n",
       "    <tr>\n",
       "      <th>country</th>\n",
       "      <th></th>\n",
       "      <th></th>\n",
       "      <th></th>\n",
       "      <th></th>\n",
       "      <th></th>\n",
       "      <th></th>\n",
       "    </tr>\n",
       "  </thead>\n",
       "  <tbody>\n",
       "    <tr>\n",
       "      <th>Afghanistan</th>\n",
       "      <td>52.515686</td>\n",
       "      <td>52.368627</td>\n",
       "      <td>50.296078</td>\n",
       "      <td>1.606333</td>\n",
       "      <td>34.990196</td>\n",
       "      <td>2.730333</td>\n",
       "    </tr>\n",
       "    <tr>\n",
       "      <th>Albania</th>\n",
       "      <td>73.784314</td>\n",
       "      <td>75.368627</td>\n",
       "      <td>70.652941</td>\n",
       "      <td>2.543294</td>\n",
       "      <td>28.143137</td>\n",
       "      <td>52.018750</td>\n",
       "    </tr>\n",
       "    <tr>\n",
       "      <th>Algeria</th>\n",
       "      <td>70.305882</td>\n",
       "      <td>67.433333</td>\n",
       "      <td>64.880392</td>\n",
       "      <td>1.584529</td>\n",
       "      <td>35.043137</td>\n",
       "      <td>75.437500</td>\n",
       "    </tr>\n",
       "    <tr>\n",
       "      <th>Andorra</th>\n",
       "      <td>79.770833</td>\n",
       "      <td>NaN</td>\n",
       "      <td>NaN</td>\n",
       "      <td>0.405657</td>\n",
       "      <td>40.000000</td>\n",
       "      <td>1450.062500</td>\n",
       "    </tr>\n",
       "    <tr>\n",
       "      <th>Angola</th>\n",
       "      <td>52.278431</td>\n",
       "      <td>49.245098</td>\n",
       "      <td>44.843137</td>\n",
       "      <td>1.347567</td>\n",
       "      <td>50.254902</td>\n",
       "      <td>42.845000</td>\n",
       "    </tr>\n",
       "  </tbody>\n",
       "</table>\n",
       "</div>"
      ],
      "text/plain": [
       "             avg_life_exp  avg_life_exp_f  avg_life_exp_m   avg_gdp  \\\n",
       "country                                                               \n",
       "Afghanistan     52.515686       52.368627       50.296078  1.606333   \n",
       "Albania         73.784314       75.368627       70.652941  2.543294   \n",
       "Algeria         70.305882       67.433333       64.880392  1.584529   \n",
       "Andorra         79.770833             NaN             NaN  0.405657   \n",
       "Angola          52.278431       49.245098       44.843137  1.347567   \n",
       "\n",
       "              avg_gini  avg_govt_health_spe  \n",
       "country                                      \n",
       "Afghanistan  34.990196             2.730333  \n",
       "Albania      28.143137            52.018750  \n",
       "Algeria      35.043137            75.437500  \n",
       "Andorra      40.000000          1450.062500  \n",
       "Angola       50.254902            42.845000  "
      ]
     },
     "execution_count": 494,
     "metadata": {},
     "output_type": "execute_result"
    }
   ],
   "source": [
    "df_combined = pd.concat([avg_life_exp, avg_life_exp_f, avg_life_exp_m, avg_gdp, avg_gini, avg_govt_health_spe], axis=1, sort=True,verify_integrity=True)\n",
    "df_combined.columns=['avg_life_exp', 'avg_life_exp_f', 'avg_life_exp_m', 'avg_gdp', 'avg_gini', 'avg_govt_health_spe']\n",
    "df_combined.index=gini.index\n",
    "df_combined.head()"
   ]
  },
  {
   "cell_type": "markdown",
   "metadata": {},
   "source": [
    "#### NaN Values in the combined DataFrame\n",
    "\n",
    "- The NaN values in this DataFrame (above) refer to information that was not available in the specific original file, such as, the female and male life expectancy for Andorra.\n",
    "\n",
    "- Therefore, we can not replace it by a mean.\n",
    "\n",
    "#### Create visualization for the missing values"
   ]
  },
  {
   "cell_type": "code",
   "execution_count": 495,
   "metadata": {},
   "outputs": [
    {
     "data": {
      "text/html": [
       "<div>\n",
       "<style scoped>\n",
       "    .dataframe tbody tr th:only-of-type {\n",
       "        vertical-align: middle;\n",
       "    }\n",
       "\n",
       "    .dataframe tbody tr th {\n",
       "        vertical-align: top;\n",
       "    }\n",
       "\n",
       "    .dataframe thead th {\n",
       "        text-align: right;\n",
       "    }\n",
       "</style>\n",
       "<table border=\"1\" class=\"dataframe\">\n",
       "  <thead>\n",
       "    <tr style=\"text-align: right;\">\n",
       "      <th></th>\n",
       "      <th>avg_life_exp</th>\n",
       "      <th>avg_life_exp_f</th>\n",
       "      <th>avg_life_exp_m</th>\n",
       "      <th>avg_gdp</th>\n",
       "      <th>avg_gini</th>\n",
       "      <th>avg_govt_health_spe</th>\n",
       "    </tr>\n",
       "    <tr>\n",
       "      <th>country</th>\n",
       "      <th></th>\n",
       "      <th></th>\n",
       "      <th></th>\n",
       "      <th></th>\n",
       "      <th></th>\n",
       "      <th></th>\n",
       "    </tr>\n",
       "  </thead>\n",
       "  <tbody>\n",
       "    <tr>\n",
       "      <th>Andorra</th>\n",
       "      <td>79.770833</td>\n",
       "      <td>NaN</td>\n",
       "      <td>NaN</td>\n",
       "      <td>0.405657</td>\n",
       "      <td>40.000000</td>\n",
       "      <td>1450.06250</td>\n",
       "    </tr>\n",
       "    <tr>\n",
       "      <th>Dominica</th>\n",
       "      <td>72.958333</td>\n",
       "      <td>NaN</td>\n",
       "      <td>NaN</td>\n",
       "      <td>2.993549</td>\n",
       "      <td>40.000000</td>\n",
       "      <td>174.37500</td>\n",
       "    </tr>\n",
       "    <tr>\n",
       "      <th>Holy See</th>\n",
       "      <td>NaN</td>\n",
       "      <td>NaN</td>\n",
       "      <td>NaN</td>\n",
       "      <td>NaN</td>\n",
       "      <td>40.000000</td>\n",
       "      <td>NaN</td>\n",
       "    </tr>\n",
       "    <tr>\n",
       "      <th>Liechtenstein</th>\n",
       "      <td>NaN</td>\n",
       "      <td>NaN</td>\n",
       "      <td>NaN</td>\n",
       "      <td>2.442735</td>\n",
       "      <td>40.000000</td>\n",
       "      <td>NaN</td>\n",
       "    </tr>\n",
       "    <tr>\n",
       "      <th>Marshall Islands</th>\n",
       "      <td>62.277083</td>\n",
       "      <td>NaN</td>\n",
       "      <td>NaN</td>\n",
       "      <td>1.189616</td>\n",
       "      <td>40.000000</td>\n",
       "      <td>367.25000</td>\n",
       "    </tr>\n",
       "    <tr>\n",
       "      <th>Monaco</th>\n",
       "      <td>NaN</td>\n",
       "      <td>NaN</td>\n",
       "      <td>NaN</td>\n",
       "      <td>1.989773</td>\n",
       "      <td>40.000000</td>\n",
       "      <td>3573.12500</td>\n",
       "    </tr>\n",
       "    <tr>\n",
       "      <th>Nauru</th>\n",
       "      <td>NaN</td>\n",
       "      <td>NaN</td>\n",
       "      <td>NaN</td>\n",
       "      <td>1.597629</td>\n",
       "      <td>40.000000</td>\n",
       "      <td>346.62500</td>\n",
       "    </tr>\n",
       "    <tr>\n",
       "      <th>North Korea</th>\n",
       "      <td>69.449020</td>\n",
       "      <td>70.386275</td>\n",
       "      <td>63.498039</td>\n",
       "      <td>-0.218871</td>\n",
       "      <td>37.000000</td>\n",
       "      <td>NaN</td>\n",
       "    </tr>\n",
       "    <tr>\n",
       "      <th>Palau</th>\n",
       "      <td>NaN</td>\n",
       "      <td>NaN</td>\n",
       "      <td>NaN</td>\n",
       "      <td>-0.037333</td>\n",
       "      <td>40.000000</td>\n",
       "      <td>589.93750</td>\n",
       "    </tr>\n",
       "    <tr>\n",
       "      <th>Palestine</th>\n",
       "      <td>69.560784</td>\n",
       "      <td>69.215686</td>\n",
       "      <td>65.764706</td>\n",
       "      <td>1.217592</td>\n",
       "      <td>34.100000</td>\n",
       "      <td>NaN</td>\n",
       "    </tr>\n",
       "    <tr>\n",
       "      <th>San Marino</th>\n",
       "      <td>NaN</td>\n",
       "      <td>NaN</td>\n",
       "      <td>NaN</td>\n",
       "      <td>1.654767</td>\n",
       "      <td>40.000000</td>\n",
       "      <td>2532.50000</td>\n",
       "    </tr>\n",
       "    <tr>\n",
       "      <th>South Sudan</th>\n",
       "      <td>53.441176</td>\n",
       "      <td>47.358824</td>\n",
       "      <td>44.837255</td>\n",
       "      <td>1.479449</td>\n",
       "      <td>45.029412</td>\n",
       "      <td>NaN</td>\n",
       "    </tr>\n",
       "    <tr>\n",
       "      <th>St. Kitts and Nevis</th>\n",
       "      <td>NaN</td>\n",
       "      <td>NaN</td>\n",
       "      <td>NaN</td>\n",
       "      <td>3.227667</td>\n",
       "      <td>40.000000</td>\n",
       "      <td>233.18750</td>\n",
       "    </tr>\n",
       "    <tr>\n",
       "      <th>Tuvalu</th>\n",
       "      <td>NaN</td>\n",
       "      <td>NaN</td>\n",
       "      <td>NaN</td>\n",
       "      <td>2.039545</td>\n",
       "      <td>39.100000</td>\n",
       "      <td>312.51875</td>\n",
       "    </tr>\n",
       "  </tbody>\n",
       "</table>\n",
       "</div>"
      ],
      "text/plain": [
       "                     avg_life_exp  avg_life_exp_f  avg_life_exp_m   avg_gdp  \\\n",
       "country                                                                       \n",
       "Andorra                 79.770833             NaN             NaN  0.405657   \n",
       "Dominica                72.958333             NaN             NaN  2.993549   \n",
       "Holy See                      NaN             NaN             NaN       NaN   \n",
       "Liechtenstein                 NaN             NaN             NaN  2.442735   \n",
       "Marshall Islands        62.277083             NaN             NaN  1.189616   \n",
       "Monaco                        NaN             NaN             NaN  1.989773   \n",
       "Nauru                         NaN             NaN             NaN  1.597629   \n",
       "North Korea             69.449020       70.386275       63.498039 -0.218871   \n",
       "Palau                         NaN             NaN             NaN -0.037333   \n",
       "Palestine               69.560784       69.215686       65.764706  1.217592   \n",
       "San Marino                    NaN             NaN             NaN  1.654767   \n",
       "South Sudan             53.441176       47.358824       44.837255  1.479449   \n",
       "St. Kitts and Nevis           NaN             NaN             NaN  3.227667   \n",
       "Tuvalu                        NaN             NaN             NaN  2.039545   \n",
       "\n",
       "                      avg_gini  avg_govt_health_spe  \n",
       "country                                              \n",
       "Andorra              40.000000           1450.06250  \n",
       "Dominica             40.000000            174.37500  \n",
       "Holy See             40.000000                  NaN  \n",
       "Liechtenstein        40.000000                  NaN  \n",
       "Marshall Islands     40.000000            367.25000  \n",
       "Monaco               40.000000           3573.12500  \n",
       "Nauru                40.000000            346.62500  \n",
       "North Korea          37.000000                  NaN  \n",
       "Palau                40.000000            589.93750  \n",
       "Palestine            34.100000                  NaN  \n",
       "San Marino           40.000000           2532.50000  \n",
       "South Sudan          45.029412                  NaN  \n",
       "St. Kitts and Nevis  40.000000            233.18750  \n",
       "Tuvalu               39.100000            312.51875  "
      ]
     },
     "execution_count": 495,
     "metadata": {},
     "output_type": "execute_result"
    }
   ],
   "source": [
    "df_combined[df_combined.isnull().any(axis=1)]"
   ]
  },
  {
   "cell_type": "code",
   "execution_count": 496,
   "metadata": {},
   "outputs": [
    {
     "name": "stdout",
     "output_type": "stream",
     "text": [
      "<class 'pandas.core.frame.DataFrame'>\n",
      "Index: 195 entries, Afghanistan to Zimbabwe\n",
      "Data columns (total 6 columns):\n",
      "avg_life_exp           187 non-null float64\n",
      "avg_life_exp_f         184 non-null float64\n",
      "avg_life_exp_m         184 non-null float64\n",
      "avg_gdp                194 non-null float64\n",
      "avg_gini               195 non-null float64\n",
      "avg_govt_health_spe    190 non-null float64\n",
      "dtypes: float64(6)\n",
      "memory usage: 10.7+ KB\n"
     ]
    }
   ],
   "source": [
    "df_combined.info()"
   ]
  },
  {
   "cell_type": "markdown",
   "metadata": {},
   "source": [
    "#### Drop NaN values\n",
    "\n",
    "- General life expectancy is the main and most relevant variable in this report. Therefore, we will keep the rows that have NaN values in other variables but have a valid number for the general life expectancy.            \n",
    "           \t\t\t    \t  \n",
    "North Korea\t \t      \t         \t\t     \n",
    "- avg_life_exp: 69.449020\n",
    "- avg_life_exp_f: 70.386275\n",
    "- avg_life_exp_m:\t63.498039\n",
    "- avg_gdp: -0.315557\n",
    "- avg_gini: 37.000000\n",
    "- avg_govt_health_spe: NaN\n",
    "\n",
    "\n",
    "- This way even though we won't be able to compare North Korea's average government health spending to the general life expectancy, we will still be able to run comparisons with the other variables.\n",
    "\n",
    "- All rows that have missing general life expectancy information will be dropped. "
   ]
  },
  {
   "cell_type": "code",
   "execution_count": 497,
   "metadata": {},
   "outputs": [],
   "source": [
    "df_combined.dropna(subset=['avg_life_exp'], inplace=True)"
   ]
  },
  {
   "cell_type": "code",
   "execution_count": 498,
   "metadata": {},
   "outputs": [
    {
     "data": {
      "text/plain": [
       "True"
      ]
     },
     "execution_count": 498,
     "metadata": {},
     "output_type": "execute_result"
    }
   ],
   "source": [
    "df_combined.isna().sum().any()"
   ]
  },
  {
   "cell_type": "code",
   "execution_count": 499,
   "metadata": {},
   "outputs": [
    {
     "data": {
      "text/html": [
       "<div>\n",
       "<style scoped>\n",
       "    .dataframe tbody tr th:only-of-type {\n",
       "        vertical-align: middle;\n",
       "    }\n",
       "\n",
       "    .dataframe tbody tr th {\n",
       "        vertical-align: top;\n",
       "    }\n",
       "\n",
       "    .dataframe thead th {\n",
       "        text-align: right;\n",
       "    }\n",
       "</style>\n",
       "<table border=\"1\" class=\"dataframe\">\n",
       "  <thead>\n",
       "    <tr style=\"text-align: right;\">\n",
       "      <th></th>\n",
       "      <th>avg_life_exp</th>\n",
       "      <th>avg_life_exp_f</th>\n",
       "      <th>avg_life_exp_m</th>\n",
       "      <th>avg_gdp</th>\n",
       "      <th>avg_gini</th>\n",
       "      <th>avg_govt_health_spe</th>\n",
       "    </tr>\n",
       "    <tr>\n",
       "      <th>country</th>\n",
       "      <th></th>\n",
       "      <th></th>\n",
       "      <th></th>\n",
       "      <th></th>\n",
       "      <th></th>\n",
       "      <th></th>\n",
       "    </tr>\n",
       "  </thead>\n",
       "  <tbody>\n",
       "    <tr>\n",
       "      <th>Andorra</th>\n",
       "      <td>79.770833</td>\n",
       "      <td>NaN</td>\n",
       "      <td>NaN</td>\n",
       "      <td>0.405657</td>\n",
       "      <td>40.000000</td>\n",
       "      <td>1450.0625</td>\n",
       "    </tr>\n",
       "    <tr>\n",
       "      <th>Dominica</th>\n",
       "      <td>72.958333</td>\n",
       "      <td>NaN</td>\n",
       "      <td>NaN</td>\n",
       "      <td>2.993549</td>\n",
       "      <td>40.000000</td>\n",
       "      <td>174.3750</td>\n",
       "    </tr>\n",
       "    <tr>\n",
       "      <th>Marshall Islands</th>\n",
       "      <td>62.277083</td>\n",
       "      <td>NaN</td>\n",
       "      <td>NaN</td>\n",
       "      <td>1.189616</td>\n",
       "      <td>40.000000</td>\n",
       "      <td>367.2500</td>\n",
       "    </tr>\n",
       "    <tr>\n",
       "      <th>North Korea</th>\n",
       "      <td>69.449020</td>\n",
       "      <td>70.386275</td>\n",
       "      <td>63.498039</td>\n",
       "      <td>-0.218871</td>\n",
       "      <td>37.000000</td>\n",
       "      <td>NaN</td>\n",
       "    </tr>\n",
       "    <tr>\n",
       "      <th>Palestine</th>\n",
       "      <td>69.560784</td>\n",
       "      <td>69.215686</td>\n",
       "      <td>65.764706</td>\n",
       "      <td>1.217592</td>\n",
       "      <td>34.100000</td>\n",
       "      <td>NaN</td>\n",
       "    </tr>\n",
       "    <tr>\n",
       "      <th>South Sudan</th>\n",
       "      <td>53.441176</td>\n",
       "      <td>47.358824</td>\n",
       "      <td>44.837255</td>\n",
       "      <td>1.479449</td>\n",
       "      <td>45.029412</td>\n",
       "      <td>NaN</td>\n",
       "    </tr>\n",
       "  </tbody>\n",
       "</table>\n",
       "</div>"
      ],
      "text/plain": [
       "                  avg_life_exp  avg_life_exp_f  avg_life_exp_m   avg_gdp  \\\n",
       "country                                                                    \n",
       "Andorra              79.770833             NaN             NaN  0.405657   \n",
       "Dominica             72.958333             NaN             NaN  2.993549   \n",
       "Marshall Islands     62.277083             NaN             NaN  1.189616   \n",
       "North Korea          69.449020       70.386275       63.498039 -0.218871   \n",
       "Palestine            69.560784       69.215686       65.764706  1.217592   \n",
       "South Sudan          53.441176       47.358824       44.837255  1.479449   \n",
       "\n",
       "                   avg_gini  avg_govt_health_spe  \n",
       "country                                           \n",
       "Andorra           40.000000            1450.0625  \n",
       "Dominica          40.000000             174.3750  \n",
       "Marshall Islands  40.000000             367.2500  \n",
       "North Korea       37.000000                  NaN  \n",
       "Palestine         34.100000                  NaN  \n",
       "South Sudan       45.029412                  NaN  "
      ]
     },
     "execution_count": 499,
     "metadata": {},
     "output_type": "execute_result"
    }
   ],
   "source": [
    "df_combined[df_combined.isnull().any(axis=1)]"
   ]
  },
  {
   "cell_type": "markdown",
   "metadata": {},
   "source": [
    "<a id='eda'></a>\n",
    "## Exploratory Data Analysis\n",
    "\n",
    "> Now that our data is ready to move on to exploration. In this section we will address the questions posed in the introduction section. \n",
    "We will look at one variable at a time, and then follow it up by looking at relationships between variables. The order is as follows:\n",
    "\n",
    "<ul>\n",
    " <li><a href=\"#OVER\">Variables Overview</a></li>   \n",
    "<li><a href=\"#FEMALE\">Female and Male Life Expectancies</a></li>\n",
    "<li><a href=\"#GENERAL\">General Life Expectancy</a></li>\n",
    "<li><a href=\"#GOVT\">Government Health Spending and General Life Expectancy</a></li>\n",
    "<li><a href=\"#GINI\">Gini Coefficient and General Life Expectancy</a></li>\n",
    "<li><a href=\"#GDP\">GDP Per Capita and General Life Expectancy</a></li>\n",
    "</ul>\n",
    "\n"
   ]
  },
  {
   "cell_type": "markdown",
   "metadata": {},
   "source": [
    "<a id='OVER'></a>\n",
    "## Variables Overview\n",
    "\n",
    "We will draw a correlation matrix in order to see overall the associations between the variables we are analyzing."
   ]
  },
  {
   "cell_type": "code",
   "execution_count": 500,
   "metadata": {},
   "outputs": [
    {
     "data": {
      "image/png": "[encoded data removed]",
      "text/plain": [
       "<matplotlib.figure.Figure at 0x7f2418463390>"
      ]
     },
     "metadata": {
      "needs_background": "light"
     },
     "output_type": "display_data"
    }
   ],
   "source": [
    "df_combined_corrMatrix = df_combined.corr()\n",
    "sns.heatmap(df_combined_corrMatrix, annot=True)\n",
    "plt.show()"
   ]
  },
  {
   "cell_type": "markdown",
   "metadata": {},
   "source": [
    "A value close to 1 indicates stronger positive/regular correlation, closer to a linear function. A value close to -1 indicates stronger negative/inverse correlation, closer to a linear function. A value closer to 0 indicates weaker correlation.\n",
    "\n",
    "- It seems that there is a positive correlation (0.97-0.98) between all life expectancy variables (general, female and male), as it should be.\n",
    "\n",
    "- It seems that there is a positive medium correlation (0.55-0.57) between the life expectancy variables (general, female and male) and government health spending.\n",
    "\n",
    "- It seems that there is a weak correlation between the life expectancy variables (general, female and male) and GDP PPP (0.23-0.25).\n",
    "\n",
    "- The Gini Coefficient seems to have a negative/inverse correlation with all the other variables."
   ]
  },
  {
   "cell_type": "markdown",
   "metadata": {},
   "source": [
    "<a id='FEMALE'></a>\n",
    "## Female and Male Life Expectancies\n",
    "### In the last 50, which group had the higher average life expectancy, female or male?"
   ]
  },
  {
   "cell_type": "markdown",
   "metadata": {},
   "source": [
    "First we will check the average life expectancy by female and male"
   ]
  },
  {
   "cell_type": "code",
   "execution_count": 502,
   "metadata": {},
   "outputs": [
    {
     "name": "stdout",
     "output_type": "stream",
     "text": [
      "The global female average life expectancy is 68.0 years old.\n"
     ]
    }
   ],
   "source": [
    "Female = avg_life_exp_f.mean()\n",
    "print('The global female average life expectancy is {} years old.'.format(round(Female)))"
   ]
  },
  {
   "cell_type": "code",
   "execution_count": 503,
   "metadata": {},
   "outputs": [
    {
     "name": "stdout",
     "output_type": "stream",
     "text": [
      "The global male average life expectancy is 63.0 years old.\n"
     ]
    }
   ],
   "source": [
    "Male = avg_life_exp_m.mean()\n",
    "print('The global male average life expectancy is {} years old.'.format(round(Male)))"
   ]
  },
  {
   "cell_type": "code",
   "execution_count": 504,
   "metadata": {},
   "outputs": [
    {
     "data": {
      "image/png": "[encoded data removed]",
      "text/plain": [
       "<matplotlib.figure.Figure at 0x7f24167d4390>"
      ]
     },
     "metadata": {
      "needs_background": "light"
     },
     "output_type": "display_data"
    }
   ],
   "source": [
    "locations = [1,2]\n",
    "heights = [Female, Male]\n",
    "labels = ['Female', 'Male']\n",
    "plt.bar(locations, heights, tick_label=labels)\n",
    "plt.title('Average Overall Life Expecatancy in the Last 50 Years')\n",
    "plt.xlabel('Population')\n",
    "plt.ylabel('Years');"
   ]
  },
  {
   "cell_type": "code",
   "execution_count": 505,
   "metadata": {},
   "outputs": [
    {
     "name": "stdout",
     "output_type": "stream",
     "text": [
      "Women tend to live 8.0 % longer than Men.\n"
     ]
    }
   ],
   "source": [
    "Proportion_F_M = ((Female/Male)-1)*100\n",
    "print('Women tend to live {} % longer than Men.'.format(round(Proportion_F_M)))"
   ]
  },
  {
   "cell_type": "markdown",
   "metadata": {},
   "source": [
    "### In the last 50, which country had the highest and which had the lowest average life expectancy per gender?\n",
    "\n",
    "#### Females"
   ]
  },
  {
   "cell_type": "markdown",
   "metadata": {},
   "source": [
    "#### What country has the lowest average life expectancy for women?"
   ]
  },
  {
   "cell_type": "code",
   "execution_count": 506,
   "metadata": {},
   "outputs": [
    {
     "name": "stdout",
     "output_type": "stream",
     "text": [
      "The lowest life expectancy for females is in \n",
      " country\n",
      "Sierra Leone    42.111765\n",
      "dtype: float64.\n"
     ]
    }
   ],
   "source": [
    "low_f = avg_life_exp_f.nsmallest(1, )\n",
    "print('The lowest life expectancy for females is in \\n {}.'.format(low_f))"
   ]
  },
  {
   "cell_type": "markdown",
   "metadata": {},
   "source": [
    "#### What country has the highest average life expectancy for women?"
   ]
  },
  {
   "cell_type": "code",
   "execution_count": 507,
   "metadata": {},
   "outputs": [
    {
     "name": "stdout",
     "output_type": "stream",
     "text": [
      "The highest life expectancy for females is in \n",
      " country\n",
      "Japan    82.298039\n",
      "dtype: float64\n"
     ]
    }
   ],
   "source": [
    "high_f = avg_life_exp_f.nlargest(1, )\n",
    "print('The highest life expectancy for females is in \\n {}'.format(high_f))"
   ]
  },
  {
   "cell_type": "markdown",
   "metadata": {},
   "source": [
    "#### Males"
   ]
  },
  {
   "cell_type": "markdown",
   "metadata": {},
   "source": [
    "#### What country has the lowest average life expectancy for men?"
   ]
  },
  {
   "cell_type": "code",
   "execution_count": 508,
   "metadata": {},
   "outputs": [
    {
     "name": "stdout",
     "output_type": "stream",
     "text": [
      "The lowest life expectancy for males is in \n",
      " country\n",
      "Sierra Leone    40.956863\n",
      "dtype: float64.\n"
     ]
    }
   ],
   "source": [
    "low_m = avg_life_exp_m.nsmallest(1, )\n",
    "print('The lowest life expectancy for males is in \\n {}.'.format(low_m))"
   ]
  },
  {
   "cell_type": "markdown",
   "metadata": {},
   "source": [
    "#### What country has the highest average life expectancy for men?"
   ]
  },
  {
   "cell_type": "code",
   "execution_count": 509,
   "metadata": {},
   "outputs": [
    {
     "name": "stdout",
     "output_type": "stream",
     "text": [
      "The highest life expectancy for males is in \n",
      " country\n",
      "Iceland    76.54902\n",
      "dtype: float64\n"
     ]
    }
   ],
   "source": [
    "high_m = avg_life_exp_m.nlargest(1, )\n",
    "print('The highest life expectancy for males is in \\n {}'.format(high_m))"
   ]
  },
  {
   "cell_type": "code",
   "execution_count": 556,
   "metadata": {},
   "outputs": [
    {
     "data": {
      "image/png": "[encoded data removed]",
      "text/plain": [
       "<matplotlib.figure.Figure at 0x7f2418efa898>"
      ]
     },
     "metadata": {
      "needs_background": "light"
     },
     "output_type": "display_data"
    }
   ],
   "source": [
    "plt.barh(['Sierra Leone F', 'Japan F','Sierra Leone M', 'Iceland M'],[42, 82, 41, 77], alpha=.8)\n",
    "plt.title('Highest and Lowest Life Expectancies')\n",
    "plt.xlabel('Years');"
   ]
  },
  {
   "cell_type": "markdown",
   "metadata": {},
   "source": [
    "<a id='GENERAL'></a>\n",
    "### General Life Expectancy (Male and Female)"
   ]
  },
  {
   "cell_type": "markdown",
   "metadata": {},
   "source": [
    "#### What are the bottom 10 countries in average general life expectancy?"
   ]
  },
  {
   "cell_type": "code",
   "execution_count": 511,
   "metadata": {},
   "outputs": [
    {
     "data": {
      "text/plain": [
       "country\n",
       "Central African Republic    47.492157\n",
       "Burundi                     49.535294\n",
       "Malawi                      49.815686\n",
       "Guinea-Bissau               50.211765\n",
       "Niger                       50.286275\n",
       "Mozambique                  50.554902\n",
       "Sierra Leone                51.096078\n",
       "Mali                        51.111765\n",
       "Eritrea                     51.578431\n",
       "Ethiopia                    51.829412\n",
       "dtype: float64"
      ]
     },
     "execution_count": 511,
     "metadata": {},
     "output_type": "execute_result"
    }
   ],
   "source": [
    "avg_life_exp_bottom_10 = avg_life_exp.nsmallest(10,)\n",
    "avg_life_exp_bottom_10"
   ]
  },
  {
   "cell_type": "code",
   "execution_count": 512,
   "metadata": {},
   "outputs": [
    {
     "name": "stdout",
     "output_type": "stream",
     "text": [
      "The average life expectancy among the bottom 10 countries is 50.0 years.\n"
     ]
    }
   ],
   "source": [
    "bt_10_avg = avg_life_exp_bottom_10.mean()\n",
    "print('The average life expectancy among the bottom 10 countries is {} years.'.format(round(bt_10_avg)))"
   ]
  },
  {
   "cell_type": "code",
   "execution_count": 513,
   "metadata": {},
   "outputs": [
    {
     "data": {
      "text/plain": [
       "country\n",
       "Andorra        79.770833\n",
       "Japan          79.596078\n",
       "Switzerland    78.956863\n",
       "Iceland        78.821569\n",
       "Sweden         78.578431\n",
       "Greece         78.066667\n",
       "Spain          77.962745\n",
       "Norway         77.898039\n",
       "Canada         77.870588\n",
       "Italy          77.827451\n",
       "dtype: float64"
      ]
     },
     "execution_count": 513,
     "metadata": {},
     "output_type": "execute_result"
    }
   ],
   "source": [
    "avg_life_exp_top_10 = avg_life_exp.nlargest(10, )\n",
    "avg_life_exp_top_10"
   ]
  },
  {
   "cell_type": "code",
   "execution_count": 514,
   "metadata": {},
   "outputs": [
    {
     "name": "stdout",
     "output_type": "stream",
     "text": [
      "The average life expectancy among the top 10 countries is 79.0 years.\n"
     ]
    }
   ],
   "source": [
    "tp_10_avg = avg_life_exp_top_10.mean()\n",
    "print('The average life expectancy among the top 10 countries is {} years.'.format(round(tp_10_avg)))"
   ]
  },
  {
   "cell_type": "code",
   "execution_count": 515,
   "metadata": {},
   "outputs": [
    {
     "name": "stdout",
     "output_type": "stream",
     "text": [
      "People in the top 10 countries tend to live in average 56.0 % longer than people in the bottom 10 countries.\n"
     ]
    }
   ],
   "source": [
    "Proportion_T_B = ((tp_10_avg/bt_10_avg)-1)*100\n",
    "print('People in the top 10 countries tend to live in average {} % longer than people in the bottom 10 countries.'.format(round(Proportion_T_B)))"
   ]
  },
  {
   "cell_type": "code",
   "execution_count": 516,
   "metadata": {},
   "outputs": [
    {
     "data": {
      "image/png": "[encoded data removed]",
      "text/plain": [
       "<matplotlib.figure.Figure at 0x7f2418812208>"
      ]
     },
     "metadata": {
      "needs_background": "light"
     },
     "output_type": "display_data"
    }
   ],
   "source": [
    "width = 0.3\n",
    "plt.figure(figsize=(8,10))\n",
    "plt.barh(['Central African Republic', 'Burundi', 'Malawi', 'Guinea-Bissau', 'Niger', 'Mozambique', 'Sierra Leone', 'Mali', 'Eritrea', 'Ethiopia', 'Andorra', 'Japan' , 'Switzerland', 'Iceland', 'Sweden', 'Greece', 'Spain', 'Norway', 'Canada', 'Italy'],[47, 50, 50, 50, 50, 51, 51, 51, 52, 52, 80, 80, 79, 79, 79, 78, 78, 78, 78, 78], width, color = 'r', alpha=.5)\n",
    "plt.title('Highest and Lowest Life Expectancies')\n",
    "plt.xlabel('Years');"
   ]
  },
  {
   "cell_type": "markdown",
   "metadata": {},
   "source": [
    "<a id='GOVT'></a>\n",
    "## Government Health Spending and General Life Expectancy\n",
    "\n",
    "### Is there a relationship between government health spending and life expectancy? Can government health spending contribute to a higher or lower life expectancy?"
   ]
  },
  {
   "cell_type": "markdown",
   "metadata": {},
   "source": [
    "#### What are the top 10 countries in average government health spending?"
   ]
  },
  {
   "cell_type": "code",
   "execution_count": 517,
   "metadata": {},
   "outputs": [
    {
     "data": {
      "text/plain": [
       "country\n",
       "Luxembourg       4353.125\n",
       "Norway           4166.250\n",
       "Monaco           3573.125\n",
       "Denmark          3420.000\n",
       "Iceland          3071.875\n",
       "Switzerland      2915.625\n",
       "Sweden           2686.875\n",
       "Germany          2649.375\n",
       "United States    2646.250\n",
       "Austria          2635.000\n",
       "dtype: float64"
      ]
     },
     "execution_count": 517,
     "metadata": {},
     "output_type": "execute_result"
    }
   ],
   "source": [
    "avg_govt_health_spe_top_10 = avg_govt_health_spe.nlargest(10, )\n",
    "avg_govt_health_spe_top_10"
   ]
  },
  {
   "cell_type": "code",
   "execution_count": 518,
   "metadata": {},
   "outputs": [
    {
     "name": "stdout",
     "output_type": "stream",
     "text": [
      "The average government health spending among the top 10 countries is 3212.0 US dollars.\n"
     ]
    }
   ],
   "source": [
    "ghs_10_t_avg = avg_govt_health_spe_top_10.mean()\n",
    "print('The average government health spending among the top 10 countries is {} US dollars.'.format(round(ghs_10_t_avg)))"
   ]
  },
  {
   "cell_type": "markdown",
   "metadata": {},
   "source": [
    "#### Are the top 10 countries in average government health spending among the top 10 countries in average life expectancy?\n",
    "\n",
    "To try to answer this question we will combine the DataFrames with the top 10 life expectancy variable and the top 10 government health spending variable, and see if they match. We will order it by the average life expectancy."
   ]
  },
  {
   "cell_type": "code",
   "execution_count": 519,
   "metadata": {},
   "outputs": [
    {
     "data": {
      "text/html": [
       "<div>\n",
       "<style scoped>\n",
       "    .dataframe tbody tr th:only-of-type {\n",
       "        vertical-align: middle;\n",
       "    }\n",
       "\n",
       "    .dataframe tbody tr th {\n",
       "        vertical-align: top;\n",
       "    }\n",
       "\n",
       "    .dataframe thead th {\n",
       "        text-align: right;\n",
       "    }\n",
       "</style>\n",
       "<table border=\"1\" class=\"dataframe\">\n",
       "  <thead>\n",
       "    <tr style=\"text-align: right;\">\n",
       "      <th></th>\n",
       "      <th>avg_life_exp_top_10</th>\n",
       "      <th>avg_govt_health_spe_top_10</th>\n",
       "    </tr>\n",
       "  </thead>\n",
       "  <tbody>\n",
       "    <tr>\n",
       "      <th>Andorra</th>\n",
       "      <td>79.770833</td>\n",
       "      <td>NaN</td>\n",
       "    </tr>\n",
       "    <tr>\n",
       "      <th>Japan</th>\n",
       "      <td>79.596078</td>\n",
       "      <td>NaN</td>\n",
       "    </tr>\n",
       "    <tr>\n",
       "      <th>Switzerland</th>\n",
       "      <td>78.956863</td>\n",
       "      <td>2915.625</td>\n",
       "    </tr>\n",
       "    <tr>\n",
       "      <th>Iceland</th>\n",
       "      <td>78.821569</td>\n",
       "      <td>3071.875</td>\n",
       "    </tr>\n",
       "    <tr>\n",
       "      <th>Sweden</th>\n",
       "      <td>78.578431</td>\n",
       "      <td>2686.875</td>\n",
       "    </tr>\n",
       "    <tr>\n",
       "      <th>Greece</th>\n",
       "      <td>78.066667</td>\n",
       "      <td>NaN</td>\n",
       "    </tr>\n",
       "    <tr>\n",
       "      <th>Spain</th>\n",
       "      <td>77.962745</td>\n",
       "      <td>NaN</td>\n",
       "    </tr>\n",
       "    <tr>\n",
       "      <th>Norway</th>\n",
       "      <td>77.898039</td>\n",
       "      <td>4166.250</td>\n",
       "    </tr>\n",
       "    <tr>\n",
       "      <th>Canada</th>\n",
       "      <td>77.870588</td>\n",
       "      <td>NaN</td>\n",
       "    </tr>\n",
       "    <tr>\n",
       "      <th>Italy</th>\n",
       "      <td>77.827451</td>\n",
       "      <td>NaN</td>\n",
       "    </tr>\n",
       "    <tr>\n",
       "      <th>Austria</th>\n",
       "      <td>NaN</td>\n",
       "      <td>2635.000</td>\n",
       "    </tr>\n",
       "    <tr>\n",
       "      <th>Denmark</th>\n",
       "      <td>NaN</td>\n",
       "      <td>3420.000</td>\n",
       "    </tr>\n",
       "    <tr>\n",
       "      <th>Germany</th>\n",
       "      <td>NaN</td>\n",
       "      <td>2649.375</td>\n",
       "    </tr>\n",
       "    <tr>\n",
       "      <th>Luxembourg</th>\n",
       "      <td>NaN</td>\n",
       "      <td>4353.125</td>\n",
       "    </tr>\n",
       "    <tr>\n",
       "      <th>Monaco</th>\n",
       "      <td>NaN</td>\n",
       "      <td>3573.125</td>\n",
       "    </tr>\n",
       "    <tr>\n",
       "      <th>United States</th>\n",
       "      <td>NaN</td>\n",
       "      <td>2646.250</td>\n",
       "    </tr>\n",
       "  </tbody>\n",
       "</table>\n",
       "</div>"
      ],
      "text/plain": [
       "               avg_life_exp_top_10  avg_govt_health_spe_top_10\n",
       "Andorra                  79.770833                         NaN\n",
       "Japan                    79.596078                         NaN\n",
       "Switzerland              78.956863                    2915.625\n",
       "Iceland                  78.821569                    3071.875\n",
       "Sweden                   78.578431                    2686.875\n",
       "Greece                   78.066667                         NaN\n",
       "Spain                    77.962745                         NaN\n",
       "Norway                   77.898039                    4166.250\n",
       "Canada                   77.870588                         NaN\n",
       "Italy                    77.827451                         NaN\n",
       "Austria                        NaN                    2635.000\n",
       "Denmark                        NaN                    3420.000\n",
       "Germany                        NaN                    2649.375\n",
       "Luxembourg                     NaN                    4353.125\n",
       "Monaco                         NaN                    3573.125\n",
       "United States                  NaN                    2646.250"
      ]
     },
     "execution_count": 519,
     "metadata": {},
     "output_type": "execute_result"
    }
   ],
   "source": [
    "df_combined_gvt_sp_lf_exp_t_10 = pd.concat([avg_life_exp_top_10, avg_govt_health_spe_top_10], axis=1, sort=True)\n",
    "df_combined_gvt_sp_lf_exp_t_10.columns=['avg_life_exp_top_10','avg_govt_health_spe_top_10']\n",
    "df_combined_gvt_sp_lf_exp_t_10.sort_values(by='avg_life_exp_top_10', ascending=False)\n"
   ]
  },
  {
   "cell_type": "markdown",
   "metadata": {},
   "source": [
    "> The NaN values in the DataFrame above represent that a condition was not met. If NaN appears on the avg_life_exp_top_10 column, the country is not among the top 10 life expectancy. If NaN appears on the avg_govt_health_spe_top_10 the country is not among the top 10 government health spending."
   ]
  },
  {
   "cell_type": "markdown",
   "metadata": {},
   "source": [
    "However, since we already did have NaN values in our <a href=\"#df_combined\">Combined Dataframe</a> to start with. We will check if the value for government spending is NaN in some rows because the information was not available in the first place, using the <a href=\"#df_combined\">Combined Dataframe</a> (df_combined)."
   ]
  },
  {
   "cell_type": "code",
   "execution_count": 520,
   "metadata": {},
   "outputs": [
    {
     "data": {
      "text/html": [
       "<div>\n",
       "<style scoped>\n",
       "    .dataframe tbody tr th:only-of-type {\n",
       "        vertical-align: middle;\n",
       "    }\n",
       "\n",
       "    .dataframe tbody tr th {\n",
       "        vertical-align: top;\n",
       "    }\n",
       "\n",
       "    .dataframe thead th {\n",
       "        text-align: right;\n",
       "    }\n",
       "</style>\n",
       "<table border=\"1\" class=\"dataframe\">\n",
       "  <thead>\n",
       "    <tr style=\"text-align: right;\">\n",
       "      <th></th>\n",
       "      <th>avg_life_exp</th>\n",
       "      <th>avg_life_exp_f</th>\n",
       "      <th>avg_life_exp_m</th>\n",
       "      <th>avg_gdp</th>\n",
       "      <th>avg_gini</th>\n",
       "      <th>avg_govt_health_spe</th>\n",
       "    </tr>\n",
       "    <tr>\n",
       "      <th>country</th>\n",
       "      <th></th>\n",
       "      <th></th>\n",
       "      <th></th>\n",
       "      <th></th>\n",
       "      <th></th>\n",
       "      <th></th>\n",
       "    </tr>\n",
       "  </thead>\n",
       "  <tbody>\n",
       "    <tr>\n",
       "      <th>Andorra</th>\n",
       "      <td>79.770833</td>\n",
       "      <td>NaN</td>\n",
       "      <td>NaN</td>\n",
       "      <td>0.405657</td>\n",
       "      <td>40.000000</td>\n",
       "      <td>1450.0625</td>\n",
       "    </tr>\n",
       "    <tr>\n",
       "      <th>Dominica</th>\n",
       "      <td>72.958333</td>\n",
       "      <td>NaN</td>\n",
       "      <td>NaN</td>\n",
       "      <td>2.993549</td>\n",
       "      <td>40.000000</td>\n",
       "      <td>174.3750</td>\n",
       "    </tr>\n",
       "    <tr>\n",
       "      <th>Marshall Islands</th>\n",
       "      <td>62.277083</td>\n",
       "      <td>NaN</td>\n",
       "      <td>NaN</td>\n",
       "      <td>1.189616</td>\n",
       "      <td>40.000000</td>\n",
       "      <td>367.2500</td>\n",
       "    </tr>\n",
       "    <tr>\n",
       "      <th>North Korea</th>\n",
       "      <td>69.449020</td>\n",
       "      <td>70.386275</td>\n",
       "      <td>63.498039</td>\n",
       "      <td>-0.218871</td>\n",
       "      <td>37.000000</td>\n",
       "      <td>NaN</td>\n",
       "    </tr>\n",
       "    <tr>\n",
       "      <th>Palestine</th>\n",
       "      <td>69.560784</td>\n",
       "      <td>69.215686</td>\n",
       "      <td>65.764706</td>\n",
       "      <td>1.217592</td>\n",
       "      <td>34.100000</td>\n",
       "      <td>NaN</td>\n",
       "    </tr>\n",
       "    <tr>\n",
       "      <th>South Sudan</th>\n",
       "      <td>53.441176</td>\n",
       "      <td>47.358824</td>\n",
       "      <td>44.837255</td>\n",
       "      <td>1.479449</td>\n",
       "      <td>45.029412</td>\n",
       "      <td>NaN</td>\n",
       "    </tr>\n",
       "  </tbody>\n",
       "</table>\n",
       "</div>"
      ],
      "text/plain": [
       "                  avg_life_exp  avg_life_exp_f  avg_life_exp_m   avg_gdp  \\\n",
       "country                                                                    \n",
       "Andorra              79.770833             NaN             NaN  0.405657   \n",
       "Dominica             72.958333             NaN             NaN  2.993549   \n",
       "Marshall Islands     62.277083             NaN             NaN  1.189616   \n",
       "North Korea          69.449020       70.386275       63.498039 -0.218871   \n",
       "Palestine            69.560784       69.215686       65.764706  1.217592   \n",
       "South Sudan          53.441176       47.358824       44.837255  1.479449   \n",
       "\n",
       "                   avg_gini  avg_govt_health_spe  \n",
       "country                                           \n",
       "Andorra           40.000000            1450.0625  \n",
       "Dominica          40.000000             174.3750  \n",
       "Marshall Islands  40.000000             367.2500  \n",
       "North Korea       37.000000                  NaN  \n",
       "Palestine         34.100000                  NaN  \n",
       "South Sudan       45.029412                  NaN  "
      ]
     },
     "execution_count": 520,
     "metadata": {},
     "output_type": "execute_result"
    }
   ],
   "source": [
    "df_combined[df_combined.isnull().any(axis=1)]"
   ]
  },
  {
   "cell_type": "markdown",
   "metadata": {},
   "source": [
    "Only North Korea, Palastine and South Sudan have no governement health spending information, and none of those countries were at the top 10 government health spending nor the top 10 life expectancy (df_combined_gvt_sp_lf_exp_t_1). Therefore, the above findings are fine."
   ]
  },
  {
   "cell_type": "markdown",
   "metadata": {},
   "source": [
    "Continuing to explore the findings from the combined Dataframe of the top 10 government health spending and the top 10 life expectancy (df_combined_gvt_sp_lf_exp_t_1), only 4 countries with the top 10 government expenditures on health are among the countries with the highest life expectancy. They are: Switzerland, Iceland, Sweden, and Norway.\n",
    "\n",
    "We evinced this by dropping all the NaN values from the combined DataFrame (df_combined_gvt_sp_lf_exp_t_10) in the cell bellow."
   ]
  },
  {
   "cell_type": "code",
   "execution_count": 521,
   "metadata": {},
   "outputs": [
    {
     "data": {
      "text/html": [
       "<div>\n",
       "<style scoped>\n",
       "    .dataframe tbody tr th:only-of-type {\n",
       "        vertical-align: middle;\n",
       "    }\n",
       "\n",
       "    .dataframe tbody tr th {\n",
       "        vertical-align: top;\n",
       "    }\n",
       "\n",
       "    .dataframe thead th {\n",
       "        text-align: right;\n",
       "    }\n",
       "</style>\n",
       "<table border=\"1\" class=\"dataframe\">\n",
       "  <thead>\n",
       "    <tr style=\"text-align: right;\">\n",
       "      <th></th>\n",
       "      <th>avg_life_exp_top_10</th>\n",
       "      <th>avg_govt_health_spe_top_10</th>\n",
       "    </tr>\n",
       "  </thead>\n",
       "  <tbody>\n",
       "    <tr>\n",
       "      <th>Iceland</th>\n",
       "      <td>78.821569</td>\n",
       "      <td>3071.875</td>\n",
       "    </tr>\n",
       "    <tr>\n",
       "      <th>Norway</th>\n",
       "      <td>77.898039</td>\n",
       "      <td>4166.250</td>\n",
       "    </tr>\n",
       "    <tr>\n",
       "      <th>Sweden</th>\n",
       "      <td>78.578431</td>\n",
       "      <td>2686.875</td>\n",
       "    </tr>\n",
       "    <tr>\n",
       "      <th>Switzerland</th>\n",
       "      <td>78.956863</td>\n",
       "      <td>2915.625</td>\n",
       "    </tr>\n",
       "  </tbody>\n",
       "</table>\n",
       "</div>"
      ],
      "text/plain": [
       "             avg_life_exp_top_10  avg_govt_health_spe_top_10\n",
       "Iceland                78.821569                    3071.875\n",
       "Norway                 77.898039                    4166.250\n",
       "Sweden                 78.578431                    2686.875\n",
       "Switzerland            78.956863                    2915.625"
      ]
     },
     "execution_count": 521,
     "metadata": {},
     "output_type": "execute_result"
    }
   ],
   "source": [
    "df_combined_gvt_sp_lf_exp_t_10.dropna(inplace=True)\n",
    "df_combined_gvt_sp_lf_exp_t_10"
   ]
  },
  {
   "cell_type": "code",
   "execution_count": 522,
   "metadata": {},
   "outputs": [
    {
     "name": "stdout",
     "output_type": "stream",
     "text": [
      "40 % of the top government health spending countries are among the top 10 countries with highest life expectancy.\n"
     ]
    }
   ],
   "source": [
    "Govt_Proportion_T = ((4/10))*100\n",
    "print('{} % of the top government health spending countries are among the top 10 countries with highest life expectancy.'.format(round(Govt_Proportion_T)))"
   ]
  },
  {
   "cell_type": "markdown",
   "metadata": {},
   "source": [
    "#### What are the bottom 10 countries in average government health spending?"
   ]
  },
  {
   "cell_type": "code",
   "execution_count": 523,
   "metadata": {},
   "outputs": [
    {
     "data": {
      "text/plain": [
       "country\n",
       "Myanmar             0.692813\n",
       "Congo, Dem. Rep.    2.156375\n",
       "Somalia             2.620000\n",
       "Afghanistan         2.730333\n",
       "Sierra Leone        3.725625\n",
       "Guinea              3.779375\n",
       "Burundi             3.940000\n",
       "Ethiopia            4.024375\n",
       "Guinea-Bissau       4.143750\n",
       "Eritrea             4.166875\n",
       "dtype: float64"
      ]
     },
     "execution_count": 523,
     "metadata": {},
     "output_type": "execute_result"
    }
   ],
   "source": [
    "avg_govt_health_spe_bottom_10 = avg_govt_health_spe.nsmallest(10, )\n",
    "avg_govt_health_spe_bottom_10"
   ]
  },
  {
   "cell_type": "code",
   "execution_count": 524,
   "metadata": {},
   "outputs": [
    {
     "name": "stdout",
     "output_type": "stream",
     "text": [
      "The average government health spending among the bottom 10 countries is 3.0 US dollars.\n"
     ]
    }
   ],
   "source": [
    "ghs_10_b_avg = avg_govt_health_spe_bottom_10.mean()\n",
    "print('The average government health spending among the bottom 10 countries is {} US dollars.'.format(round(ghs_10_b_avg)))"
   ]
  },
  {
   "cell_type": "code",
   "execution_count": 525,
   "metadata": {},
   "outputs": [
    {
     "name": "stdout",
     "output_type": "stream",
     "text": [
      "The government expenditure in health per person in the top 10 countries is in average 100331.0 % greater than the government expenditure in the bottom 10 countries.\n"
     ]
    }
   ],
   "source": [
    "Proportion_T_B_GHS = ((ghs_10_t_avg/ghs_10_b_avg)-1)*100\n",
    "print('The government expenditure in health per person in the top 10 countries is in average {} % greater than the government expenditure in the bottom 10 countries.'.format(round(Proportion_T_B_GHS)))"
   ]
  },
  {
   "cell_type": "markdown",
   "metadata": {},
   "source": [
    "#### Are the bottom 10 countries in average government health spending among the bottom 10 countries in average life expectancy?"
   ]
  },
  {
   "cell_type": "markdown",
   "metadata": {},
   "source": [
    "To try to answer this question we will combine the DataFrames with the bottom 10 life expectancy variable and the bottom 10 government health spending variable, and see if they match. We will order it by the average life expectancy."
   ]
  },
  {
   "cell_type": "code",
   "execution_count": 526,
   "metadata": {},
   "outputs": [
    {
     "data": {
      "text/html": [
       "<div>\n",
       "<style scoped>\n",
       "    .dataframe tbody tr th:only-of-type {\n",
       "        vertical-align: middle;\n",
       "    }\n",
       "\n",
       "    .dataframe tbody tr th {\n",
       "        vertical-align: top;\n",
       "    }\n",
       "\n",
       "    .dataframe thead th {\n",
       "        text-align: right;\n",
       "    }\n",
       "</style>\n",
       "<table border=\"1\" class=\"dataframe\">\n",
       "  <thead>\n",
       "    <tr style=\"text-align: right;\">\n",
       "      <th></th>\n",
       "      <th>avg_life_exp_bottom_10</th>\n",
       "      <th>avg_govt_health_spe_bottom_10</th>\n",
       "    </tr>\n",
       "  </thead>\n",
       "  <tbody>\n",
       "    <tr>\n",
       "      <th>Ethiopia</th>\n",
       "      <td>51.829412</td>\n",
       "      <td>4.024375</td>\n",
       "    </tr>\n",
       "    <tr>\n",
       "      <th>Eritrea</th>\n",
       "      <td>51.578431</td>\n",
       "      <td>4.166875</td>\n",
       "    </tr>\n",
       "    <tr>\n",
       "      <th>Mali</th>\n",
       "      <td>51.111765</td>\n",
       "      <td>NaN</td>\n",
       "    </tr>\n",
       "    <tr>\n",
       "      <th>Sierra Leone</th>\n",
       "      <td>51.096078</td>\n",
       "      <td>3.725625</td>\n",
       "    </tr>\n",
       "    <tr>\n",
       "      <th>Mozambique</th>\n",
       "      <td>50.554902</td>\n",
       "      <td>NaN</td>\n",
       "    </tr>\n",
       "    <tr>\n",
       "      <th>Niger</th>\n",
       "      <td>50.286275</td>\n",
       "      <td>NaN</td>\n",
       "    </tr>\n",
       "    <tr>\n",
       "      <th>Guinea-Bissau</th>\n",
       "      <td>50.211765</td>\n",
       "      <td>4.143750</td>\n",
       "    </tr>\n",
       "    <tr>\n",
       "      <th>Malawi</th>\n",
       "      <td>49.815686</td>\n",
       "      <td>NaN</td>\n",
       "    </tr>\n",
       "    <tr>\n",
       "      <th>Burundi</th>\n",
       "      <td>49.535294</td>\n",
       "      <td>3.940000</td>\n",
       "    </tr>\n",
       "    <tr>\n",
       "      <th>Central African Republic</th>\n",
       "      <td>47.492157</td>\n",
       "      <td>NaN</td>\n",
       "    </tr>\n",
       "    <tr>\n",
       "      <th>Afghanistan</th>\n",
       "      <td>NaN</td>\n",
       "      <td>2.730333</td>\n",
       "    </tr>\n",
       "    <tr>\n",
       "      <th>Congo, Dem. Rep.</th>\n",
       "      <td>NaN</td>\n",
       "      <td>2.156375</td>\n",
       "    </tr>\n",
       "    <tr>\n",
       "      <th>Guinea</th>\n",
       "      <td>NaN</td>\n",
       "      <td>3.779375</td>\n",
       "    </tr>\n",
       "    <tr>\n",
       "      <th>Myanmar</th>\n",
       "      <td>NaN</td>\n",
       "      <td>0.692813</td>\n",
       "    </tr>\n",
       "    <tr>\n",
       "      <th>Somalia</th>\n",
       "      <td>NaN</td>\n",
       "      <td>2.620000</td>\n",
       "    </tr>\n",
       "  </tbody>\n",
       "</table>\n",
       "</div>"
      ],
      "text/plain": [
       "                          avg_life_exp_bottom_10  \\\n",
       "Ethiopia                               51.829412   \n",
       "Eritrea                                51.578431   \n",
       "Mali                                   51.111765   \n",
       "Sierra Leone                           51.096078   \n",
       "Mozambique                             50.554902   \n",
       "Niger                                  50.286275   \n",
       "Guinea-Bissau                          50.211765   \n",
       "Malawi                                 49.815686   \n",
       "Burundi                                49.535294   \n",
       "Central African Republic               47.492157   \n",
       "Afghanistan                                  NaN   \n",
       "Congo, Dem. Rep.                             NaN   \n",
       "Guinea                                       NaN   \n",
       "Myanmar                                      NaN   \n",
       "Somalia                                      NaN   \n",
       "\n",
       "                          avg_govt_health_spe_bottom_10  \n",
       "Ethiopia                                       4.024375  \n",
       "Eritrea                                        4.166875  \n",
       "Mali                                                NaN  \n",
       "Sierra Leone                                   3.725625  \n",
       "Mozambique                                          NaN  \n",
       "Niger                                               NaN  \n",
       "Guinea-Bissau                                  4.143750  \n",
       "Malawi                                              NaN  \n",
       "Burundi                                        3.940000  \n",
       "Central African Republic                            NaN  \n",
       "Afghanistan                                    2.730333  \n",
       "Congo, Dem. Rep.                               2.156375  \n",
       "Guinea                                         3.779375  \n",
       "Myanmar                                        0.692813  \n",
       "Somalia                                        2.620000  "
      ]
     },
     "execution_count": 526,
     "metadata": {},
     "output_type": "execute_result"
    }
   ],
   "source": [
    "df_combined_gvt_sp_lf_exp_b_10 = pd.concat([avg_life_exp_bottom_10, avg_govt_health_spe_bottom_10], axis=1, ignore_index=True, sort=True)\n",
    "df_combined_gvt_sp_lf_exp_b_10.columns=['avg_life_exp_bottom_10','avg_govt_health_spe_bottom_10']\n",
    "df_combined_gvt_sp_lf_exp_b_10.sort_values(by='avg_life_exp_bottom_10', ascending=False)"
   ]
  },
  {
   "cell_type": "markdown",
   "metadata": {},
   "source": [
    "> Likewise the previous combined DataFrame for the top 10, the NaN values in the DataFrame above represent that a condition was not met. If NaN appears on the avg_life_exp_bottom_10 column, the country is not among the bottom 10 life expectancy. If NaN appears on the avg_govt_health_spe_bottom_10 the country is not among the bottom 10 government health spending."
   ]
  },
  {
   "cell_type": "markdown",
   "metadata": {},
   "source": [
    "Half the countries with the bottom 10 goverment expenditures on health are among the countries with the lowest life expectancy. They are: Ethiopia, Eritrea, Sierra Leone, Guinea-Bissau and Burundi.\n",
    "\n",
    "We evinced this by dropping all the NaN values from the combined DataFrame (df_combined_gvt_sp_lf_exp_b_10) in the cell bellow."
   ]
  },
  {
   "cell_type": "code",
   "execution_count": 527,
   "metadata": {},
   "outputs": [
    {
     "data": {
      "text/html": [
       "<div>\n",
       "<style scoped>\n",
       "    .dataframe tbody tr th:only-of-type {\n",
       "        vertical-align: middle;\n",
       "    }\n",
       "\n",
       "    .dataframe tbody tr th {\n",
       "        vertical-align: top;\n",
       "    }\n",
       "\n",
       "    .dataframe thead th {\n",
       "        text-align: right;\n",
       "    }\n",
       "</style>\n",
       "<table border=\"1\" class=\"dataframe\">\n",
       "  <thead>\n",
       "    <tr style=\"text-align: right;\">\n",
       "      <th></th>\n",
       "      <th>avg_life_exp_bottom_10</th>\n",
       "      <th>avg_govt_health_spe_bottom_10</th>\n",
       "    </tr>\n",
       "  </thead>\n",
       "  <tbody>\n",
       "    <tr>\n",
       "      <th>Burundi</th>\n",
       "      <td>49.535294</td>\n",
       "      <td>3.940000</td>\n",
       "    </tr>\n",
       "    <tr>\n",
       "      <th>Eritrea</th>\n",
       "      <td>51.578431</td>\n",
       "      <td>4.166875</td>\n",
       "    </tr>\n",
       "    <tr>\n",
       "      <th>Ethiopia</th>\n",
       "      <td>51.829412</td>\n",
       "      <td>4.024375</td>\n",
       "    </tr>\n",
       "    <tr>\n",
       "      <th>Guinea-Bissau</th>\n",
       "      <td>50.211765</td>\n",
       "      <td>4.143750</td>\n",
       "    </tr>\n",
       "    <tr>\n",
       "      <th>Sierra Leone</th>\n",
       "      <td>51.096078</td>\n",
       "      <td>3.725625</td>\n",
       "    </tr>\n",
       "  </tbody>\n",
       "</table>\n",
       "</div>"
      ],
      "text/plain": [
       "               avg_life_exp_bottom_10  avg_govt_health_spe_bottom_10\n",
       "Burundi                     49.535294                       3.940000\n",
       "Eritrea                     51.578431                       4.166875\n",
       "Ethiopia                    51.829412                       4.024375\n",
       "Guinea-Bissau               50.211765                       4.143750\n",
       "Sierra Leone                51.096078                       3.725625"
      ]
     },
     "execution_count": 527,
     "metadata": {},
     "output_type": "execute_result"
    }
   ],
   "source": [
    "df_combined_gvt_sp_lf_exp_b_10.dropna(inplace=True)\n",
    "df_combined_gvt_sp_lf_exp_b_10"
   ]
  },
  {
   "cell_type": "code",
   "execution_count": 528,
   "metadata": {},
   "outputs": [
    {
     "name": "stdout",
     "output_type": "stream",
     "text": [
      "50 % of the bottom government health spending countries are among the bottom 10 countries with lowest life expectancy.\n"
     ]
    }
   ],
   "source": [
    "Govt_Proportion_B = ((5/10))*100\n",
    "print('{} % of the bottom government health spending countries are among the bottom 10 countries with lowest life expectancy.'.format(round(Govt_Proportion_B)))"
   ]
  },
  {
   "cell_type": "code",
   "execution_count": 529,
   "metadata": {},
   "outputs": [
    {
     "data": {
      "image/png": "[encoded data removed]",
      "text/plain": [
       "<matplotlib.figure.Figure at 0x7f24189677f0>"
      ]
     },
     "metadata": {
      "needs_background": "light"
     },
     "output_type": "display_data"
    },
    {
     "data": {
      "image/png": "[encoded data removed]",
      "text/plain": [
       "<matplotlib.figure.Figure at 0x7f241826a198>"
      ]
     },
     "metadata": {
      "needs_background": "light"
     },
     "output_type": "display_data"
    }
   ],
   "source": [
    "x = avg_govt_health_spe_top_10\n",
    "y = avg_life_exp_top_10\n",
    "np.corrcoef(x,y)\n",
    "plt.scatter(x, y)\n",
    "plt.xlabel('Average Government Health Spending (US Dollars/per person)')\n",
    "plt.ylabel('Average Life Expectancy (years)')\n",
    "plt.title('Top 10 Countries')\n",
    "plt.show()\n",
    "\n",
    "x = avg_govt_health_spe_bottom_10\n",
    "y = avg_life_exp_bottom_10\n",
    "np.corrcoef(x,y)\n",
    "plt.scatter(x, y)\n",
    "plt.xlabel('Average Government Health Spending (US Dollars/per person)')\n",
    "plt.ylabel('Average Life Expectancy (years)')\n",
    "plt.title('Bottom 10 Countries')\n",
    "plt.show()"
   ]
  },
  {
   "cell_type": "markdown",
   "metadata": {},
   "source": [
    "The scatter plots above demonstrate that there is some correlation between government spending in health and life expectancy. And it is a positive one, where the more dollars spent the higher the life expectancy.  "
   ]
  },
  {
   "cell_type": "markdown",
   "metadata": {},
   "source": [
    "<a id='GINI'></a>\n",
    "### Gini Coefficient and General Life Expectancy"
   ]
  },
  {
   "cell_type": "markdown",
   "metadata": {},
   "source": [
    "### Is there a relationship between the development index (Gini) and life expectancy? Can a low Gini Index contribute to a higher or lower life expectancy?"
   ]
  },
  {
   "cell_type": "markdown",
   "metadata": {},
   "source": [
    "#### What are the top 10 countries in average Gini Coefficient?\n",
    "Obs: the lowest the Gini Coefficient the 'better'. So the countries with the smallest values are the top."
   ]
  },
  {
   "cell_type": "code",
   "execution_count": 530,
   "metadata": {},
   "outputs": [
    {
     "data": {
      "text/plain": [
       "country\n",
       "Czech Republic     23.052941\n",
       "Slovak Republic    23.588235\n",
       "Sweden             24.286275\n",
       "Belgium            25.270588\n",
       "Hungary            25.301961\n",
       "Denmark            25.349020\n",
       "Finland            25.415686\n",
       "Belarus            25.550980\n",
       "Romania            25.752941\n",
       "Iceland            26.611765\n",
       "dtype: float64"
      ]
     },
     "execution_count": 530,
     "metadata": {},
     "output_type": "execute_result"
    }
   ],
   "source": [
    "avg_gini_top_10 = avg_gini.nsmallest(10, )\n",
    "avg_gini_top_10"
   ]
  },
  {
   "cell_type": "code",
   "execution_count": 531,
   "metadata": {},
   "outputs": [
    {
     "name": "stdout",
     "output_type": "stream",
     "text": [
      "The average Gini Coefficient among the top 10 countries is 25.0.\n"
     ]
    }
   ],
   "source": [
    "gini_10_t_avg = avg_gini_top_10.mean()\n",
    "print('The average Gini Coefficient among the top 10 countries is {}.'.format(round(gini_10_t_avg)))"
   ]
  },
  {
   "cell_type": "markdown",
   "metadata": {},
   "source": [
    "#### Are the top 10 countries in average Gini Coefficient among the top 10 countries in average life expectancy?\n",
    "\n",
    "To try to answer this question we will combine the DataFrames with the top 10 life expectancy variable and the top 10 Gini Index variable, and see if they match. We will order it by the average life expectancy."
   ]
  },
  {
   "cell_type": "code",
   "execution_count": 532,
   "metadata": {},
   "outputs": [
    {
     "data": {
      "text/html": [
       "<div>\n",
       "<style scoped>\n",
       "    .dataframe tbody tr th:only-of-type {\n",
       "        vertical-align: middle;\n",
       "    }\n",
       "\n",
       "    .dataframe tbody tr th {\n",
       "        vertical-align: top;\n",
       "    }\n",
       "\n",
       "    .dataframe thead th {\n",
       "        text-align: right;\n",
       "    }\n",
       "</style>\n",
       "<table border=\"1\" class=\"dataframe\">\n",
       "  <thead>\n",
       "    <tr style=\"text-align: right;\">\n",
       "      <th></th>\n",
       "      <th>avg_life_exp_top_10</th>\n",
       "      <th>avg_gini_top_10</th>\n",
       "    </tr>\n",
       "  </thead>\n",
       "  <tbody>\n",
       "    <tr>\n",
       "      <th>Andorra</th>\n",
       "      <td>79.770833</td>\n",
       "      <td>NaN</td>\n",
       "    </tr>\n",
       "    <tr>\n",
       "      <th>Japan</th>\n",
       "      <td>79.596078</td>\n",
       "      <td>NaN</td>\n",
       "    </tr>\n",
       "    <tr>\n",
       "      <th>Switzerland</th>\n",
       "      <td>78.956863</td>\n",
       "      <td>NaN</td>\n",
       "    </tr>\n",
       "    <tr>\n",
       "      <th>Iceland</th>\n",
       "      <td>78.821569</td>\n",
       "      <td>26.611765</td>\n",
       "    </tr>\n",
       "    <tr>\n",
       "      <th>Sweden</th>\n",
       "      <td>78.578431</td>\n",
       "      <td>24.286275</td>\n",
       "    </tr>\n",
       "    <tr>\n",
       "      <th>Greece</th>\n",
       "      <td>78.066667</td>\n",
       "      <td>NaN</td>\n",
       "    </tr>\n",
       "    <tr>\n",
       "      <th>Spain</th>\n",
       "      <td>77.962745</td>\n",
       "      <td>NaN</td>\n",
       "    </tr>\n",
       "    <tr>\n",
       "      <th>Norway</th>\n",
       "      <td>77.898039</td>\n",
       "      <td>NaN</td>\n",
       "    </tr>\n",
       "    <tr>\n",
       "      <th>Canada</th>\n",
       "      <td>77.870588</td>\n",
       "      <td>NaN</td>\n",
       "    </tr>\n",
       "    <tr>\n",
       "      <th>Italy</th>\n",
       "      <td>77.827451</td>\n",
       "      <td>NaN</td>\n",
       "    </tr>\n",
       "    <tr>\n",
       "      <th>Belarus</th>\n",
       "      <td>NaN</td>\n",
       "      <td>25.550980</td>\n",
       "    </tr>\n",
       "    <tr>\n",
       "      <th>Belgium</th>\n",
       "      <td>NaN</td>\n",
       "      <td>25.270588</td>\n",
       "    </tr>\n",
       "    <tr>\n",
       "      <th>Czech Republic</th>\n",
       "      <td>NaN</td>\n",
       "      <td>23.052941</td>\n",
       "    </tr>\n",
       "    <tr>\n",
       "      <th>Denmark</th>\n",
       "      <td>NaN</td>\n",
       "      <td>25.349020</td>\n",
       "    </tr>\n",
       "    <tr>\n",
       "      <th>Finland</th>\n",
       "      <td>NaN</td>\n",
       "      <td>25.415686</td>\n",
       "    </tr>\n",
       "    <tr>\n",
       "      <th>Hungary</th>\n",
       "      <td>NaN</td>\n",
       "      <td>25.301961</td>\n",
       "    </tr>\n",
       "    <tr>\n",
       "      <th>Romania</th>\n",
       "      <td>NaN</td>\n",
       "      <td>25.752941</td>\n",
       "    </tr>\n",
       "    <tr>\n",
       "      <th>Slovak Republic</th>\n",
       "      <td>NaN</td>\n",
       "      <td>23.588235</td>\n",
       "    </tr>\n",
       "  </tbody>\n",
       "</table>\n",
       "</div>"
      ],
      "text/plain": [
       "                 avg_life_exp_top_10  avg_gini_top_10\n",
       "Andorra                    79.770833              NaN\n",
       "Japan                      79.596078              NaN\n",
       "Switzerland                78.956863              NaN\n",
       "Iceland                    78.821569        26.611765\n",
       "Sweden                     78.578431        24.286275\n",
       "Greece                     78.066667              NaN\n",
       "Spain                      77.962745              NaN\n",
       "Norway                     77.898039              NaN\n",
       "Canada                     77.870588              NaN\n",
       "Italy                      77.827451              NaN\n",
       "Belarus                          NaN        25.550980\n",
       "Belgium                          NaN        25.270588\n",
       "Czech Republic                   NaN        23.052941\n",
       "Denmark                          NaN        25.349020\n",
       "Finland                          NaN        25.415686\n",
       "Hungary                          NaN        25.301961\n",
       "Romania                          NaN        25.752941\n",
       "Slovak Republic                  NaN        23.588235"
      ]
     },
     "execution_count": 532,
     "metadata": {},
     "output_type": "execute_result"
    }
   ],
   "source": [
    "df_combined_gini_lf_exp_t_10 = pd.concat([avg_life_exp_top_10, avg_gini_top_10], axis=1, ignore_index=True, sort=True)\n",
    "df_combined_gini_lf_exp_t_10.columns=['avg_life_exp_top_10', 'avg_gini_top_10']\n",
    "df_combined_gini_lf_exp_t_10.sort_values(by='avg_life_exp_top_10', ascending=False)"
   ]
  },
  {
   "cell_type": "markdown",
   "metadata": {},
   "source": [
    "> Likewise the government health spending variable, the NaN values in the DataFrame above represent that a condition was not met. If NaN appears on the avg_life_exp_top_10 column, the country is not among the top 10 life expectancy. If NaN appears on the avg_gini_top_10 the country is not among the top 10 Gini Coefficient."
   ]
  },
  {
   "cell_type": "markdown",
   "metadata": {},
   "source": [
    "However, since we already did have NaN values in our <a href=\"#df_combined\">Combined Dataframe</a> to start with. We will check if the value for the Gini Coefficient  is NaN in some rows because the information was not available in the first place, using the <a href=\"#df_combined\">Combined Dataframe</a> (df_combined)."
   ]
  },
  {
   "cell_type": "code",
   "execution_count": 533,
   "metadata": {},
   "outputs": [
    {
     "data": {
      "text/html": [
       "<div>\n",
       "<style scoped>\n",
       "    .dataframe tbody tr th:only-of-type {\n",
       "        vertical-align: middle;\n",
       "    }\n",
       "\n",
       "    .dataframe tbody tr th {\n",
       "        vertical-align: top;\n",
       "    }\n",
       "\n",
       "    .dataframe thead th {\n",
       "        text-align: right;\n",
       "    }\n",
       "</style>\n",
       "<table border=\"1\" class=\"dataframe\">\n",
       "  <thead>\n",
       "    <tr style=\"text-align: right;\">\n",
       "      <th></th>\n",
       "      <th>avg_life_exp</th>\n",
       "      <th>avg_life_exp_f</th>\n",
       "      <th>avg_life_exp_m</th>\n",
       "      <th>avg_gdp</th>\n",
       "      <th>avg_gini</th>\n",
       "      <th>avg_govt_health_spe</th>\n",
       "    </tr>\n",
       "    <tr>\n",
       "      <th>country</th>\n",
       "      <th></th>\n",
       "      <th></th>\n",
       "      <th></th>\n",
       "      <th></th>\n",
       "      <th></th>\n",
       "      <th></th>\n",
       "    </tr>\n",
       "  </thead>\n",
       "  <tbody>\n",
       "    <tr>\n",
       "      <th>Andorra</th>\n",
       "      <td>79.770833</td>\n",
       "      <td>NaN</td>\n",
       "      <td>NaN</td>\n",
       "      <td>0.405657</td>\n",
       "      <td>40.000000</td>\n",
       "      <td>1450.0625</td>\n",
       "    </tr>\n",
       "    <tr>\n",
       "      <th>Dominica</th>\n",
       "      <td>72.958333</td>\n",
       "      <td>NaN</td>\n",
       "      <td>NaN</td>\n",
       "      <td>2.993549</td>\n",
       "      <td>40.000000</td>\n",
       "      <td>174.3750</td>\n",
       "    </tr>\n",
       "    <tr>\n",
       "      <th>Marshall Islands</th>\n",
       "      <td>62.277083</td>\n",
       "      <td>NaN</td>\n",
       "      <td>NaN</td>\n",
       "      <td>1.189616</td>\n",
       "      <td>40.000000</td>\n",
       "      <td>367.2500</td>\n",
       "    </tr>\n",
       "    <tr>\n",
       "      <th>North Korea</th>\n",
       "      <td>69.449020</td>\n",
       "      <td>70.386275</td>\n",
       "      <td>63.498039</td>\n",
       "      <td>-0.218871</td>\n",
       "      <td>37.000000</td>\n",
       "      <td>NaN</td>\n",
       "    </tr>\n",
       "    <tr>\n",
       "      <th>Palestine</th>\n",
       "      <td>69.560784</td>\n",
       "      <td>69.215686</td>\n",
       "      <td>65.764706</td>\n",
       "      <td>1.217592</td>\n",
       "      <td>34.100000</td>\n",
       "      <td>NaN</td>\n",
       "    </tr>\n",
       "    <tr>\n",
       "      <th>South Sudan</th>\n",
       "      <td>53.441176</td>\n",
       "      <td>47.358824</td>\n",
       "      <td>44.837255</td>\n",
       "      <td>1.479449</td>\n",
       "      <td>45.029412</td>\n",
       "      <td>NaN</td>\n",
       "    </tr>\n",
       "  </tbody>\n",
       "</table>\n",
       "</div>"
      ],
      "text/plain": [
       "                  avg_life_exp  avg_life_exp_f  avg_life_exp_m   avg_gdp  \\\n",
       "country                                                                    \n",
       "Andorra              79.770833             NaN             NaN  0.405657   \n",
       "Dominica             72.958333             NaN             NaN  2.993549   \n",
       "Marshall Islands     62.277083             NaN             NaN  1.189616   \n",
       "North Korea          69.449020       70.386275       63.498039 -0.218871   \n",
       "Palestine            69.560784       69.215686       65.764706  1.217592   \n",
       "South Sudan          53.441176       47.358824       44.837255  1.479449   \n",
       "\n",
       "                   avg_gini  avg_govt_health_spe  \n",
       "country                                           \n",
       "Andorra           40.000000            1450.0625  \n",
       "Dominica          40.000000             174.3750  \n",
       "Marshall Islands  40.000000             367.2500  \n",
       "North Korea       37.000000                  NaN  \n",
       "Palestine         34.100000                  NaN  \n",
       "South Sudan       45.029412                  NaN  "
      ]
     },
     "execution_count": 533,
     "metadata": {},
     "output_type": "execute_result"
    }
   ],
   "source": [
    "df_combined[df_combined.isnull().any(axis=1)]"
   ]
  },
  {
   "cell_type": "markdown",
   "metadata": {},
   "source": [
    "Out of the NaN information in the dataframe we are using for this analysis, none regards to the Gini Index. Therefore, the above findings are fine."
   ]
  },
  {
   "cell_type": "markdown",
   "metadata": {},
   "source": [
    "Continuing to explore the findings from the combined Dataframe of the top 10 Gini Coefficient and the top 10 life expectancy (df_combined_gini_lf_exp_t_10), only 2 countries with the top 10 Gini Coefficient are among the countries with the highest life expectancy. They are: Iceland and Sweden.\n",
    "\n",
    "We evinced this by dropping all the NaN values from the combined DataFrame (df_combined_gini_lf_exp_t_10) in the cell bellow."
   ]
  },
  {
   "cell_type": "code",
   "execution_count": 534,
   "metadata": {},
   "outputs": [
    {
     "data": {
      "text/html": [
       "<div>\n",
       "<style scoped>\n",
       "    .dataframe tbody tr th:only-of-type {\n",
       "        vertical-align: middle;\n",
       "    }\n",
       "\n",
       "    .dataframe tbody tr th {\n",
       "        vertical-align: top;\n",
       "    }\n",
       "\n",
       "    .dataframe thead th {\n",
       "        text-align: right;\n",
       "    }\n",
       "</style>\n",
       "<table border=\"1\" class=\"dataframe\">\n",
       "  <thead>\n",
       "    <tr style=\"text-align: right;\">\n",
       "      <th></th>\n",
       "      <th>avg_life_exp_top_10</th>\n",
       "      <th>avg_gini_top_10</th>\n",
       "    </tr>\n",
       "  </thead>\n",
       "  <tbody>\n",
       "    <tr>\n",
       "      <th>Iceland</th>\n",
       "      <td>78.821569</td>\n",
       "      <td>26.611765</td>\n",
       "    </tr>\n",
       "    <tr>\n",
       "      <th>Sweden</th>\n",
       "      <td>78.578431</td>\n",
       "      <td>24.286275</td>\n",
       "    </tr>\n",
       "  </tbody>\n",
       "</table>\n",
       "</div>"
      ],
      "text/plain": [
       "         avg_life_exp_top_10  avg_gini_top_10\n",
       "Iceland            78.821569        26.611765\n",
       "Sweden             78.578431        24.286275"
      ]
     },
     "execution_count": 534,
     "metadata": {},
     "output_type": "execute_result"
    }
   ],
   "source": [
    "df_combined_gini_lf_exp_t_10.dropna(inplace=True)\n",
    "df_combined_gini_lf_exp_t_10"
   ]
  },
  {
   "cell_type": "code",
   "execution_count": 535,
   "metadata": {},
   "outputs": [
    {
     "name": "stdout",
     "output_type": "stream",
     "text": [
      "20 % of the top 10 Gini Coefficient countries are among the top 10 countries with highest life expectancy.\n"
     ]
    }
   ],
   "source": [
    "Gini_Proportion_T = ((2/10))*100\n",
    "print('{} % of the top 10 Gini Coefficient countries are among the top 10 countries with highest life expectancy.'.format(round(Gini_Proportion_T)))"
   ]
  },
  {
   "cell_type": "markdown",
   "metadata": {},
   "source": [
    "#### What are the bottom 10 countries in average Gini Coefficient?"
   ]
  },
  {
   "cell_type": "code",
   "execution_count": 536,
   "metadata": {},
   "outputs": [
    {
     "data": {
      "text/plain": [
       "country\n",
       "South Africa                63.435294\n",
       "Namibia                     61.739216\n",
       "Central African Republic    59.474510\n",
       "Zambia                      58.823529\n",
       "Botswana                    58.486275\n",
       "Honduras                    58.147059\n",
       "Belize                      57.194118\n",
       "Swaziland                   56.756863\n",
       "Haiti                       56.309804\n",
       "Lesotho                     56.023529\n",
       "dtype: float64"
      ]
     },
     "execution_count": 536,
     "metadata": {},
     "output_type": "execute_result"
    }
   ],
   "source": [
    "avg_gini_bottom_10 = avg_gini.nlargest(10, )\n",
    "avg_gini_bottom_10"
   ]
  },
  {
   "cell_type": "code",
   "execution_count": 537,
   "metadata": {},
   "outputs": [
    {
     "name": "stdout",
     "output_type": "stream",
     "text": [
      "The average Gini Coefficient among the bottom 10 countries is 59.0.\n"
     ]
    }
   ],
   "source": [
    "gini_10_b_avg = avg_gini_bottom_10.mean()\n",
    "print('The average Gini Coefficient among the bottom 10 countries is {}.'.format(round(gini_10_b_avg)))"
   ]
  },
  {
   "cell_type": "code",
   "execution_count": 538,
   "metadata": {},
   "outputs": [
    {
     "name": "stdout",
     "output_type": "stream",
     "text": [
      "The Gini Coefficient in the bottom 10 countries is in average 134.0 % greater than the Gini Coefficient in the top 10 countries.\n"
     ]
    }
   ],
   "source": [
    "Proportion_T_B_GINI = ((gini_10_b_avg/gini_10_t_avg)-1)*100\n",
    "print('The Gini Coefficient in the bottom 10 countries is in average {} % greater than the Gini Coefficient in the top 10 countries.'.format(round(Proportion_T_B_GINI)))"
   ]
  },
  {
   "cell_type": "markdown",
   "metadata": {},
   "source": [
    "#### Are the bottom 10 countries in average Gini Coefficient among the bottom 10 countries in average life expectancy?\n",
    "\n",
    "To try to answer this question we will combine the DataFrames with the bottom 10 life expectancy variable and the bottom 10 Gini Index variable, and see if they match. We will order it by the average life expectancy."
   ]
  },
  {
   "cell_type": "code",
   "execution_count": 539,
   "metadata": {},
   "outputs": [
    {
     "data": {
      "text/html": [
       "<div>\n",
       "<style scoped>\n",
       "    .dataframe tbody tr th:only-of-type {\n",
       "        vertical-align: middle;\n",
       "    }\n",
       "\n",
       "    .dataframe tbody tr th {\n",
       "        vertical-align: top;\n",
       "    }\n",
       "\n",
       "    .dataframe thead th {\n",
       "        text-align: right;\n",
       "    }\n",
       "</style>\n",
       "<table border=\"1\" class=\"dataframe\">\n",
       "  <thead>\n",
       "    <tr style=\"text-align: right;\">\n",
       "      <th></th>\n",
       "      <th>avg_life_exp_bottom_10</th>\n",
       "      <th>avg_gini_bottom_10</th>\n",
       "    </tr>\n",
       "  </thead>\n",
       "  <tbody>\n",
       "    <tr>\n",
       "      <th>Ethiopia</th>\n",
       "      <td>51.829412</td>\n",
       "      <td>NaN</td>\n",
       "    </tr>\n",
       "    <tr>\n",
       "      <th>Eritrea</th>\n",
       "      <td>51.578431</td>\n",
       "      <td>NaN</td>\n",
       "    </tr>\n",
       "    <tr>\n",
       "      <th>Mali</th>\n",
       "      <td>51.111765</td>\n",
       "      <td>NaN</td>\n",
       "    </tr>\n",
       "    <tr>\n",
       "      <th>Sierra Leone</th>\n",
       "      <td>51.096078</td>\n",
       "      <td>NaN</td>\n",
       "    </tr>\n",
       "    <tr>\n",
       "      <th>Mozambique</th>\n",
       "      <td>50.554902</td>\n",
       "      <td>NaN</td>\n",
       "    </tr>\n",
       "    <tr>\n",
       "      <th>Niger</th>\n",
       "      <td>50.286275</td>\n",
       "      <td>NaN</td>\n",
       "    </tr>\n",
       "    <tr>\n",
       "      <th>Guinea-Bissau</th>\n",
       "      <td>50.211765</td>\n",
       "      <td>NaN</td>\n",
       "    </tr>\n",
       "    <tr>\n",
       "      <th>Malawi</th>\n",
       "      <td>49.815686</td>\n",
       "      <td>NaN</td>\n",
       "    </tr>\n",
       "    <tr>\n",
       "      <th>Burundi</th>\n",
       "      <td>49.535294</td>\n",
       "      <td>NaN</td>\n",
       "    </tr>\n",
       "    <tr>\n",
       "      <th>Central African Republic</th>\n",
       "      <td>47.492157</td>\n",
       "      <td>59.474510</td>\n",
       "    </tr>\n",
       "    <tr>\n",
       "      <th>Belize</th>\n",
       "      <td>NaN</td>\n",
       "      <td>57.194118</td>\n",
       "    </tr>\n",
       "    <tr>\n",
       "      <th>Botswana</th>\n",
       "      <td>NaN</td>\n",
       "      <td>58.486275</td>\n",
       "    </tr>\n",
       "    <tr>\n",
       "      <th>Haiti</th>\n",
       "      <td>NaN</td>\n",
       "      <td>56.309804</td>\n",
       "    </tr>\n",
       "    <tr>\n",
       "      <th>Honduras</th>\n",
       "      <td>NaN</td>\n",
       "      <td>58.147059</td>\n",
       "    </tr>\n",
       "    <tr>\n",
       "      <th>Lesotho</th>\n",
       "      <td>NaN</td>\n",
       "      <td>56.023529</td>\n",
       "    </tr>\n",
       "    <tr>\n",
       "      <th>Namibia</th>\n",
       "      <td>NaN</td>\n",
       "      <td>61.739216</td>\n",
       "    </tr>\n",
       "    <tr>\n",
       "      <th>South Africa</th>\n",
       "      <td>NaN</td>\n",
       "      <td>63.435294</td>\n",
       "    </tr>\n",
       "    <tr>\n",
       "      <th>Swaziland</th>\n",
       "      <td>NaN</td>\n",
       "      <td>56.756863</td>\n",
       "    </tr>\n",
       "    <tr>\n",
       "      <th>Zambia</th>\n",
       "      <td>NaN</td>\n",
       "      <td>58.823529</td>\n",
       "    </tr>\n",
       "  </tbody>\n",
       "</table>\n",
       "</div>"
      ],
      "text/plain": [
       "                          avg_life_exp_bottom_10  avg_gini_bottom_10\n",
       "Ethiopia                               51.829412                 NaN\n",
       "Eritrea                                51.578431                 NaN\n",
       "Mali                                   51.111765                 NaN\n",
       "Sierra Leone                           51.096078                 NaN\n",
       "Mozambique                             50.554902                 NaN\n",
       "Niger                                  50.286275                 NaN\n",
       "Guinea-Bissau                          50.211765                 NaN\n",
       "Malawi                                 49.815686                 NaN\n",
       "Burundi                                49.535294                 NaN\n",
       "Central African Republic               47.492157           59.474510\n",
       "Belize                                       NaN           57.194118\n",
       "Botswana                                     NaN           58.486275\n",
       "Haiti                                        NaN           56.309804\n",
       "Honduras                                     NaN           58.147059\n",
       "Lesotho                                      NaN           56.023529\n",
       "Namibia                                      NaN           61.739216\n",
       "South Africa                                 NaN           63.435294\n",
       "Swaziland                                    NaN           56.756863\n",
       "Zambia                                       NaN           58.823529"
      ]
     },
     "execution_count": 539,
     "metadata": {},
     "output_type": "execute_result"
    }
   ],
   "source": [
    "df_combined_gini_lf_exp_b_10 = pd.concat([avg_life_exp_bottom_10, avg_gini_bottom_10], axis=1, ignore_index=True, sort=True)\n",
    "df_combined_gini_lf_exp_b_10.columns=['avg_life_exp_bottom_10', 'avg_gini_bottom_10']\n",
    "df_combined_gini_lf_exp_b_10.sort_values(by='avg_life_exp_bottom_10', ascending=False)"
   ]
  },
  {
   "cell_type": "markdown",
   "metadata": {},
   "source": [
    "> Likewise the previous combined DataFrame for the top 10, the NaN values in the DataFrame above represent that a condition was not met. If NaN appears on the avg_life_exp_bottom_10 column, the country is not among the bottom 10 life expectancy. If NaN appears on the avg_gini_bottom_10 the country is not among the bottom 10 Gini Index."
   ]
  },
  {
   "cell_type": "markdown",
   "metadata": {},
   "source": [
    "Continuing to explore the findings from the combined Dataframe of the bottom 10 Gini Coefficient and the bottom 10 life expectancy (df_combined_gini_lf_exp_b_10), only 1 country with the bottom 10 Gini Coefficient is among the countries with the lowest life expectancy, Central African Republic.\n",
    "\n",
    "We evinced this by dropping all the NaN values from the combined DataFrame (df_combined_gini_lf_exp_t_10) in the cell bellow."
   ]
  },
  {
   "cell_type": "code",
   "execution_count": 540,
   "metadata": {},
   "outputs": [
    {
     "data": {
      "text/html": [
       "<div>\n",
       "<style scoped>\n",
       "    .dataframe tbody tr th:only-of-type {\n",
       "        vertical-align: middle;\n",
       "    }\n",
       "\n",
       "    .dataframe tbody tr th {\n",
       "        vertical-align: top;\n",
       "    }\n",
       "\n",
       "    .dataframe thead th {\n",
       "        text-align: right;\n",
       "    }\n",
       "</style>\n",
       "<table border=\"1\" class=\"dataframe\">\n",
       "  <thead>\n",
       "    <tr style=\"text-align: right;\">\n",
       "      <th></th>\n",
       "      <th>avg_life_exp_bottom_10</th>\n",
       "      <th>avg_gini_bottom_10</th>\n",
       "    </tr>\n",
       "  </thead>\n",
       "  <tbody>\n",
       "    <tr>\n",
       "      <th>Central African Republic</th>\n",
       "      <td>47.492157</td>\n",
       "      <td>59.47451</td>\n",
       "    </tr>\n",
       "  </tbody>\n",
       "</table>\n",
       "</div>"
      ],
      "text/plain": [
       "                          avg_life_exp_bottom_10  avg_gini_bottom_10\n",
       "Central African Republic               47.492157            59.47451"
      ]
     },
     "execution_count": 540,
     "metadata": {},
     "output_type": "execute_result"
    }
   ],
   "source": [
    "df_combined_gini_lf_exp_b_10.dropna(inplace=True)\n",
    "df_combined_gini_lf_exp_b_10"
   ]
  },
  {
   "cell_type": "code",
   "execution_count": 541,
   "metadata": {},
   "outputs": [
    {
     "name": "stdout",
     "output_type": "stream",
     "text": [
      "10 % of the bottom 10 Gini Coefficient countries are among the top 10 countries with bottom life expectancy.\n"
     ]
    }
   ],
   "source": [
    "Gini_Proportion_B = ((1/10))*100\n",
    "print('{} % of the bottom 10 Gini Coefficient countries are among the top 10 countries with bottom life expectancy.'.format(round(Gini_Proportion_B)))"
   ]
  },
  {
   "cell_type": "code",
   "execution_count": 542,
   "metadata": {},
   "outputs": [
    {
     "data": {
      "image/png": "[encoded data removed]",
      "text/plain": [
       "<matplotlib.figure.Figure at 0x7f2418d61630>"
      ]
     },
     "metadata": {
      "needs_background": "light"
     },
     "output_type": "display_data"
    },
    {
     "data": {
      "image/png": "[encoded data removed]",
      "text/plain": [
       "<matplotlib.figure.Figure at 0x7f241bbbda20>"
      ]
     },
     "metadata": {
      "needs_background": "light"
     },
     "output_type": "display_data"
    }
   ],
   "source": [
    "x = avg_gini_top_10\n",
    "y = avg_life_exp_top_10\n",
    "np.corrcoef(x,y)\n",
    "plt.scatter(x, y)\n",
    "plt.xlabel('Average GINI')\n",
    "plt.ylabel('Average Life Expectancy (years)')\n",
    "plt.title('Top 10 Countries')\n",
    "plt.show()\n",
    "\n",
    "x = avg_gini_bottom_10\n",
    "y = avg_life_exp_bottom_10\n",
    "np.corrcoef(x,y)\n",
    "plt.scatter(x, y)\n",
    "plt.xlabel('Average GINI')\n",
    "plt.ylabel('Average Life Expectancy (years)')\n",
    "plt.title('Bottom 10 Countries')\n",
    "plt.show()"
   ]
  },
  {
   "cell_type": "markdown",
   "metadata": {},
   "source": [
    "The scatter plots above demonstrate that there is some correlation between the Gini Coefficient and Life Expectancy. At first, we would say that it is a negative one, since it appears that the higher the Gini Coefficient, the lower the life expectany. However, one must remember that Gini is inversely rated, the lowest the Gini Coefficient the 'better'.\n",
    "Therefore, this is in fact a timid but positive correlation, since as the coefficient drops life expectancy increases."
   ]
  },
  {
   "cell_type": "markdown",
   "metadata": {},
   "source": [
    "<a id='GDP'></a>\n",
    "### GDP Per Capita and General Life Expectancy"
   ]
  },
  {
   "cell_type": "markdown",
   "metadata": {},
   "source": [
    "### Is there a relationship between the GDP per capita and life expectancy? Can a higher GDP per capita contribute to a higher or lower life expectancy?"
   ]
  },
  {
   "cell_type": "markdown",
   "metadata": {},
   "source": [
    "#### What are the top 10 countries in average GDP per capita?"
   ]
  },
  {
   "cell_type": "code",
   "execution_count": 543,
   "metadata": {},
   "outputs": [
    {
     "data": {
      "text/plain": [
       "country\n",
       "Equatorial Guinea    7.403196\n",
       "South Korea          6.380020\n",
       "Gabon                6.293078\n",
       "China                5.928824\n",
       "Botswana             5.301667\n",
       "Bhutan               5.131137\n",
       "Maldives             4.902408\n",
       "Singapore            4.808431\n",
       "Lebanon              4.339318\n",
       "Malta                4.206706\n",
       "dtype: float64"
      ]
     },
     "execution_count": 543,
     "metadata": {},
     "output_type": "execute_result"
    }
   ],
   "source": [
    "avg_gdp_top_10 = avg_gdp.nlargest(10, )\n",
    "avg_gdp_top_10"
   ]
  },
  {
   "cell_type": "code",
   "execution_count": 544,
   "metadata": {},
   "outputs": [
    {
     "name": "stdout",
     "output_type": "stream",
     "text": [
      "The average GDP per capita (PPP) among the top 10 countries is 5.0.\n"
     ]
    }
   ],
   "source": [
    "GDP_10_t_avg = avg_gdp_top_10.mean()\n",
    "print('The average GDP per capita (PPP) among the top 10 countries is {}.'.format(round(GDP_10_t_avg)))"
   ]
  },
  {
   "cell_type": "markdown",
   "metadata": {},
   "source": [
    "#### Are the top 10 countries GDP within the top 10 countries with the highest life expectancy?"
   ]
  },
  {
   "cell_type": "code",
   "execution_count": 545,
   "metadata": {},
   "outputs": [
    {
     "data": {
      "text/html": [
       "<div>\n",
       "<style scoped>\n",
       "    .dataframe tbody tr th:only-of-type {\n",
       "        vertical-align: middle;\n",
       "    }\n",
       "\n",
       "    .dataframe tbody tr th {\n",
       "        vertical-align: top;\n",
       "    }\n",
       "\n",
       "    .dataframe thead th {\n",
       "        text-align: right;\n",
       "    }\n",
       "</style>\n",
       "<table border=\"1\" class=\"dataframe\">\n",
       "  <thead>\n",
       "    <tr style=\"text-align: right;\">\n",
       "      <th></th>\n",
       "      <th>avg_life_exp</th>\n",
       "      <th>avg_gdp_top_10</th>\n",
       "    </tr>\n",
       "  </thead>\n",
       "  <tbody>\n",
       "    <tr>\n",
       "      <th>Andorra</th>\n",
       "      <td>79.770833</td>\n",
       "      <td>NaN</td>\n",
       "    </tr>\n",
       "    <tr>\n",
       "      <th>Japan</th>\n",
       "      <td>79.596078</td>\n",
       "      <td>NaN</td>\n",
       "    </tr>\n",
       "    <tr>\n",
       "      <th>Switzerland</th>\n",
       "      <td>78.956863</td>\n",
       "      <td>NaN</td>\n",
       "    </tr>\n",
       "    <tr>\n",
       "      <th>Iceland</th>\n",
       "      <td>78.821569</td>\n",
       "      <td>NaN</td>\n",
       "    </tr>\n",
       "    <tr>\n",
       "      <th>Sweden</th>\n",
       "      <td>78.578431</td>\n",
       "      <td>NaN</td>\n",
       "    </tr>\n",
       "    <tr>\n",
       "      <th>Greece</th>\n",
       "      <td>78.066667</td>\n",
       "      <td>NaN</td>\n",
       "    </tr>\n",
       "    <tr>\n",
       "      <th>Spain</th>\n",
       "      <td>77.962745</td>\n",
       "      <td>NaN</td>\n",
       "    </tr>\n",
       "    <tr>\n",
       "      <th>Norway</th>\n",
       "      <td>77.898039</td>\n",
       "      <td>NaN</td>\n",
       "    </tr>\n",
       "    <tr>\n",
       "      <th>Canada</th>\n",
       "      <td>77.870588</td>\n",
       "      <td>NaN</td>\n",
       "    </tr>\n",
       "    <tr>\n",
       "      <th>Italy</th>\n",
       "      <td>77.827451</td>\n",
       "      <td>NaN</td>\n",
       "    </tr>\n",
       "    <tr>\n",
       "      <th>Bhutan</th>\n",
       "      <td>NaN</td>\n",
       "      <td>5.131137</td>\n",
       "    </tr>\n",
       "    <tr>\n",
       "      <th>Botswana</th>\n",
       "      <td>NaN</td>\n",
       "      <td>5.301667</td>\n",
       "    </tr>\n",
       "    <tr>\n",
       "      <th>China</th>\n",
       "      <td>NaN</td>\n",
       "      <td>5.928824</td>\n",
       "    </tr>\n",
       "    <tr>\n",
       "      <th>Equatorial Guinea</th>\n",
       "      <td>NaN</td>\n",
       "      <td>7.403196</td>\n",
       "    </tr>\n",
       "    <tr>\n",
       "      <th>Gabon</th>\n",
       "      <td>NaN</td>\n",
       "      <td>6.293078</td>\n",
       "    </tr>\n",
       "    <tr>\n",
       "      <th>Lebanon</th>\n",
       "      <td>NaN</td>\n",
       "      <td>4.339318</td>\n",
       "    </tr>\n",
       "    <tr>\n",
       "      <th>Maldives</th>\n",
       "      <td>NaN</td>\n",
       "      <td>4.902408</td>\n",
       "    </tr>\n",
       "    <tr>\n",
       "      <th>Malta</th>\n",
       "      <td>NaN</td>\n",
       "      <td>4.206706</td>\n",
       "    </tr>\n",
       "    <tr>\n",
       "      <th>Singapore</th>\n",
       "      <td>NaN</td>\n",
       "      <td>4.808431</td>\n",
       "    </tr>\n",
       "    <tr>\n",
       "      <th>South Korea</th>\n",
       "      <td>NaN</td>\n",
       "      <td>6.380020</td>\n",
       "    </tr>\n",
       "  </tbody>\n",
       "</table>\n",
       "</div>"
      ],
      "text/plain": [
       "                   avg_life_exp  avg_gdp_top_10\n",
       "Andorra               79.770833             NaN\n",
       "Japan                 79.596078             NaN\n",
       "Switzerland           78.956863             NaN\n",
       "Iceland               78.821569             NaN\n",
       "Sweden                78.578431             NaN\n",
       "Greece                78.066667             NaN\n",
       "Spain                 77.962745             NaN\n",
       "Norway                77.898039             NaN\n",
       "Canada                77.870588             NaN\n",
       "Italy                 77.827451             NaN\n",
       "Bhutan                      NaN        5.131137\n",
       "Botswana                    NaN        5.301667\n",
       "China                       NaN        5.928824\n",
       "Equatorial Guinea           NaN        7.403196\n",
       "Gabon                       NaN        6.293078\n",
       "Lebanon                     NaN        4.339318\n",
       "Maldives                    NaN        4.902408\n",
       "Malta                       NaN        4.206706\n",
       "Singapore                   NaN        4.808431\n",
       "South Korea                 NaN        6.380020"
      ]
     },
     "execution_count": 545,
     "metadata": {},
     "output_type": "execute_result"
    }
   ],
   "source": [
    "df_combined_gdp_lf_exp_t_10 = pd.concat([(avg_life_exp_top_10), avg_gdp_top_10], axis=1, ignore_index=True, sort=True)\n",
    "df_combined_gdp_lf_exp_t_10.columns=['avg_life_exp', 'avg_gdp_top_10']\n",
    "df_combined_gdp_lf_exp_t_10.sort_values(by='avg_life_exp', ascending=False)"
   ]
  },
  {
   "cell_type": "markdown",
   "metadata": {},
   "source": [
    "> Likewise the comparison between life expectancy and the other variables, the NaN values in the DataFrame above represent that a condition was not met. If NaN appears on the avg_life_exp_top_10 column, the country is not among the top 10 life expectancy. If NaN appears on the avg_gdp_top_10 the country is not among the top 10 GDP."
   ]
  },
  {
   "cell_type": "markdown",
   "metadata": {},
   "source": [
    "The above DataFrame (df_combined_gdp_lf_exp_t_10) shows that none of the countries with the highest GDPs are among the countries with the highest life expectancy. Which suggests that the GDP has no influence in life expectancy."
   ]
  },
  {
   "cell_type": "code",
   "execution_count": 546,
   "metadata": {},
   "outputs": [
    {
     "name": "stdout",
     "output_type": "stream",
     "text": [
      "0 % of the top 10 GDP countries are among the top 10 countries with highest life expectancy.\n"
     ]
    }
   ],
   "source": [
    "GDP_Proportion_T = ((0/10))*100\n",
    "print('{} % of the top 10 GDP countries are among the top 10 countries with highest life expectancy.'.format(round(GDP_Proportion_T)))"
   ]
  },
  {
   "cell_type": "markdown",
   "metadata": {},
   "source": [
    "#### What are the bottom 10 countries in average GDP per capita?"
   ]
  },
  {
   "cell_type": "code",
   "execution_count": 547,
   "metadata": {},
   "outputs": [
    {
     "data": {
      "text/plain": [
       "country\n",
       "Congo, Dem. Rep.           -1.330066\n",
       "Central African Republic   -1.183586\n",
       "Somalia                    -1.093566\n",
       "Madagascar                 -0.748025\n",
       "Tajikistan                 -0.497365\n",
       "Kuwait                     -0.484290\n",
       "Togo                       -0.304645\n",
       "Kiribati                   -0.294218\n",
       "North Korea                -0.218871\n",
       "Zambia                     -0.216143\n",
       "dtype: float64"
      ]
     },
     "execution_count": 547,
     "metadata": {},
     "output_type": "execute_result"
    }
   ],
   "source": [
    "avg_gdp_bottom_10 = avg_gdp.nsmallest(10, )\n",
    "avg_gdp_bottom_10"
   ]
  },
  {
   "cell_type": "code",
   "execution_count": 548,
   "metadata": {},
   "outputs": [
    {
     "name": "stdout",
     "output_type": "stream",
     "text": [
      "The average GDP per capita (PPP) among the bottom 10 countries is -1.0.\n"
     ]
    }
   ],
   "source": [
    "GDP_10_b_avg = avg_gdp_bottom_10.mean()\n",
    "print('The average GDP per capita (PPP) among the bottom 10 countries is {}.'.format(round(GDP_10_b_avg)))"
   ]
  },
  {
   "cell_type": "code",
   "execution_count": 549,
   "metadata": {},
   "outputs": [
    {
     "name": "stdout",
     "output_type": "stream",
     "text": [
      "The GDP per capita (PPP) in the top 10 countries is in average 759.0 % greater than the GDP per capita (PPP) in the bottom 10 countries.\n"
     ]
    }
   ],
   "source": [
    "Proportion_T_B_GDP = (-(GDP_10_t_avg/GDP_10_b_avg)-1)*100\n",
    "print('The GDP per capita (PPP) in the top 10 countries is in average {} % greater than the GDP per capita (PPP) in the bottom 10 countries.'.format(round(Proportion_T_B_GDP)))"
   ]
  },
  {
   "cell_type": "markdown",
   "metadata": {},
   "source": [
    "#### Are the bottom 10 countries GDP within the bottom 10 countries with the lowest life expectancy?"
   ]
  },
  {
   "cell_type": "code",
   "execution_count": 550,
   "metadata": {},
   "outputs": [
    {
     "data": {
      "text/html": [
       "<div>\n",
       "<style scoped>\n",
       "    .dataframe tbody tr th:only-of-type {\n",
       "        vertical-align: middle;\n",
       "    }\n",
       "\n",
       "    .dataframe tbody tr th {\n",
       "        vertical-align: top;\n",
       "    }\n",
       "\n",
       "    .dataframe thead th {\n",
       "        text-align: right;\n",
       "    }\n",
       "</style>\n",
       "<table border=\"1\" class=\"dataframe\">\n",
       "  <thead>\n",
       "    <tr style=\"text-align: right;\">\n",
       "      <th></th>\n",
       "      <th>avg_life_exp_bottom_10</th>\n",
       "      <th>avg_gdp_bottom_10</th>\n",
       "    </tr>\n",
       "  </thead>\n",
       "  <tbody>\n",
       "    <tr>\n",
       "      <th>Ethiopia</th>\n",
       "      <td>51.829412</td>\n",
       "      <td>NaN</td>\n",
       "    </tr>\n",
       "    <tr>\n",
       "      <th>Eritrea</th>\n",
       "      <td>51.578431</td>\n",
       "      <td>NaN</td>\n",
       "    </tr>\n",
       "    <tr>\n",
       "      <th>Mali</th>\n",
       "      <td>51.111765</td>\n",
       "      <td>NaN</td>\n",
       "    </tr>\n",
       "    <tr>\n",
       "      <th>Sierra Leone</th>\n",
       "      <td>51.096078</td>\n",
       "      <td>NaN</td>\n",
       "    </tr>\n",
       "    <tr>\n",
       "      <th>Mozambique</th>\n",
       "      <td>50.554902</td>\n",
       "      <td>NaN</td>\n",
       "    </tr>\n",
       "    <tr>\n",
       "      <th>Niger</th>\n",
       "      <td>50.286275</td>\n",
       "      <td>NaN</td>\n",
       "    </tr>\n",
       "    <tr>\n",
       "      <th>Guinea-Bissau</th>\n",
       "      <td>50.211765</td>\n",
       "      <td>NaN</td>\n",
       "    </tr>\n",
       "    <tr>\n",
       "      <th>Malawi</th>\n",
       "      <td>49.815686</td>\n",
       "      <td>NaN</td>\n",
       "    </tr>\n",
       "    <tr>\n",
       "      <th>Burundi</th>\n",
       "      <td>49.535294</td>\n",
       "      <td>NaN</td>\n",
       "    </tr>\n",
       "    <tr>\n",
       "      <th>Central African Republic</th>\n",
       "      <td>47.492157</td>\n",
       "      <td>-1.183586</td>\n",
       "    </tr>\n",
       "    <tr>\n",
       "      <th>Congo, Dem. Rep.</th>\n",
       "      <td>NaN</td>\n",
       "      <td>-1.330066</td>\n",
       "    </tr>\n",
       "    <tr>\n",
       "      <th>Kiribati</th>\n",
       "      <td>NaN</td>\n",
       "      <td>-0.294218</td>\n",
       "    </tr>\n",
       "    <tr>\n",
       "      <th>Kuwait</th>\n",
       "      <td>NaN</td>\n",
       "      <td>-0.484290</td>\n",
       "    </tr>\n",
       "    <tr>\n",
       "      <th>Madagascar</th>\n",
       "      <td>NaN</td>\n",
       "      <td>-0.748025</td>\n",
       "    </tr>\n",
       "    <tr>\n",
       "      <th>North Korea</th>\n",
       "      <td>NaN</td>\n",
       "      <td>-0.218871</td>\n",
       "    </tr>\n",
       "    <tr>\n",
       "      <th>Somalia</th>\n",
       "      <td>NaN</td>\n",
       "      <td>-1.093566</td>\n",
       "    </tr>\n",
       "    <tr>\n",
       "      <th>Tajikistan</th>\n",
       "      <td>NaN</td>\n",
       "      <td>-0.497365</td>\n",
       "    </tr>\n",
       "    <tr>\n",
       "      <th>Togo</th>\n",
       "      <td>NaN</td>\n",
       "      <td>-0.304645</td>\n",
       "    </tr>\n",
       "    <tr>\n",
       "      <th>Zambia</th>\n",
       "      <td>NaN</td>\n",
       "      <td>-0.216143</td>\n",
       "    </tr>\n",
       "  </tbody>\n",
       "</table>\n",
       "</div>"
      ],
      "text/plain": [
       "                          avg_life_exp_bottom_10  avg_gdp_bottom_10\n",
       "Ethiopia                               51.829412                NaN\n",
       "Eritrea                                51.578431                NaN\n",
       "Mali                                   51.111765                NaN\n",
       "Sierra Leone                           51.096078                NaN\n",
       "Mozambique                             50.554902                NaN\n",
       "Niger                                  50.286275                NaN\n",
       "Guinea-Bissau                          50.211765                NaN\n",
       "Malawi                                 49.815686                NaN\n",
       "Burundi                                49.535294                NaN\n",
       "Central African Republic               47.492157          -1.183586\n",
       "Congo, Dem. Rep.                             NaN          -1.330066\n",
       "Kiribati                                     NaN          -0.294218\n",
       "Kuwait                                       NaN          -0.484290\n",
       "Madagascar                                   NaN          -0.748025\n",
       "North Korea                                  NaN          -0.218871\n",
       "Somalia                                      NaN          -1.093566\n",
       "Tajikistan                                   NaN          -0.497365\n",
       "Togo                                         NaN          -0.304645\n",
       "Zambia                                       NaN          -0.216143"
      ]
     },
     "execution_count": 550,
     "metadata": {},
     "output_type": "execute_result"
    }
   ],
   "source": [
    "df_combined_gdp_lf_exp_b_10 = pd.concat([avg_life_exp_bottom_10, avg_gdp_bottom_10], axis=1, ignore_index=True, sort=True)\n",
    "df_combined_gdp_lf_exp_b_10.columns=['avg_life_exp_bottom_10', 'avg_gdp_bottom_10']\n",
    "df_combined_gdp_lf_exp_b_10.sort_values(by='avg_life_exp_bottom_10', ascending=False)"
   ]
  },
  {
   "cell_type": "markdown",
   "metadata": {},
   "source": [
    "> Likewise the comparison between life expectancy and the other variables, the NaN values in the DataFrame above represent that a condition was not met. If NaN appears on the avg_life_exp_bottom_10 column, the country is not among the bottom 10 life expectancy. If NaN appears on the avg_gdp_bottom_10 the country is not among the bottom 10 GDP."
   ]
  },
  {
   "cell_type": "markdown",
   "metadata": {},
   "source": [
    "However, since we already did have NaN values in our <a href=\"#df_combined\">Combined Dataframe</a> to start with. We will check if the value for the GDP is NaN in some rows because the information was not available in the first place, using the <a href=\"#df_combined\">Combined Dataframe</a> (df_combined)."
   ]
  },
  {
   "cell_type": "code",
   "execution_count": 551,
   "metadata": {},
   "outputs": [
    {
     "data": {
      "text/html": [
       "<div>\n",
       "<style scoped>\n",
       "    .dataframe tbody tr th:only-of-type {\n",
       "        vertical-align: middle;\n",
       "    }\n",
       "\n",
       "    .dataframe tbody tr th {\n",
       "        vertical-align: top;\n",
       "    }\n",
       "\n",
       "    .dataframe thead th {\n",
       "        text-align: right;\n",
       "    }\n",
       "</style>\n",
       "<table border=\"1\" class=\"dataframe\">\n",
       "  <thead>\n",
       "    <tr style=\"text-align: right;\">\n",
       "      <th></th>\n",
       "      <th>avg_life_exp</th>\n",
       "      <th>avg_life_exp_f</th>\n",
       "      <th>avg_life_exp_m</th>\n",
       "      <th>avg_gdp</th>\n",
       "      <th>avg_gini</th>\n",
       "      <th>avg_govt_health_spe</th>\n",
       "    </tr>\n",
       "    <tr>\n",
       "      <th>country</th>\n",
       "      <th></th>\n",
       "      <th></th>\n",
       "      <th></th>\n",
       "      <th></th>\n",
       "      <th></th>\n",
       "      <th></th>\n",
       "    </tr>\n",
       "  </thead>\n",
       "  <tbody>\n",
       "    <tr>\n",
       "      <th>Andorra</th>\n",
       "      <td>79.770833</td>\n",
       "      <td>NaN</td>\n",
       "      <td>NaN</td>\n",
       "      <td>0.405657</td>\n",
       "      <td>40.000000</td>\n",
       "      <td>1450.0625</td>\n",
       "    </tr>\n",
       "    <tr>\n",
       "      <th>Dominica</th>\n",
       "      <td>72.958333</td>\n",
       "      <td>NaN</td>\n",
       "      <td>NaN</td>\n",
       "      <td>2.993549</td>\n",
       "      <td>40.000000</td>\n",
       "      <td>174.3750</td>\n",
       "    </tr>\n",
       "    <tr>\n",
       "      <th>Marshall Islands</th>\n",
       "      <td>62.277083</td>\n",
       "      <td>NaN</td>\n",
       "      <td>NaN</td>\n",
       "      <td>1.189616</td>\n",
       "      <td>40.000000</td>\n",
       "      <td>367.2500</td>\n",
       "    </tr>\n",
       "    <tr>\n",
       "      <th>North Korea</th>\n",
       "      <td>69.449020</td>\n",
       "      <td>70.386275</td>\n",
       "      <td>63.498039</td>\n",
       "      <td>-0.218871</td>\n",
       "      <td>37.000000</td>\n",
       "      <td>NaN</td>\n",
       "    </tr>\n",
       "    <tr>\n",
       "      <th>Palestine</th>\n",
       "      <td>69.560784</td>\n",
       "      <td>69.215686</td>\n",
       "      <td>65.764706</td>\n",
       "      <td>1.217592</td>\n",
       "      <td>34.100000</td>\n",
       "      <td>NaN</td>\n",
       "    </tr>\n",
       "    <tr>\n",
       "      <th>South Sudan</th>\n",
       "      <td>53.441176</td>\n",
       "      <td>47.358824</td>\n",
       "      <td>44.837255</td>\n",
       "      <td>1.479449</td>\n",
       "      <td>45.029412</td>\n",
       "      <td>NaN</td>\n",
       "    </tr>\n",
       "  </tbody>\n",
       "</table>\n",
       "</div>"
      ],
      "text/plain": [
       "                  avg_life_exp  avg_life_exp_f  avg_life_exp_m   avg_gdp  \\\n",
       "country                                                                    \n",
       "Andorra              79.770833             NaN             NaN  0.405657   \n",
       "Dominica             72.958333             NaN             NaN  2.993549   \n",
       "Marshall Islands     62.277083             NaN             NaN  1.189616   \n",
       "North Korea          69.449020       70.386275       63.498039 -0.218871   \n",
       "Palestine            69.560784       69.215686       65.764706  1.217592   \n",
       "South Sudan          53.441176       47.358824       44.837255  1.479449   \n",
       "\n",
       "                   avg_gini  avg_govt_health_spe  \n",
       "country                                           \n",
       "Andorra           40.000000            1450.0625  \n",
       "Dominica          40.000000             174.3750  \n",
       "Marshall Islands  40.000000             367.2500  \n",
       "North Korea       37.000000                  NaN  \n",
       "Palestine         34.100000                  NaN  \n",
       "South Sudan       45.029412                  NaN  "
      ]
     },
     "execution_count": 551,
     "metadata": {},
     "output_type": "execute_result"
    }
   ],
   "source": [
    "df_combined[df_combined.isnull().any(axis=1)]"
   ]
  },
  {
   "cell_type": "markdown",
   "metadata": {},
   "source": [
    "Out of the NaN information left in the dataframe we are using for this analysis, none regards to the GDP. Therefore, the above findings are fine."
   ]
  },
  {
   "cell_type": "markdown",
   "metadata": {},
   "source": [
    "Continuing to explore the findings from the combined Dataframe of the bottom 10 GDP and the bottom 10 life expectancy (df_combined_gdp_lf_exp_b_10), only 1 country with the bottom 10 GDP is among the countries with the lowest life expectancy, Central African Republic.\n",
    "\n",
    "We showed this by dropping all the NaN values from the combined DataFrame (df_combined_gdp_lf_exp_t_10) in the cell bellow."
   ]
  },
  {
   "cell_type": "code",
   "execution_count": 552,
   "metadata": {},
   "outputs": [
    {
     "data": {
      "text/html": [
       "<div>\n",
       "<style scoped>\n",
       "    .dataframe tbody tr th:only-of-type {\n",
       "        vertical-align: middle;\n",
       "    }\n",
       "\n",
       "    .dataframe tbody tr th {\n",
       "        vertical-align: top;\n",
       "    }\n",
       "\n",
       "    .dataframe thead th {\n",
       "        text-align: right;\n",
       "    }\n",
       "</style>\n",
       "<table border=\"1\" class=\"dataframe\">\n",
       "  <thead>\n",
       "    <tr style=\"text-align: right;\">\n",
       "      <th></th>\n",
       "      <th>avg_life_exp_bottom_10</th>\n",
       "      <th>avg_gdp_bottom_10</th>\n",
       "    </tr>\n",
       "  </thead>\n",
       "  <tbody>\n",
       "    <tr>\n",
       "      <th>Central African Republic</th>\n",
       "      <td>47.492157</td>\n",
       "      <td>-1.183586</td>\n",
       "    </tr>\n",
       "  </tbody>\n",
       "</table>\n",
       "</div>"
      ],
      "text/plain": [
       "                          avg_life_exp_bottom_10  avg_gdp_bottom_10\n",
       "Central African Republic               47.492157          -1.183586"
      ]
     },
     "execution_count": 552,
     "metadata": {},
     "output_type": "execute_result"
    }
   ],
   "source": [
    "df_combined_gdp_lf_exp_b_10.dropna(inplace=True)\n",
    "df_combined_gdp_lf_exp_b_10"
   ]
  },
  {
   "cell_type": "code",
   "execution_count": 553,
   "metadata": {},
   "outputs": [
    {
     "name": "stdout",
     "output_type": "stream",
     "text": [
      "10 % of the bottom 10 GDP countries are among the bottom 10 countries with lowest life expectancy.\n"
     ]
    }
   ],
   "source": [
    "GDP_Proportion_B = ((1/10))*100\n",
    "print('{} % of the bottom 10 GDP countries are among the bottom 10 countries with lowest life expectancy.'.format(round(GDP_Proportion_B)))"
   ]
  },
  {
   "cell_type": "code",
   "execution_count": 554,
   "metadata": {},
   "outputs": [
    {
     "data": {
      "image/png": "[encoded data removed]",
      "text/plain": [
       "<matplotlib.figure.Figure at 0x7f24191ef668>"
      ]
     },
     "metadata": {
      "needs_background": "light"
     },
     "output_type": "display_data"
    },
    {
     "data": {
      "image/png": "[encoded data removed]",
      "text/plain": [
       "<matplotlib.figure.Figure at 0x7f2420c89a90>"
      ]
     },
     "metadata": {
      "needs_background": "light"
     },
     "output_type": "display_data"
    }
   ],
   "source": [
    "x = avg_gdp_top_10\n",
    "y = avg_life_exp_top_10\n",
    "np.corrcoef(x,y)\n",
    "plt.scatter(x, y)\n",
    "plt.xlabel('Average GDP PPP')\n",
    "plt.ylabel('Average Life Expectancy (years)')\n",
    "plt.title('Top 10 Countries')\n",
    "plt.show()\n",
    "\n",
    "x = avg_gdp_bottom_10\n",
    "y = avg_life_exp_bottom_10\n",
    "np.corrcoef(x,y)\n",
    "plt.scatter(x, y)\n",
    "plt.xlabel('Average GDP PPP')\n",
    "plt.ylabel('Average Life Expectancy (years)')\n",
    "plt.title('Bottom 10 Countries')\n",
    "plt.show()"
   ]
  },
  {
   "cell_type": "markdown",
   "metadata": {},
   "source": [
    "The scatter plots above demonstrate that there seems to be a positive correlation between GDP PPP and life expectancy. Where the greater the purchasing power the higher the life expectancy.  "
   ]
  },
  {
   "cell_type": "markdown",
   "metadata": {},
   "source": [
    "<a id='conclusions'></a>\n",
    "## Conclusions\n",
    "\n",
    "> In this section we will summarize the findings and results derived from the Exploratory Analysis.\n",
    "\n",
    "<a href=\"#FEMALE\">Female and Male Life Expectancies</a>\n",
    "\n",
    "We found that overall women tend to live in average 8% more than man.\n",
    "\n",
    "<a href=\"#GENERAL\">General Life Expectancy</a>\n",
    "\n",
    "People in the top 10 countries in General Life Expectancy tend to live in average 56% longer than people in the bottom 10 countries.\n",
    "\n",
    "<a href=\"#GOVT\">Government Health Spending and General Life Expectancy</a>\n",
    "\n",
    "With the findings acquired on our exploratory analysis it is possible to conclude that there seems to be a relationship between Government Health Spending and General Life Expectancy. The scatterplots showed that there is a positive correlation between the two variables. The correlation matrix and the comparisons between top and bottom government spending countries versus top and bottom life expectancy countries showed that the amount a government spends in health per person appears to be important and may influence in the life expectancy of a country. However, it is not a determinant variable. Other variables may affect life expectancy more heavily. \n",
    "\n",
    "<a href=\"#GINI\">Gini Coefficient and General Life Expectancy</a>\n",
    "\n",
    "With the findings acquired on our exploratory analysis it is possible to conclude that there seems to be a faint relationship between the income equality/inequality (Gini coefficient) and General Life Expectancy. The scatterplots showed that there is a linear correlation between the two variables. The correlation matrix and the comparisons between top and bottom Gini coefficient countries versus top and bottom life expectancy countries showed that the income equality may be an important variable for the life improvement of a population, but it seems to have little influence in the life expectancy of a country.\n",
    "\n",
    "<a href=\"#GDP\">GDP Per Capita (PPP) and General Life Expectancy</a>\n",
    "\n",
    "With the findings acquired on our exploratory analysis it is possible to conclude that there seems to almost no relationship between the parity in purchasing power per capita (GDP - PPP) and General Life Expectancy. The scatterplots showed that there is a positive correlation between the two variables. Similarly, the Gini Index, the correlation matrix and the comparisons between top and bottom GDP PPP countries versus top and bottom life expectancy countries showed that the parity in purchasing power per capita (GDP - PPP) may be an important variable for the life improvement of a population, but it seems to have very little influence in the life expectancy of a country."
   ]
  },
  {
   "cell_type": "code",
   "execution_count": 555,
   "metadata": {},
   "outputs": [
    {
     "data": {
      "text/plain": [
       "0"
      ]
     },
     "execution_count": 555,
     "metadata": {},
     "output_type": "execute_result"
    }
   ],
   "source": [
    "from subprocess import call\n",
    "call(['python', '-m', 'nbconvert', 'Investigate_a_Dataset.ipynb'])"
   ]
  }
 ],
 "metadata": {
  "kernelspec": {
   "display_name": "Python 3",
   "language": "python",
   "name": "python3"
  },
  "language_info": {
   "codemirror_mode": {
    "name": "ipython",
    "version": 3
   },
   "file_extension": ".py",
   "mimetype": "text/x-python",
   "name": "python",
   "nbconvert_exporter": "python",
   "pygments_lexer": "ipython3",
   "version": "3.6.3"
  }
 },
 "nbformat": 4,
 "nbformat_minor": 2
}
